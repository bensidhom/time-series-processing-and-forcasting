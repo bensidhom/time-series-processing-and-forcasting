{
  "nbformat": 4,
  "nbformat_minor": 0,
  "metadata": {
    "colab": {
      "provenance": []
    },
    "kernelspec": {
      "name": "python3",
      "display_name": "Python 3"
    },
    "language_info": {
      "name": "python"
    }
  },
  "cells": [
    {
      "cell_type": "code",
      "execution_count": null,
      "metadata": {
        "id": "W4oc2FTRyVgA"
      },
      "outputs": [],
      "source": []
    },
    {
      "cell_type": "code",
      "execution_count": null,
      "metadata": {
        "id": "HtZ20TqYbpDS"
      },
      "outputs": [],
      "source": [
        "# Importing the required libraries\n",
        "\n",
        "import pandas as pd\n",
        "import numpy as np\n",
        "import matplotlib.pyplot as plt\n",
        "import tensorflow as tf\n",
        "import seaborn as sns"
      ]
    },
    {
      "cell_type": "code",
      "source": [
        "# The function is defined with default parameters so that if you call it with just your data, it will construct a DataFrame with t-1\n",
        "# as X and t as y\n",
        "\n",
        "def series_to_supervised(data, n_in = 1, n_out = 1, dropnan = True):\n",
        "    n_vars = 1 if type(data) is list else data.shape[1]\n",
        "\n",
        "    df = pd.DataFrame(data)\n",
        "    cols, names = list(), list()\n",
        "\n",
        "    # input sequence (t-n, ... t-1)\n",
        "    for i in range(n_in, 0, -1):\n",
        "        cols.append(df.shift(i))\n",
        "        names += [('var%d(t-%d)' % (j+1, i)) for j in range(n_vars)]\n",
        "\n",
        "    # forecast sequence (t, t+1, ... t+n)\n",
        "    for i in range(0, n_out):\n",
        "        cols.append(df.shift(-i))\n",
        "        if i == 0:\n",
        "            names += [('var%d(t)' % (j+1)) for j in range(n_vars)]\n",
        "        else:\n",
        "            names += [('var%d(t+%d)' % (j+1, i)) for j in range(n_vars)]\n",
        "\n",
        "    # put it all together\n",
        "    agg = pd.concat(cols, axis=1)\n",
        "    agg.columns = names\n",
        "    # drop rows with NaN values\n",
        "    if dropnan:\n",
        "        agg.dropna(inplace=True)\n",
        "\n",
        "    return agg"
      ],
      "metadata": {
        "id": "9X1Eq0lxcHxp"
      },
      "execution_count": null,
      "outputs": []
    },
    {
      "cell_type": "code",
      "source": [],
      "metadata": {
        "id": "H5SXCUHtynZ9"
      },
      "execution_count": null,
      "outputs": []
    },
    {
      "cell_type": "code",
      "source": [
        "df_final = pd.read_csv('/content/Time_multivariate.csv')"
      ],
      "metadata": {
        "id": "qcvDsRGqlY2y"
      },
      "execution_count": null,
      "outputs": []
    },
    {
      "cell_type": "code",
      "source": [
        "df_final"
      ],
      "metadata": {
        "colab": {
          "base_uri": "https://localhost:8080/",
          "height": 424
        },
        "id": "2THdNUQoMwyq",
        "outputId": "50bf62c4-3f89-4b1c-8289-f350f0be578a"
      },
      "execution_count": null,
      "outputs": [
        {
          "output_type": "execute_result",
          "data": {
            "text/plain": [
              "      Unnamed: 0          TIME  amplitude      duration        energy  \\\n",
              "0              0  1.104071e+08   0.000233  2.718000e-04    112.955078   \n",
              "1              1  1.192939e+08   0.000106  9.000000e-07     23.840845   \n",
              "2              2  1.216748e+08   0.000202  8.656000e-04    226.100244   \n",
              "3              3  1.338993e+08   0.000105  1.000000e-07     14.967017   \n",
              "4              4  1.402966e+08   0.000186  5.585000e-04    151.914893   \n",
              "...          ...           ...        ...           ...           ...   \n",
              "4836        4836  3.119715e+10   0.000223  8.996000e-04    375.983716   \n",
              "4837        4837  3.120151e+10   0.000798  9.135900e-03  14549.509741   \n",
              "4838        4838  3.120221e+10   0.000255  3.615800e-03    964.852539   \n",
              "4839        4839  3.120404e+10   0.000125  3.378000e-04    141.166748   \n",
              "4840        4840  3.120408e+10   0.000106  1.000000e-07     45.617285   \n",
              "\n",
              "           rms     rise_time  counts      Force  \n",
              "0     0.000064  2.700000e-06      18   1127.513  \n",
              "1     0.000515  1.000000e-07       1   1127.513  \n",
              "2     0.000051  2.010000e-05      43   2352.635  \n",
              "3     0.001223  1.000000e-07       1   3427.315  \n",
              "4     0.000052  1.190000e-05      24   4408.630  \n",
              "...        ...           ...     ...        ...  \n",
              "4836  0.000065  2.154000e-04     130  53541.380  \n",
              "4837  0.000126  1.207200e-03    2298  53541.380  \n",
              "4838  0.000052  1.616000e-04     257  53541.380  \n",
              "4839  0.000065  2.856000e-04       8  53541.380  \n",
              "4840  0.002136  1.000000e-07       1  53541.380  \n",
              "\n",
              "[4841 rows x 9 columns]"
            ],
            "text/html": [
              "\n",
              "  <div id=\"df-9d05fc29-877d-4b3d-884d-88184fd1163e\" class=\"colab-df-container\">\n",
              "    <div>\n",
              "<style scoped>\n",
              "    .dataframe tbody tr th:only-of-type {\n",
              "        vertical-align: middle;\n",
              "    }\n",
              "\n",
              "    .dataframe tbody tr th {\n",
              "        vertical-align: top;\n",
              "    }\n",
              "\n",
              "    .dataframe thead th {\n",
              "        text-align: right;\n",
              "    }\n",
              "</style>\n",
              "<table border=\"1\" class=\"dataframe\">\n",
              "  <thead>\n",
              "    <tr style=\"text-align: right;\">\n",
              "      <th></th>\n",
              "      <th>Unnamed: 0</th>\n",
              "      <th>TIME</th>\n",
              "      <th>amplitude</th>\n",
              "      <th>duration</th>\n",
              "      <th>energy</th>\n",
              "      <th>rms</th>\n",
              "      <th>rise_time</th>\n",
              "      <th>counts</th>\n",
              "      <th>Force</th>\n",
              "    </tr>\n",
              "  </thead>\n",
              "  <tbody>\n",
              "    <tr>\n",
              "      <th>0</th>\n",
              "      <td>0</td>\n",
              "      <td>1.104071e+08</td>\n",
              "      <td>0.000233</td>\n",
              "      <td>2.718000e-04</td>\n",
              "      <td>112.955078</td>\n",
              "      <td>0.000064</td>\n",
              "      <td>2.700000e-06</td>\n",
              "      <td>18</td>\n",
              "      <td>1127.513</td>\n",
              "    </tr>\n",
              "    <tr>\n",
              "      <th>1</th>\n",
              "      <td>1</td>\n",
              "      <td>1.192939e+08</td>\n",
              "      <td>0.000106</td>\n",
              "      <td>9.000000e-07</td>\n",
              "      <td>23.840845</td>\n",
              "      <td>0.000515</td>\n",
              "      <td>1.000000e-07</td>\n",
              "      <td>1</td>\n",
              "      <td>1127.513</td>\n",
              "    </tr>\n",
              "    <tr>\n",
              "      <th>2</th>\n",
              "      <td>2</td>\n",
              "      <td>1.216748e+08</td>\n",
              "      <td>0.000202</td>\n",
              "      <td>8.656000e-04</td>\n",
              "      <td>226.100244</td>\n",
              "      <td>0.000051</td>\n",
              "      <td>2.010000e-05</td>\n",
              "      <td>43</td>\n",
              "      <td>2352.635</td>\n",
              "    </tr>\n",
              "    <tr>\n",
              "      <th>3</th>\n",
              "      <td>3</td>\n",
              "      <td>1.338993e+08</td>\n",
              "      <td>0.000105</td>\n",
              "      <td>1.000000e-07</td>\n",
              "      <td>14.967017</td>\n",
              "      <td>0.001223</td>\n",
              "      <td>1.000000e-07</td>\n",
              "      <td>1</td>\n",
              "      <td>3427.315</td>\n",
              "    </tr>\n",
              "    <tr>\n",
              "      <th>4</th>\n",
              "      <td>4</td>\n",
              "      <td>1.402966e+08</td>\n",
              "      <td>0.000186</td>\n",
              "      <td>5.585000e-04</td>\n",
              "      <td>151.914893</td>\n",
              "      <td>0.000052</td>\n",
              "      <td>1.190000e-05</td>\n",
              "      <td>24</td>\n",
              "      <td>4408.630</td>\n",
              "    </tr>\n",
              "    <tr>\n",
              "      <th>...</th>\n",
              "      <td>...</td>\n",
              "      <td>...</td>\n",
              "      <td>...</td>\n",
              "      <td>...</td>\n",
              "      <td>...</td>\n",
              "      <td>...</td>\n",
              "      <td>...</td>\n",
              "      <td>...</td>\n",
              "      <td>...</td>\n",
              "    </tr>\n",
              "    <tr>\n",
              "      <th>4836</th>\n",
              "      <td>4836</td>\n",
              "      <td>3.119715e+10</td>\n",
              "      <td>0.000223</td>\n",
              "      <td>8.996000e-04</td>\n",
              "      <td>375.983716</td>\n",
              "      <td>0.000065</td>\n",
              "      <td>2.154000e-04</td>\n",
              "      <td>130</td>\n",
              "      <td>53541.380</td>\n",
              "    </tr>\n",
              "    <tr>\n",
              "      <th>4837</th>\n",
              "      <td>4837</td>\n",
              "      <td>3.120151e+10</td>\n",
              "      <td>0.000798</td>\n",
              "      <td>9.135900e-03</td>\n",
              "      <td>14549.509741</td>\n",
              "      <td>0.000126</td>\n",
              "      <td>1.207200e-03</td>\n",
              "      <td>2298</td>\n",
              "      <td>53541.380</td>\n",
              "    </tr>\n",
              "    <tr>\n",
              "      <th>4838</th>\n",
              "      <td>4838</td>\n",
              "      <td>3.120221e+10</td>\n",
              "      <td>0.000255</td>\n",
              "      <td>3.615800e-03</td>\n",
              "      <td>964.852539</td>\n",
              "      <td>0.000052</td>\n",
              "      <td>1.616000e-04</td>\n",
              "      <td>257</td>\n",
              "      <td>53541.380</td>\n",
              "    </tr>\n",
              "    <tr>\n",
              "      <th>4839</th>\n",
              "      <td>4839</td>\n",
              "      <td>3.120404e+10</td>\n",
              "      <td>0.000125</td>\n",
              "      <td>3.378000e-04</td>\n",
              "      <td>141.166748</td>\n",
              "      <td>0.000065</td>\n",
              "      <td>2.856000e-04</td>\n",
              "      <td>8</td>\n",
              "      <td>53541.380</td>\n",
              "    </tr>\n",
              "    <tr>\n",
              "      <th>4840</th>\n",
              "      <td>4840</td>\n",
              "      <td>3.120408e+10</td>\n",
              "      <td>0.000106</td>\n",
              "      <td>1.000000e-07</td>\n",
              "      <td>45.617285</td>\n",
              "      <td>0.002136</td>\n",
              "      <td>1.000000e-07</td>\n",
              "      <td>1</td>\n",
              "      <td>53541.380</td>\n",
              "    </tr>\n",
              "  </tbody>\n",
              "</table>\n",
              "<p>4841 rows × 9 columns</p>\n",
              "</div>\n",
              "    <div class=\"colab-df-buttons\">\n",
              "\n",
              "  <div class=\"colab-df-container\">\n",
              "    <button class=\"colab-df-convert\" onclick=\"convertToInteractive('df-9d05fc29-877d-4b3d-884d-88184fd1163e')\"\n",
              "            title=\"Convert this dataframe to an interactive table.\"\n",
              "            style=\"display:none;\">\n",
              "\n",
              "  <svg xmlns=\"http://www.w3.org/2000/svg\" height=\"24px\" viewBox=\"0 -960 960 960\">\n",
              "    <path d=\"M120-120v-720h720v720H120Zm60-500h600v-160H180v160Zm220 220h160v-160H400v160Zm0 220h160v-160H400v160ZM180-400h160v-160H180v160Zm440 0h160v-160H620v160ZM180-180h160v-160H180v160Zm440 0h160v-160H620v160Z\"/>\n",
              "  </svg>\n",
              "    </button>\n",
              "\n",
              "  <style>\n",
              "    .colab-df-container {\n",
              "      display:flex;\n",
              "      gap: 12px;\n",
              "    }\n",
              "\n",
              "    .colab-df-convert {\n",
              "      background-color: #E8F0FE;\n",
              "      border: none;\n",
              "      border-radius: 50%;\n",
              "      cursor: pointer;\n",
              "      display: none;\n",
              "      fill: #1967D2;\n",
              "      height: 32px;\n",
              "      padding: 0 0 0 0;\n",
              "      width: 32px;\n",
              "    }\n",
              "\n",
              "    .colab-df-convert:hover {\n",
              "      background-color: #E2EBFA;\n",
              "      box-shadow: 0px 1px 2px rgba(60, 64, 67, 0.3), 0px 1px 3px 1px rgba(60, 64, 67, 0.15);\n",
              "      fill: #174EA6;\n",
              "    }\n",
              "\n",
              "    .colab-df-buttons div {\n",
              "      margin-bottom: 4px;\n",
              "    }\n",
              "\n",
              "    [theme=dark] .colab-df-convert {\n",
              "      background-color: #3B4455;\n",
              "      fill: #D2E3FC;\n",
              "    }\n",
              "\n",
              "    [theme=dark] .colab-df-convert:hover {\n",
              "      background-color: #434B5C;\n",
              "      box-shadow: 0px 1px 3px 1px rgba(0, 0, 0, 0.15);\n",
              "      filter: drop-shadow(0px 1px 2px rgba(0, 0, 0, 0.3));\n",
              "      fill: #FFFFFF;\n",
              "    }\n",
              "  </style>\n",
              "\n",
              "    <script>\n",
              "      const buttonEl =\n",
              "        document.querySelector('#df-9d05fc29-877d-4b3d-884d-88184fd1163e button.colab-df-convert');\n",
              "      buttonEl.style.display =\n",
              "        google.colab.kernel.accessAllowed ? 'block' : 'none';\n",
              "\n",
              "      async function convertToInteractive(key) {\n",
              "        const element = document.querySelector('#df-9d05fc29-877d-4b3d-884d-88184fd1163e');\n",
              "        const dataTable =\n",
              "          await google.colab.kernel.invokeFunction('convertToInteractive',\n",
              "                                                    [key], {});\n",
              "        if (!dataTable) return;\n",
              "\n",
              "        const docLinkHtml = 'Like what you see? Visit the ' +\n",
              "          '<a target=\"_blank\" href=https://colab.research.google.com/notebooks/data_table.ipynb>data table notebook</a>'\n",
              "          + ' to learn more about interactive tables.';\n",
              "        element.innerHTML = '';\n",
              "        dataTable['output_type'] = 'display_data';\n",
              "        await google.colab.output.renderOutput(dataTable, element);\n",
              "        const docLink = document.createElement('div');\n",
              "        docLink.innerHTML = docLinkHtml;\n",
              "        element.appendChild(docLink);\n",
              "      }\n",
              "    </script>\n",
              "  </div>\n",
              "\n",
              "\n",
              "<div id=\"df-12d43af7-ef33-469e-ba20-b7265fd3c00b\">\n",
              "  <button class=\"colab-df-quickchart\" onclick=\"quickchart('df-12d43af7-ef33-469e-ba20-b7265fd3c00b')\"\n",
              "            title=\"Suggest charts\"\n",
              "            style=\"display:none;\">\n",
              "\n",
              "<svg xmlns=\"http://www.w3.org/2000/svg\" height=\"24px\"viewBox=\"0 0 24 24\"\n",
              "     width=\"24px\">\n",
              "    <g>\n",
              "        <path d=\"M19 3H5c-1.1 0-2 .9-2 2v14c0 1.1.9 2 2 2h14c1.1 0 2-.9 2-2V5c0-1.1-.9-2-2-2zM9 17H7v-7h2v7zm4 0h-2V7h2v10zm4 0h-2v-4h2v4z\"/>\n",
              "    </g>\n",
              "</svg>\n",
              "  </button>\n",
              "\n",
              "<style>\n",
              "  .colab-df-quickchart {\n",
              "      --bg-color: #E8F0FE;\n",
              "      --fill-color: #1967D2;\n",
              "      --hover-bg-color: #E2EBFA;\n",
              "      --hover-fill-color: #174EA6;\n",
              "      --disabled-fill-color: #AAA;\n",
              "      --disabled-bg-color: #DDD;\n",
              "  }\n",
              "\n",
              "  [theme=dark] .colab-df-quickchart {\n",
              "      --bg-color: #3B4455;\n",
              "      --fill-color: #D2E3FC;\n",
              "      --hover-bg-color: #434B5C;\n",
              "      --hover-fill-color: #FFFFFF;\n",
              "      --disabled-bg-color: #3B4455;\n",
              "      --disabled-fill-color: #666;\n",
              "  }\n",
              "\n",
              "  .colab-df-quickchart {\n",
              "    background-color: var(--bg-color);\n",
              "    border: none;\n",
              "    border-radius: 50%;\n",
              "    cursor: pointer;\n",
              "    display: none;\n",
              "    fill: var(--fill-color);\n",
              "    height: 32px;\n",
              "    padding: 0;\n",
              "    width: 32px;\n",
              "  }\n",
              "\n",
              "  .colab-df-quickchart:hover {\n",
              "    background-color: var(--hover-bg-color);\n",
              "    box-shadow: 0 1px 2px rgba(60, 64, 67, 0.3), 0 1px 3px 1px rgba(60, 64, 67, 0.15);\n",
              "    fill: var(--button-hover-fill-color);\n",
              "  }\n",
              "\n",
              "  .colab-df-quickchart-complete:disabled,\n",
              "  .colab-df-quickchart-complete:disabled:hover {\n",
              "    background-color: var(--disabled-bg-color);\n",
              "    fill: var(--disabled-fill-color);\n",
              "    box-shadow: none;\n",
              "  }\n",
              "\n",
              "  .colab-df-spinner {\n",
              "    border: 2px solid var(--fill-color);\n",
              "    border-color: transparent;\n",
              "    border-bottom-color: var(--fill-color);\n",
              "    animation:\n",
              "      spin 1s steps(1) infinite;\n",
              "  }\n",
              "\n",
              "  @keyframes spin {\n",
              "    0% {\n",
              "      border-color: transparent;\n",
              "      border-bottom-color: var(--fill-color);\n",
              "      border-left-color: var(--fill-color);\n",
              "    }\n",
              "    20% {\n",
              "      border-color: transparent;\n",
              "      border-left-color: var(--fill-color);\n",
              "      border-top-color: var(--fill-color);\n",
              "    }\n",
              "    30% {\n",
              "      border-color: transparent;\n",
              "      border-left-color: var(--fill-color);\n",
              "      border-top-color: var(--fill-color);\n",
              "      border-right-color: var(--fill-color);\n",
              "    }\n",
              "    40% {\n",
              "      border-color: transparent;\n",
              "      border-right-color: var(--fill-color);\n",
              "      border-top-color: var(--fill-color);\n",
              "    }\n",
              "    60% {\n",
              "      border-color: transparent;\n",
              "      border-right-color: var(--fill-color);\n",
              "    }\n",
              "    80% {\n",
              "      border-color: transparent;\n",
              "      border-right-color: var(--fill-color);\n",
              "      border-bottom-color: var(--fill-color);\n",
              "    }\n",
              "    90% {\n",
              "      border-color: transparent;\n",
              "      border-bottom-color: var(--fill-color);\n",
              "    }\n",
              "  }\n",
              "</style>\n",
              "\n",
              "  <script>\n",
              "    async function quickchart(key) {\n",
              "      const quickchartButtonEl =\n",
              "        document.querySelector('#' + key + ' button');\n",
              "      quickchartButtonEl.disabled = true;  // To prevent multiple clicks.\n",
              "      quickchartButtonEl.classList.add('colab-df-spinner');\n",
              "      try {\n",
              "        const charts = await google.colab.kernel.invokeFunction(\n",
              "            'suggestCharts', [key], {});\n",
              "      } catch (error) {\n",
              "        console.error('Error during call to suggestCharts:', error);\n",
              "      }\n",
              "      quickchartButtonEl.classList.remove('colab-df-spinner');\n",
              "      quickchartButtonEl.classList.add('colab-df-quickchart-complete');\n",
              "    }\n",
              "    (() => {\n",
              "      let quickchartButtonEl =\n",
              "        document.querySelector('#df-12d43af7-ef33-469e-ba20-b7265fd3c00b button');\n",
              "      quickchartButtonEl.style.display =\n",
              "        google.colab.kernel.accessAllowed ? 'block' : 'none';\n",
              "    })();\n",
              "  </script>\n",
              "</div>\n",
              "\n",
              "  <div id=\"id_44b181be-2d5d-4c36-a160-18f267d2aa17\">\n",
              "    <style>\n",
              "      .colab-df-generate {\n",
              "        background-color: #E8F0FE;\n",
              "        border: none;\n",
              "        border-radius: 50%;\n",
              "        cursor: pointer;\n",
              "        display: none;\n",
              "        fill: #1967D2;\n",
              "        height: 32px;\n",
              "        padding: 0 0 0 0;\n",
              "        width: 32px;\n",
              "      }\n",
              "\n",
              "      .colab-df-generate:hover {\n",
              "        background-color: #E2EBFA;\n",
              "        box-shadow: 0px 1px 2px rgba(60, 64, 67, 0.3), 0px 1px 3px 1px rgba(60, 64, 67, 0.15);\n",
              "        fill: #174EA6;\n",
              "      }\n",
              "\n",
              "      [theme=dark] .colab-df-generate {\n",
              "        background-color: #3B4455;\n",
              "        fill: #D2E3FC;\n",
              "      }\n",
              "\n",
              "      [theme=dark] .colab-df-generate:hover {\n",
              "        background-color: #434B5C;\n",
              "        box-shadow: 0px 1px 3px 1px rgba(0, 0, 0, 0.15);\n",
              "        filter: drop-shadow(0px 1px 2px rgba(0, 0, 0, 0.3));\n",
              "        fill: #FFFFFF;\n",
              "      }\n",
              "    </style>\n",
              "    <button class=\"colab-df-generate\" onclick=\"generateWithVariable('df_final')\"\n",
              "            title=\"Generate code using this dataframe.\"\n",
              "            style=\"display:none;\">\n",
              "\n",
              "  <svg xmlns=\"http://www.w3.org/2000/svg\" height=\"24px\"viewBox=\"0 0 24 24\"\n",
              "       width=\"24px\">\n",
              "    <path d=\"M7,19H8.4L18.45,9,17,7.55,7,17.6ZM5,21V16.75L18.45,3.32a2,2,0,0,1,2.83,0l1.4,1.43a1.91,1.91,0,0,1,.58,1.4,1.91,1.91,0,0,1-.58,1.4L9.25,21ZM18.45,9,17,7.55Zm-12,3A5.31,5.31,0,0,0,4.9,8.1,5.31,5.31,0,0,0,1,6.5,5.31,5.31,0,0,0,4.9,4.9,5.31,5.31,0,0,0,6.5,1,5.31,5.31,0,0,0,8.1,4.9,5.31,5.31,0,0,0,12,6.5,5.46,5.46,0,0,0,6.5,12Z\"/>\n",
              "  </svg>\n",
              "    </button>\n",
              "    <script>\n",
              "      (() => {\n",
              "      const buttonEl =\n",
              "        document.querySelector('#id_44b181be-2d5d-4c36-a160-18f267d2aa17 button.colab-df-generate');\n",
              "      buttonEl.style.display =\n",
              "        google.colab.kernel.accessAllowed ? 'block' : 'none';\n",
              "\n",
              "      buttonEl.onclick = () => {\n",
              "        google.colab.notebook.generateWithVariable('df_final');\n",
              "      }\n",
              "      })();\n",
              "    </script>\n",
              "  </div>\n",
              "\n",
              "    </div>\n",
              "  </div>\n"
            ],
            "application/vnd.google.colaboratory.intrinsic+json": {
              "type": "dataframe",
              "variable_name": "df_final",
              "summary": "{\n  \"name\": \"df_final\",\n  \"rows\": 4841,\n  \"fields\": [\n    {\n      \"column\": \"Unnamed: 0\",\n      \"properties\": {\n        \"dtype\": \"number\",\n        \"std\": 1397,\n        \"min\": 0,\n        \"max\": 4840,\n        \"num_unique_values\": 4841,\n        \"samples\": [\n          3200,\n          2527,\n          4102\n        ],\n        \"semantic_type\": \"\",\n        \"description\": \"\"\n      }\n    },\n    {\n      \"column\": \"TIME\",\n      \"properties\": {\n        \"dtype\": \"number\",\n        \"std\": 4317648577.62642,\n        \"min\": 110407065.0,\n        \"max\": 31204082299.0,\n        \"num_unique_values\": 4841,\n        \"samples\": [\n          11083053867.0,\n          9976804747.0,\n          15039198153.0\n        ],\n        \"semantic_type\": \"\",\n        \"description\": \"\"\n      }\n    },\n    {\n      \"column\": \"amplitude\",\n      \"properties\": {\n        \"dtype\": \"number\",\n        \"std\": 0.005962430952615077,\n        \"min\": 0.0001015625,\n        \"max\": 0.0997615871107578,\n        \"num_unique_values\": 780,\n        \"samples\": [\n          0.0881725894351005,\n          0.0036732236163616,\n          0.0049595369009971\n        ],\n        \"semantic_type\": \"\",\n        \"description\": \"\"\n      }\n    },\n    {\n      \"column\": \"duration\",\n      \"properties\": {\n        \"dtype\": \"number\",\n        \"std\": 0.03329052626298224,\n        \"min\": 1.0000000000000001e-07,\n        \"max\": 0.1048576,\n        \"num_unique_values\": 2194,\n        \"samples\": [\n          0.0002652,\n          0.0002288,\n          0.0001254\n        ],\n        \"semantic_type\": \"\",\n        \"description\": \"\"\n      }\n    },\n    {\n      \"column\": \"energy\",\n      \"properties\": {\n        \"dtype\": \"number\",\n        \"std\": 2266173.454129511,\n        \"min\": 2.179641490670252,\n        \"max\": 91416345.39824589,\n        \"num_unique_values\": 4838,\n        \"samples\": [\n          205.55432802958504,\n          4140.800871965171,\n          77.75457381982619\n        ],\n        \"semantic_type\": \"\",\n        \"description\": \"\"\n      }\n    },\n    {\n      \"column\": \"rms\",\n      \"properties\": {\n        \"dtype\": \"number\",\n        \"std\": 0.0003002540351293679,\n        \"min\": 3.7510929125e-06,\n        \"max\": 0.0134299443199999,\n        \"num_unique_values\": 2255,\n        \"samples\": [\n          3.0318008939062493e-05,\n          2.770421547343749e-05,\n          4.405248e-05\n        ],\n        \"semantic_type\": \"\",\n        \"description\": \"\"\n      }\n    },\n    {\n      \"column\": \"rise_time\",\n      \"properties\": {\n        \"dtype\": \"number\",\n        \"std\": 0.012608249148270198,\n        \"min\": 1.0000000000000001e-07,\n        \"max\": 0.104627,\n        \"num_unique_values\": 1486,\n        \"samples\": [\n          0.0661469,\n          0.0002898,\n          0.000633\n        ],\n        \"semantic_type\": \"\",\n        \"description\": \"\"\n      }\n    },\n    {\n      \"column\": \"counts\",\n      \"properties\": {\n        \"dtype\": \"number\",\n        \"std\": 1321,\n        \"min\": 0,\n        \"max\": 12309,\n        \"num_unique_values\": 742,\n        \"samples\": [\n          124,\n          58,\n          451\n        ],\n        \"semantic_type\": \"\",\n        \"description\": \"\"\n      }\n    },\n    {\n      \"column\": \"Force\",\n      \"properties\": {\n        \"dtype\": \"number\",\n        \"std\": 12919.891424062489,\n        \"min\": 1.366933,\n        \"max\": 68870.64,\n        \"num_unique_values\": 826,\n        \"samples\": [\n          64359.27,\n          34714.81,\n          65188.84\n        ],\n        \"semantic_type\": \"\",\n        \"description\": \"\"\n      }\n    }\n  ]\n}"
            }
          },
          "metadata": {},
          "execution_count": 4
        }
      ]
    },
    {
      "cell_type": "code",
      "source": [
        "df_final.drop(columns=df_final.columns[[0,8]], axis=1, inplace=True)"
      ],
      "metadata": {
        "id": "qAzzgrq0Mw1y"
      },
      "execution_count": null,
      "outputs": []
    },
    {
      "cell_type": "code",
      "source": [
        "df1=df_final"
      ],
      "metadata": {
        "id": "6-keKQF5Mw42"
      },
      "execution_count": null,
      "outputs": []
    },
    {
      "cell_type": "code",
      "source": [
        "from sklearn.metrics import mean_absolute_error , mean_squared_error\n",
        "from sklearn.preprocessing import MinMaxScaler\n",
        "from sklearn.preprocessing import LabelEncoder"
      ],
      "metadata": {
        "id": "vHa7h0ynb7v1"
      },
      "execution_count": null,
      "outputs": []
    },
    {
      "cell_type": "code",
      "source": [],
      "metadata": {
        "id": "N0uODQgOyncg"
      },
      "execution_count": null,
      "outputs": []
    },
    {
      "cell_type": "code",
      "source": [
        "df_final = pd.read_csv('/content/Time_multivariate.csv')"
      ],
      "metadata": {
        "id": "9y6lPLvNzNpQ"
      },
      "execution_count": null,
      "outputs": []
    },
    {
      "cell_type": "code",
      "source": [
        "df_final"
      ],
      "metadata": {
        "colab": {
          "base_uri": "https://localhost:8080/",
          "height": 424
        },
        "outputId": "f8f57473-49e9-4fd2-8ff5-f9368ca32c81",
        "id": "TybasW8YzNpR"
      },
      "execution_count": null,
      "outputs": [
        {
          "output_type": "execute_result",
          "data": {
            "text/plain": [
              "      Unnamed: 0          TIME  amplitude      duration        energy  \\\n",
              "0              0  1.104071e+08   0.000233  2.718000e-04    112.955078   \n",
              "1              1  1.192939e+08   0.000106  9.000000e-07     23.840845   \n",
              "2              2  1.216748e+08   0.000202  8.656000e-04    226.100244   \n",
              "3              3  1.338993e+08   0.000105  1.000000e-07     14.967017   \n",
              "4              4  1.402966e+08   0.000186  5.585000e-04    151.914893   \n",
              "...          ...           ...        ...           ...           ...   \n",
              "4836        4836  3.119715e+10   0.000223  8.996000e-04    375.983716   \n",
              "4837        4837  3.120151e+10   0.000798  9.135900e-03  14549.509741   \n",
              "4838        4838  3.120221e+10   0.000255  3.615800e-03    964.852539   \n",
              "4839        4839  3.120404e+10   0.000125  3.378000e-04    141.166748   \n",
              "4840        4840  3.120408e+10   0.000106  1.000000e-07     45.617285   \n",
              "\n",
              "           rms     rise_time  counts      Force  \n",
              "0     0.000064  2.700000e-06      18   1127.513  \n",
              "1     0.000515  1.000000e-07       1   1127.513  \n",
              "2     0.000051  2.010000e-05      43   2352.635  \n",
              "3     0.001223  1.000000e-07       1   3427.315  \n",
              "4     0.000052  1.190000e-05      24   4408.630  \n",
              "...        ...           ...     ...        ...  \n",
              "4836  0.000065  2.154000e-04     130  53541.380  \n",
              "4837  0.000126  1.207200e-03    2298  53541.380  \n",
              "4838  0.000052  1.616000e-04     257  53541.380  \n",
              "4839  0.000065  2.856000e-04       8  53541.380  \n",
              "4840  0.002136  1.000000e-07       1  53541.380  \n",
              "\n",
              "[4841 rows x 9 columns]"
            ],
            "text/html": [
              "\n",
              "  <div id=\"df-980d407c-7852-44ce-9c78-a2bd7f35cdf6\" class=\"colab-df-container\">\n",
              "    <div>\n",
              "<style scoped>\n",
              "    .dataframe tbody tr th:only-of-type {\n",
              "        vertical-align: middle;\n",
              "    }\n",
              "\n",
              "    .dataframe tbody tr th {\n",
              "        vertical-align: top;\n",
              "    }\n",
              "\n",
              "    .dataframe thead th {\n",
              "        text-align: right;\n",
              "    }\n",
              "</style>\n",
              "<table border=\"1\" class=\"dataframe\">\n",
              "  <thead>\n",
              "    <tr style=\"text-align: right;\">\n",
              "      <th></th>\n",
              "      <th>Unnamed: 0</th>\n",
              "      <th>TIME</th>\n",
              "      <th>amplitude</th>\n",
              "      <th>duration</th>\n",
              "      <th>energy</th>\n",
              "      <th>rms</th>\n",
              "      <th>rise_time</th>\n",
              "      <th>counts</th>\n",
              "      <th>Force</th>\n",
              "    </tr>\n",
              "  </thead>\n",
              "  <tbody>\n",
              "    <tr>\n",
              "      <th>0</th>\n",
              "      <td>0</td>\n",
              "      <td>1.104071e+08</td>\n",
              "      <td>0.000233</td>\n",
              "      <td>2.718000e-04</td>\n",
              "      <td>112.955078</td>\n",
              "      <td>0.000064</td>\n",
              "      <td>2.700000e-06</td>\n",
              "      <td>18</td>\n",
              "      <td>1127.513</td>\n",
              "    </tr>\n",
              "    <tr>\n",
              "      <th>1</th>\n",
              "      <td>1</td>\n",
              "      <td>1.192939e+08</td>\n",
              "      <td>0.000106</td>\n",
              "      <td>9.000000e-07</td>\n",
              "      <td>23.840845</td>\n",
              "      <td>0.000515</td>\n",
              "      <td>1.000000e-07</td>\n",
              "      <td>1</td>\n",
              "      <td>1127.513</td>\n",
              "    </tr>\n",
              "    <tr>\n",
              "      <th>2</th>\n",
              "      <td>2</td>\n",
              "      <td>1.216748e+08</td>\n",
              "      <td>0.000202</td>\n",
              "      <td>8.656000e-04</td>\n",
              "      <td>226.100244</td>\n",
              "      <td>0.000051</td>\n",
              "      <td>2.010000e-05</td>\n",
              "      <td>43</td>\n",
              "      <td>2352.635</td>\n",
              "    </tr>\n",
              "    <tr>\n",
              "      <th>3</th>\n",
              "      <td>3</td>\n",
              "      <td>1.338993e+08</td>\n",
              "      <td>0.000105</td>\n",
              "      <td>1.000000e-07</td>\n",
              "      <td>14.967017</td>\n",
              "      <td>0.001223</td>\n",
              "      <td>1.000000e-07</td>\n",
              "      <td>1</td>\n",
              "      <td>3427.315</td>\n",
              "    </tr>\n",
              "    <tr>\n",
              "      <th>4</th>\n",
              "      <td>4</td>\n",
              "      <td>1.402966e+08</td>\n",
              "      <td>0.000186</td>\n",
              "      <td>5.585000e-04</td>\n",
              "      <td>151.914893</td>\n",
              "      <td>0.000052</td>\n",
              "      <td>1.190000e-05</td>\n",
              "      <td>24</td>\n",
              "      <td>4408.630</td>\n",
              "    </tr>\n",
              "    <tr>\n",
              "      <th>...</th>\n",
              "      <td>...</td>\n",
              "      <td>...</td>\n",
              "      <td>...</td>\n",
              "      <td>...</td>\n",
              "      <td>...</td>\n",
              "      <td>...</td>\n",
              "      <td>...</td>\n",
              "      <td>...</td>\n",
              "      <td>...</td>\n",
              "    </tr>\n",
              "    <tr>\n",
              "      <th>4836</th>\n",
              "      <td>4836</td>\n",
              "      <td>3.119715e+10</td>\n",
              "      <td>0.000223</td>\n",
              "      <td>8.996000e-04</td>\n",
              "      <td>375.983716</td>\n",
              "      <td>0.000065</td>\n",
              "      <td>2.154000e-04</td>\n",
              "      <td>130</td>\n",
              "      <td>53541.380</td>\n",
              "    </tr>\n",
              "    <tr>\n",
              "      <th>4837</th>\n",
              "      <td>4837</td>\n",
              "      <td>3.120151e+10</td>\n",
              "      <td>0.000798</td>\n",
              "      <td>9.135900e-03</td>\n",
              "      <td>14549.509741</td>\n",
              "      <td>0.000126</td>\n",
              "      <td>1.207200e-03</td>\n",
              "      <td>2298</td>\n",
              "      <td>53541.380</td>\n",
              "    </tr>\n",
              "    <tr>\n",
              "      <th>4838</th>\n",
              "      <td>4838</td>\n",
              "      <td>3.120221e+10</td>\n",
              "      <td>0.000255</td>\n",
              "      <td>3.615800e-03</td>\n",
              "      <td>964.852539</td>\n",
              "      <td>0.000052</td>\n",
              "      <td>1.616000e-04</td>\n",
              "      <td>257</td>\n",
              "      <td>53541.380</td>\n",
              "    </tr>\n",
              "    <tr>\n",
              "      <th>4839</th>\n",
              "      <td>4839</td>\n",
              "      <td>3.120404e+10</td>\n",
              "      <td>0.000125</td>\n",
              "      <td>3.378000e-04</td>\n",
              "      <td>141.166748</td>\n",
              "      <td>0.000065</td>\n",
              "      <td>2.856000e-04</td>\n",
              "      <td>8</td>\n",
              "      <td>53541.380</td>\n",
              "    </tr>\n",
              "    <tr>\n",
              "      <th>4840</th>\n",
              "      <td>4840</td>\n",
              "      <td>3.120408e+10</td>\n",
              "      <td>0.000106</td>\n",
              "      <td>1.000000e-07</td>\n",
              "      <td>45.617285</td>\n",
              "      <td>0.002136</td>\n",
              "      <td>1.000000e-07</td>\n",
              "      <td>1</td>\n",
              "      <td>53541.380</td>\n",
              "    </tr>\n",
              "  </tbody>\n",
              "</table>\n",
              "<p>4841 rows × 9 columns</p>\n",
              "</div>\n",
              "    <div class=\"colab-df-buttons\">\n",
              "\n",
              "  <div class=\"colab-df-container\">\n",
              "    <button class=\"colab-df-convert\" onclick=\"convertToInteractive('df-980d407c-7852-44ce-9c78-a2bd7f35cdf6')\"\n",
              "            title=\"Convert this dataframe to an interactive table.\"\n",
              "            style=\"display:none;\">\n",
              "\n",
              "  <svg xmlns=\"http://www.w3.org/2000/svg\" height=\"24px\" viewBox=\"0 -960 960 960\">\n",
              "    <path d=\"M120-120v-720h720v720H120Zm60-500h600v-160H180v160Zm220 220h160v-160H400v160Zm0 220h160v-160H400v160ZM180-400h160v-160H180v160Zm440 0h160v-160H620v160ZM180-180h160v-160H180v160Zm440 0h160v-160H620v160Z\"/>\n",
              "  </svg>\n",
              "    </button>\n",
              "\n",
              "  <style>\n",
              "    .colab-df-container {\n",
              "      display:flex;\n",
              "      gap: 12px;\n",
              "    }\n",
              "\n",
              "    .colab-df-convert {\n",
              "      background-color: #E8F0FE;\n",
              "      border: none;\n",
              "      border-radius: 50%;\n",
              "      cursor: pointer;\n",
              "      display: none;\n",
              "      fill: #1967D2;\n",
              "      height: 32px;\n",
              "      padding: 0 0 0 0;\n",
              "      width: 32px;\n",
              "    }\n",
              "\n",
              "    .colab-df-convert:hover {\n",
              "      background-color: #E2EBFA;\n",
              "      box-shadow: 0px 1px 2px rgba(60, 64, 67, 0.3), 0px 1px 3px 1px rgba(60, 64, 67, 0.15);\n",
              "      fill: #174EA6;\n",
              "    }\n",
              "\n",
              "    .colab-df-buttons div {\n",
              "      margin-bottom: 4px;\n",
              "    }\n",
              "\n",
              "    [theme=dark] .colab-df-convert {\n",
              "      background-color: #3B4455;\n",
              "      fill: #D2E3FC;\n",
              "    }\n",
              "\n",
              "    [theme=dark] .colab-df-convert:hover {\n",
              "      background-color: #434B5C;\n",
              "      box-shadow: 0px 1px 3px 1px rgba(0, 0, 0, 0.15);\n",
              "      filter: drop-shadow(0px 1px 2px rgba(0, 0, 0, 0.3));\n",
              "      fill: #FFFFFF;\n",
              "    }\n",
              "  </style>\n",
              "\n",
              "    <script>\n",
              "      const buttonEl =\n",
              "        document.querySelector('#df-980d407c-7852-44ce-9c78-a2bd7f35cdf6 button.colab-df-convert');\n",
              "      buttonEl.style.display =\n",
              "        google.colab.kernel.accessAllowed ? 'block' : 'none';\n",
              "\n",
              "      async function convertToInteractive(key) {\n",
              "        const element = document.querySelector('#df-980d407c-7852-44ce-9c78-a2bd7f35cdf6');\n",
              "        const dataTable =\n",
              "          await google.colab.kernel.invokeFunction('convertToInteractive',\n",
              "                                                    [key], {});\n",
              "        if (!dataTable) return;\n",
              "\n",
              "        const docLinkHtml = 'Like what you see? Visit the ' +\n",
              "          '<a target=\"_blank\" href=https://colab.research.google.com/notebooks/data_table.ipynb>data table notebook</a>'\n",
              "          + ' to learn more about interactive tables.';\n",
              "        element.innerHTML = '';\n",
              "        dataTable['output_type'] = 'display_data';\n",
              "        await google.colab.output.renderOutput(dataTable, element);\n",
              "        const docLink = document.createElement('div');\n",
              "        docLink.innerHTML = docLinkHtml;\n",
              "        element.appendChild(docLink);\n",
              "      }\n",
              "    </script>\n",
              "  </div>\n",
              "\n",
              "\n",
              "<div id=\"df-267d70d3-a665-46c8-a2a7-d9d0aa0d6039\">\n",
              "  <button class=\"colab-df-quickchart\" onclick=\"quickchart('df-267d70d3-a665-46c8-a2a7-d9d0aa0d6039')\"\n",
              "            title=\"Suggest charts\"\n",
              "            style=\"display:none;\">\n",
              "\n",
              "<svg xmlns=\"http://www.w3.org/2000/svg\" height=\"24px\"viewBox=\"0 0 24 24\"\n",
              "     width=\"24px\">\n",
              "    <g>\n",
              "        <path d=\"M19 3H5c-1.1 0-2 .9-2 2v14c0 1.1.9 2 2 2h14c1.1 0 2-.9 2-2V5c0-1.1-.9-2-2-2zM9 17H7v-7h2v7zm4 0h-2V7h2v10zm4 0h-2v-4h2v4z\"/>\n",
              "    </g>\n",
              "</svg>\n",
              "  </button>\n",
              "\n",
              "<style>\n",
              "  .colab-df-quickchart {\n",
              "      --bg-color: #E8F0FE;\n",
              "      --fill-color: #1967D2;\n",
              "      --hover-bg-color: #E2EBFA;\n",
              "      --hover-fill-color: #174EA6;\n",
              "      --disabled-fill-color: #AAA;\n",
              "      --disabled-bg-color: #DDD;\n",
              "  }\n",
              "\n",
              "  [theme=dark] .colab-df-quickchart {\n",
              "      --bg-color: #3B4455;\n",
              "      --fill-color: #D2E3FC;\n",
              "      --hover-bg-color: #434B5C;\n",
              "      --hover-fill-color: #FFFFFF;\n",
              "      --disabled-bg-color: #3B4455;\n",
              "      --disabled-fill-color: #666;\n",
              "  }\n",
              "\n",
              "  .colab-df-quickchart {\n",
              "    background-color: var(--bg-color);\n",
              "    border: none;\n",
              "    border-radius: 50%;\n",
              "    cursor: pointer;\n",
              "    display: none;\n",
              "    fill: var(--fill-color);\n",
              "    height: 32px;\n",
              "    padding: 0;\n",
              "    width: 32px;\n",
              "  }\n",
              "\n",
              "  .colab-df-quickchart:hover {\n",
              "    background-color: var(--hover-bg-color);\n",
              "    box-shadow: 0 1px 2px rgba(60, 64, 67, 0.3), 0 1px 3px 1px rgba(60, 64, 67, 0.15);\n",
              "    fill: var(--button-hover-fill-color);\n",
              "  }\n",
              "\n",
              "  .colab-df-quickchart-complete:disabled,\n",
              "  .colab-df-quickchart-complete:disabled:hover {\n",
              "    background-color: var(--disabled-bg-color);\n",
              "    fill: var(--disabled-fill-color);\n",
              "    box-shadow: none;\n",
              "  }\n",
              "\n",
              "  .colab-df-spinner {\n",
              "    border: 2px solid var(--fill-color);\n",
              "    border-color: transparent;\n",
              "    border-bottom-color: var(--fill-color);\n",
              "    animation:\n",
              "      spin 1s steps(1) infinite;\n",
              "  }\n",
              "\n",
              "  @keyframes spin {\n",
              "    0% {\n",
              "      border-color: transparent;\n",
              "      border-bottom-color: var(--fill-color);\n",
              "      border-left-color: var(--fill-color);\n",
              "    }\n",
              "    20% {\n",
              "      border-color: transparent;\n",
              "      border-left-color: var(--fill-color);\n",
              "      border-top-color: var(--fill-color);\n",
              "    }\n",
              "    30% {\n",
              "      border-color: transparent;\n",
              "      border-left-color: var(--fill-color);\n",
              "      border-top-color: var(--fill-color);\n",
              "      border-right-color: var(--fill-color);\n",
              "    }\n",
              "    40% {\n",
              "      border-color: transparent;\n",
              "      border-right-color: var(--fill-color);\n",
              "      border-top-color: var(--fill-color);\n",
              "    }\n",
              "    60% {\n",
              "      border-color: transparent;\n",
              "      border-right-color: var(--fill-color);\n",
              "    }\n",
              "    80% {\n",
              "      border-color: transparent;\n",
              "      border-right-color: var(--fill-color);\n",
              "      border-bottom-color: var(--fill-color);\n",
              "    }\n",
              "    90% {\n",
              "      border-color: transparent;\n",
              "      border-bottom-color: var(--fill-color);\n",
              "    }\n",
              "  }\n",
              "</style>\n",
              "\n",
              "  <script>\n",
              "    async function quickchart(key) {\n",
              "      const quickchartButtonEl =\n",
              "        document.querySelector('#' + key + ' button');\n",
              "      quickchartButtonEl.disabled = true;  // To prevent multiple clicks.\n",
              "      quickchartButtonEl.classList.add('colab-df-spinner');\n",
              "      try {\n",
              "        const charts = await google.colab.kernel.invokeFunction(\n",
              "            'suggestCharts', [key], {});\n",
              "      } catch (error) {\n",
              "        console.error('Error during call to suggestCharts:', error);\n",
              "      }\n",
              "      quickchartButtonEl.classList.remove('colab-df-spinner');\n",
              "      quickchartButtonEl.classList.add('colab-df-quickchart-complete');\n",
              "    }\n",
              "    (() => {\n",
              "      let quickchartButtonEl =\n",
              "        document.querySelector('#df-267d70d3-a665-46c8-a2a7-d9d0aa0d6039 button');\n",
              "      quickchartButtonEl.style.display =\n",
              "        google.colab.kernel.accessAllowed ? 'block' : 'none';\n",
              "    })();\n",
              "  </script>\n",
              "</div>\n",
              "\n",
              "  <div id=\"id_4ba93794-a6cc-4d01-9e4b-1424cd28ea32\">\n",
              "    <style>\n",
              "      .colab-df-generate {\n",
              "        background-color: #E8F0FE;\n",
              "        border: none;\n",
              "        border-radius: 50%;\n",
              "        cursor: pointer;\n",
              "        display: none;\n",
              "        fill: #1967D2;\n",
              "        height: 32px;\n",
              "        padding: 0 0 0 0;\n",
              "        width: 32px;\n",
              "      }\n",
              "\n",
              "      .colab-df-generate:hover {\n",
              "        background-color: #E2EBFA;\n",
              "        box-shadow: 0px 1px 2px rgba(60, 64, 67, 0.3), 0px 1px 3px 1px rgba(60, 64, 67, 0.15);\n",
              "        fill: #174EA6;\n",
              "      }\n",
              "\n",
              "      [theme=dark] .colab-df-generate {\n",
              "        background-color: #3B4455;\n",
              "        fill: #D2E3FC;\n",
              "      }\n",
              "\n",
              "      [theme=dark] .colab-df-generate:hover {\n",
              "        background-color: #434B5C;\n",
              "        box-shadow: 0px 1px 3px 1px rgba(0, 0, 0, 0.15);\n",
              "        filter: drop-shadow(0px 1px 2px rgba(0, 0, 0, 0.3));\n",
              "        fill: #FFFFFF;\n",
              "      }\n",
              "    </style>\n",
              "    <button class=\"colab-df-generate\" onclick=\"generateWithVariable('df_final')\"\n",
              "            title=\"Generate code using this dataframe.\"\n",
              "            style=\"display:none;\">\n",
              "\n",
              "  <svg xmlns=\"http://www.w3.org/2000/svg\" height=\"24px\"viewBox=\"0 0 24 24\"\n",
              "       width=\"24px\">\n",
              "    <path d=\"M7,19H8.4L18.45,9,17,7.55,7,17.6ZM5,21V16.75L18.45,3.32a2,2,0,0,1,2.83,0l1.4,1.43a1.91,1.91,0,0,1,.58,1.4,1.91,1.91,0,0,1-.58,1.4L9.25,21ZM18.45,9,17,7.55Zm-12,3A5.31,5.31,0,0,0,4.9,8.1,5.31,5.31,0,0,0,1,6.5,5.31,5.31,0,0,0,4.9,4.9,5.31,5.31,0,0,0,6.5,1,5.31,5.31,0,0,0,8.1,4.9,5.31,5.31,0,0,0,12,6.5,5.46,5.46,0,0,0,6.5,12Z\"/>\n",
              "  </svg>\n",
              "    </button>\n",
              "    <script>\n",
              "      (() => {\n",
              "      const buttonEl =\n",
              "        document.querySelector('#id_4ba93794-a6cc-4d01-9e4b-1424cd28ea32 button.colab-df-generate');\n",
              "      buttonEl.style.display =\n",
              "        google.colab.kernel.accessAllowed ? 'block' : 'none';\n",
              "\n",
              "      buttonEl.onclick = () => {\n",
              "        google.colab.notebook.generateWithVariable('df_final');\n",
              "      }\n",
              "      })();\n",
              "    </script>\n",
              "  </div>\n",
              "\n",
              "    </div>\n",
              "  </div>\n"
            ],
            "application/vnd.google.colaboratory.intrinsic+json": {
              "type": "dataframe",
              "variable_name": "df_final",
              "summary": "{\n  \"name\": \"df_final\",\n  \"rows\": 4841,\n  \"fields\": [\n    {\n      \"column\": \"Unnamed: 0\",\n      \"properties\": {\n        \"dtype\": \"number\",\n        \"std\": 1397,\n        \"min\": 0,\n        \"max\": 4840,\n        \"num_unique_values\": 4841,\n        \"samples\": [\n          3200,\n          2527,\n          4102\n        ],\n        \"semantic_type\": \"\",\n        \"description\": \"\"\n      }\n    },\n    {\n      \"column\": \"TIME\",\n      \"properties\": {\n        \"dtype\": \"number\",\n        \"std\": 4317648577.62642,\n        \"min\": 110407065.0,\n        \"max\": 31204082299.0,\n        \"num_unique_values\": 4841,\n        \"samples\": [\n          11083053867.0,\n          9976804747.0,\n          15039198153.0\n        ],\n        \"semantic_type\": \"\",\n        \"description\": \"\"\n      }\n    },\n    {\n      \"column\": \"amplitude\",\n      \"properties\": {\n        \"dtype\": \"number\",\n        \"std\": 0.005962430952615077,\n        \"min\": 0.0001015625,\n        \"max\": 0.0997615871107578,\n        \"num_unique_values\": 780,\n        \"samples\": [\n          0.0881725894351005,\n          0.0036732236163616,\n          0.0049595369009971\n        ],\n        \"semantic_type\": \"\",\n        \"description\": \"\"\n      }\n    },\n    {\n      \"column\": \"duration\",\n      \"properties\": {\n        \"dtype\": \"number\",\n        \"std\": 0.03329052626298224,\n        \"min\": 1.0000000000000001e-07,\n        \"max\": 0.1048576,\n        \"num_unique_values\": 2194,\n        \"samples\": [\n          0.0002652,\n          0.0002288,\n          0.0001254\n        ],\n        \"semantic_type\": \"\",\n        \"description\": \"\"\n      }\n    },\n    {\n      \"column\": \"energy\",\n      \"properties\": {\n        \"dtype\": \"number\",\n        \"std\": 2266173.454129511,\n        \"min\": 2.179641490670252,\n        \"max\": 91416345.39824589,\n        \"num_unique_values\": 4838,\n        \"samples\": [\n          205.55432802958504,\n          4140.800871965171,\n          77.75457381982619\n        ],\n        \"semantic_type\": \"\",\n        \"description\": \"\"\n      }\n    },\n    {\n      \"column\": \"rms\",\n      \"properties\": {\n        \"dtype\": \"number\",\n        \"std\": 0.0003002540351293679,\n        \"min\": 3.7510929125e-06,\n        \"max\": 0.0134299443199999,\n        \"num_unique_values\": 2255,\n        \"samples\": [\n          3.0318008939062493e-05,\n          2.770421547343749e-05,\n          4.405248e-05\n        ],\n        \"semantic_type\": \"\",\n        \"description\": \"\"\n      }\n    },\n    {\n      \"column\": \"rise_time\",\n      \"properties\": {\n        \"dtype\": \"number\",\n        \"std\": 0.012608249148270198,\n        \"min\": 1.0000000000000001e-07,\n        \"max\": 0.104627,\n        \"num_unique_values\": 1486,\n        \"samples\": [\n          0.0661469,\n          0.0002898,\n          0.000633\n        ],\n        \"semantic_type\": \"\",\n        \"description\": \"\"\n      }\n    },\n    {\n      \"column\": \"counts\",\n      \"properties\": {\n        \"dtype\": \"number\",\n        \"std\": 1321,\n        \"min\": 0,\n        \"max\": 12309,\n        \"num_unique_values\": 742,\n        \"samples\": [\n          124,\n          58,\n          451\n        ],\n        \"semantic_type\": \"\",\n        \"description\": \"\"\n      }\n    },\n    {\n      \"column\": \"Force\",\n      \"properties\": {\n        \"dtype\": \"number\",\n        \"std\": 12919.891424062489,\n        \"min\": 1.366933,\n        \"max\": 68870.64,\n        \"num_unique_values\": 826,\n        \"samples\": [\n          64359.27,\n          34714.81,\n          65188.84\n        ],\n        \"semantic_type\": \"\",\n        \"description\": \"\"\n      }\n    }\n  ]\n}"
            }
          },
          "metadata": {},
          "execution_count": 4
        }
      ]
    },
    {
      "cell_type": "code",
      "source": [
        "df_final.drop(columns=df_final.columns[0], axis=1, inplace=True)"
      ],
      "metadata": {
        "id": "wLEo0BFuzNpS"
      },
      "execution_count": null,
      "outputs": []
    },
    {
      "cell_type": "code",
      "source": [
        "df1=df_final[[\"TIME\",\"rise_time\",\"rms\", \"duration\", \"counts\", \"energy\",\"amplitude\"]]"
      ],
      "metadata": {
        "id": "-JCcBNf1zNpS"
      },
      "execution_count": null,
      "outputs": []
    },
    {
      "cell_type": "code",
      "source": [
        "from sklearn.metrics import mean_absolute_error , mean_squared_error\n",
        "from sklearn.preprocessing import MinMaxScaler\n",
        "from sklearn.preprocessing import LabelEncoder"
      ],
      "metadata": {
        "id": "Cr6VUPyMzNpS"
      },
      "execution_count": null,
      "outputs": []
    },
    {
      "cell_type": "code",
      "source": [
        "# Scaling the entire dataset\n",
        "\n",
        "\n",
        "values = df1.values\n",
        "\n",
        "values = values.astype('float32')\n",
        "\n",
        "scaler = MinMaxScaler(feature_range=(0, 1))\n",
        "scaled = scaler.fit_transform(values)"
      ],
      "metadata": {
        "id": "4sm84u2Gd7HP"
      },
      "execution_count": null,
      "outputs": []
    },
    {
      "cell_type": "code",
      "source": [
        "# converting the dataset as supervised learning\n",
        "\n",
        "reframed = series_to_supervised(scaled, 1, 1)\n",
        "print(reframed.shape)"
      ],
      "metadata": {
        "colab": {
          "base_uri": "https://localhost:8080/"
        },
        "id": "KkPvY_L9d7KX",
        "outputId": "594cb84f-b20e-4a73-e57a-57fc065d9a97"
      },
      "execution_count": null,
      "outputs": [
        {
          "output_type": "stream",
          "name": "stdout",
          "text": [
            "(4840, 14)\n"
          ]
        }
      ]
    },
    {
      "cell_type": "code",
      "source": [
        "print(reframed.head())"
      ],
      "metadata": {
        "colab": {
          "base_uri": "https://localhost:8080/"
        },
        "id": "tH03K0Lid7Ng",
        "outputId": "c0a9e90e-33ba-46c0-8528-4a9581870ef3"
      },
      "execution_count": null,
      "outputs": [
        {
          "output_type": "stream",
          "name": "stdout",
          "text": [
            "   var1(t-1)  var2(t-1)  var3(t-1)  var4(t-1)  var5(t-1)     var6(t-1)  \\\n",
            "1   0.000000   0.000025   0.004522   0.002591   0.001462  1.211768e-06   \n",
            "2   0.000286   0.000000   0.038055   0.000008   0.000081  2.369511e-07   \n",
            "3   0.000362   0.000191   0.003527   0.008254   0.003493  2.449459e-06   \n",
            "4   0.000756   0.000000   0.090841   0.000000   0.000081  1.398806e-07   \n",
            "5   0.000961   0.000113   0.003605   0.005325   0.001950  1.637948e-06   \n",
            "\n",
            "   var7(t-1)   var1(t)   var2(t)   var3(t)   var4(t)   var5(t)       var6(t)  \\\n",
            "1   0.001317  0.000286  0.000000  0.038055  0.000008  0.000081  2.369511e-07   \n",
            "2   0.000047  0.000362  0.000191  0.003527  0.008254  0.003493  2.449459e-06   \n",
            "3   0.001003  0.000756  0.000000  0.090841  0.000000  0.000081  1.398806e-07   \n",
            "4   0.000031  0.000961  0.000113  0.003605  0.005325  0.001950  1.637948e-06   \n",
            "5   0.000847  0.001091  0.000527  0.008739  0.016562  0.033634  2.783307e-05   \n",
            "\n",
            "    var7(t)  \n",
            "1  0.000047  \n",
            "2  0.001003  \n",
            "3  0.000031  \n",
            "4  0.000847  \n",
            "5  0.005456  \n"
          ]
        }
      ]
    },
    {
      "cell_type": "code",
      "source": [
        "reframed.columns"
      ],
      "metadata": {
        "colab": {
          "base_uri": "https://localhost:8080/"
        },
        "id": "8iiifD7qd7Qn",
        "outputId": "69ae5476-7224-4c67-b590-cf51f6f9afee"
      },
      "execution_count": null,
      "outputs": [
        {
          "output_type": "execute_result",
          "data": {
            "text/plain": [
              "Index(['var1(t-1)', 'var2(t-1)', 'var3(t-1)', 'var4(t-1)', 'var5(t-1)',\n",
              "       'var6(t-1)', 'var7(t-1)', 'var1(t)', 'var2(t)', 'var3(t)', 'var4(t)',\n",
              "       'var5(t)', 'var6(t)', 'var7(t)'],\n",
              "      dtype='object')"
            ]
          },
          "metadata": {},
          "execution_count": 46
        }
      ]
    },
    {
      "cell_type": "code",
      "source": [
        "# droping columns we don't want to predict\n",
        "\n",
        "reframed.drop(reframed.columns[[7,8,9,10,11,12]], axis=1, inplace=True)\n",
        "print(reframed.head())"
      ],
      "metadata": {
        "colab": {
          "base_uri": "https://localhost:8080/"
        },
        "id": "qT5do9pFd7WU",
        "outputId": "22cd083c-be2b-4578-adce-8e27e97be9c3"
      },
      "execution_count": null,
      "outputs": [
        {
          "output_type": "stream",
          "name": "stdout",
          "text": [
            "   var1(t-1)  var2(t-1)  var3(t-1)  var4(t-1)  var5(t-1)     var6(t-1)  \\\n",
            "1   0.000000   0.000025   0.004522   0.002591   0.001462  1.211768e-06   \n",
            "2   0.000286   0.000000   0.038055   0.000008   0.000081  2.369511e-07   \n",
            "3   0.000362   0.000191   0.003527   0.008254   0.003493  2.449459e-06   \n",
            "4   0.000756   0.000000   0.090841   0.000000   0.000081  1.398806e-07   \n",
            "5   0.000961   0.000113   0.003605   0.005325   0.001950  1.637948e-06   \n",
            "\n",
            "   var7(t-1)   var7(t)  \n",
            "1   0.001317  0.000047  \n",
            "2   0.000047  0.001003  \n",
            "3   0.001003  0.000031  \n",
            "4   0.000031  0.000847  \n",
            "5   0.000847  0.005456  \n"
          ]
        }
      ]
    },
    {
      "cell_type": "code",
      "source": [
        "values = reframed.values\n",
        "\n",
        "# We train the model on the 1st 3 years and then test on the last year (for now)\n",
        "n_train_hours = 4600\n",
        "\n",
        "train = values[:n_train_hours, :]\n",
        "test = values[n_train_hours:, :]\n",
        "\n",
        "# split into input and outputs\n",
        "train_X, train_y = train[:, :-1], train[:, -1]\n",
        "test_X, test_y = test[:, :-1], test[:, -1]\n",
        "\n",
        "# reshape input to be 3D :- (no.of samples, no.of timesteps, no.of features)\n",
        "train_X = train_X.reshape((train_X.shape[0], 1, train_X.shape[1]))\n",
        "test_X = test_X.reshape((test_X.shape[0], 1, test_X.shape[1]))\n",
        "print(train_X.shape, train_y.shape, test_X.shape, test_y.shape)"
      ],
      "metadata": {
        "colab": {
          "base_uri": "https://localhost:8080/"
        },
        "id": "Qz9ucP4od7Zj",
        "outputId": "ef0599f4-161b-4dd6-edd5-1c1bbcfef0a5"
      },
      "execution_count": null,
      "outputs": [
        {
          "output_type": "stream",
          "name": "stdout",
          "text": [
            "(4600, 1, 7) (4600,) (240, 1, 7) (240,)\n"
          ]
        }
      ]
    },
    {
      "cell_type": "code",
      "source": [
        "train.shape, test.shape, values.shape"
      ],
      "metadata": {
        "colab": {
          "base_uri": "https://localhost:8080/"
        },
        "id": "8Yg0mjqAd7cn",
        "outputId": "a685c034-ccce-414f-9445-3f9af2ee706c"
      },
      "execution_count": null,
      "outputs": [
        {
          "output_type": "execute_result",
          "data": {
            "text/plain": [
              "((4600, 8), (240, 8), (4840, 8))"
            ]
          },
          "metadata": {},
          "execution_count": 49
        }
      ]
    },
    {
      "cell_type": "code",
      "source": [
        "from tensorflow.keras.layers import LSTM, Dense, Dropout, BatchNormalization\n",
        "from tensorflow.keras.models import Sequential"
      ],
      "metadata": {
        "id": "cOikWJLPhJYF"
      },
      "execution_count": null,
      "outputs": []
    },
    {
      "cell_type": "code",
      "source": [
        "model = Sequential()\n",
        "model.add(LSTM(64, input_shape=(train_X.shape[1], train_X.shape[2])))\n",
        "model.add(Dense(1))\n",
        "model.compile(loss='mse', optimizer='adam')\n",
        "\n",
        "# fit network\n",
        "history = model.fit(train_X, train_y, epochs=50, batch_size=64, validation_split=0.2, verbose=2, shuffle=False)"
      ],
      "metadata": {
        "colab": {
          "base_uri": "https://localhost:8080/"
        },
        "id": "Ri_3UPbAhJa5",
        "outputId": "93a0fbb9-7d4e-48ae-d7a9-4a731260d6b0"
      },
      "execution_count": null,
      "outputs": [
        {
          "output_type": "stream",
          "name": "stdout",
          "text": [
            "Epoch 1/50\n",
            "58/58 - 3s - loss: 0.0022 - val_loss: 0.0084 - 3s/epoch - 58ms/step\n",
            "Epoch 2/50\n",
            "58/58 - 0s - loss: 0.0023 - val_loss: 0.0084 - 408ms/epoch - 7ms/step\n",
            "Epoch 3/50\n",
            "58/58 - 0s - loss: 0.0022 - val_loss: 0.0084 - 374ms/epoch - 6ms/step\n",
            "Epoch 4/50\n",
            "58/58 - 0s - loss: 0.0022 - val_loss: 0.0084 - 401ms/epoch - 7ms/step\n",
            "Epoch 5/50\n",
            "58/58 - 0s - loss: 0.0022 - val_loss: 0.0085 - 388ms/epoch - 7ms/step\n",
            "Epoch 6/50\n",
            "58/58 - 0s - loss: 0.0022 - val_loss: 0.0085 - 400ms/epoch - 7ms/step\n",
            "Epoch 7/50\n",
            "58/58 - 0s - loss: 0.0022 - val_loss: 0.0085 - 408ms/epoch - 7ms/step\n",
            "Epoch 8/50\n",
            "58/58 - 0s - loss: 0.0022 - val_loss: 0.0085 - 284ms/epoch - 5ms/step\n",
            "Epoch 9/50\n",
            "58/58 - 0s - loss: 0.0022 - val_loss: 0.0085 - 302ms/epoch - 5ms/step\n",
            "Epoch 10/50\n",
            "58/58 - 0s - loss: 0.0022 - val_loss: 0.0085 - 277ms/epoch - 5ms/step\n",
            "Epoch 11/50\n",
            "58/58 - 0s - loss: 0.0022 - val_loss: 0.0085 - 283ms/epoch - 5ms/step\n",
            "Epoch 12/50\n",
            "58/58 - 0s - loss: 0.0022 - val_loss: 0.0086 - 268ms/epoch - 5ms/step\n",
            "Epoch 13/50\n",
            "58/58 - 0s - loss: 0.0022 - val_loss: 0.0086 - 255ms/epoch - 4ms/step\n",
            "Epoch 14/50\n",
            "58/58 - 0s - loss: 0.0022 - val_loss: 0.0086 - 277ms/epoch - 5ms/step\n",
            "Epoch 15/50\n",
            "58/58 - 0s - loss: 0.0022 - val_loss: 0.0086 - 281ms/epoch - 5ms/step\n",
            "Epoch 16/50\n",
            "58/58 - 0s - loss: 0.0022 - val_loss: 0.0086 - 250ms/epoch - 4ms/step\n",
            "Epoch 17/50\n",
            "58/58 - 0s - loss: 0.0022 - val_loss: 0.0086 - 288ms/epoch - 5ms/step\n",
            "Epoch 18/50\n",
            "58/58 - 0s - loss: 0.0022 - val_loss: 0.0086 - 289ms/epoch - 5ms/step\n",
            "Epoch 19/50\n",
            "58/58 - 0s - loss: 0.0022 - val_loss: 0.0086 - 272ms/epoch - 5ms/step\n",
            "Epoch 20/50\n",
            "58/58 - 0s - loss: 0.0022 - val_loss: 0.0086 - 257ms/epoch - 4ms/step\n",
            "Epoch 21/50\n",
            "58/58 - 0s - loss: 0.0022 - val_loss: 0.0086 - 294ms/epoch - 5ms/step\n",
            "Epoch 22/50\n",
            "58/58 - 0s - loss: 0.0022 - val_loss: 0.0086 - 263ms/epoch - 5ms/step\n",
            "Epoch 23/50\n",
            "58/58 - 0s - loss: 0.0022 - val_loss: 0.0086 - 303ms/epoch - 5ms/step\n",
            "Epoch 24/50\n",
            "58/58 - 0s - loss: 0.0022 - val_loss: 0.0086 - 282ms/epoch - 5ms/step\n",
            "Epoch 25/50\n",
            "58/58 - 0s - loss: 0.0022 - val_loss: 0.0086 - 295ms/epoch - 5ms/step\n",
            "Epoch 26/50\n",
            "58/58 - 0s - loss: 0.0022 - val_loss: 0.0086 - 283ms/epoch - 5ms/step\n",
            "Epoch 27/50\n",
            "58/58 - 0s - loss: 0.0022 - val_loss: 0.0086 - 265ms/epoch - 5ms/step\n",
            "Epoch 28/50\n",
            "58/58 - 0s - loss: 0.0022 - val_loss: 0.0086 - 292ms/epoch - 5ms/step\n",
            "Epoch 29/50\n",
            "58/58 - 0s - loss: 0.0022 - val_loss: 0.0086 - 308ms/epoch - 5ms/step\n",
            "Epoch 30/50\n",
            "58/58 - 0s - loss: 0.0022 - val_loss: 0.0086 - 268ms/epoch - 5ms/step\n",
            "Epoch 31/50\n",
            "58/58 - 0s - loss: 0.0022 - val_loss: 0.0086 - 301ms/epoch - 5ms/step\n",
            "Epoch 32/50\n",
            "58/58 - 0s - loss: 0.0022 - val_loss: 0.0086 - 271ms/epoch - 5ms/step\n",
            "Epoch 33/50\n",
            "58/58 - 0s - loss: 0.0022 - val_loss: 0.0086 - 311ms/epoch - 5ms/step\n",
            "Epoch 34/50\n",
            "58/58 - 0s - loss: 0.0022 - val_loss: 0.0086 - 276ms/epoch - 5ms/step\n",
            "Epoch 35/50\n",
            "58/58 - 0s - loss: 0.0022 - val_loss: 0.0086 - 284ms/epoch - 5ms/step\n",
            "Epoch 36/50\n",
            "58/58 - 0s - loss: 0.0022 - val_loss: 0.0086 - 314ms/epoch - 5ms/step\n",
            "Epoch 37/50\n",
            "58/58 - 0s - loss: 0.0022 - val_loss: 0.0086 - 306ms/epoch - 5ms/step\n",
            "Epoch 38/50\n",
            "58/58 - 0s - loss: 0.0022 - val_loss: 0.0085 - 339ms/epoch - 6ms/step\n",
            "Epoch 39/50\n",
            "58/58 - 0s - loss: 0.0022 - val_loss: 0.0085 - 341ms/epoch - 6ms/step\n",
            "Epoch 40/50\n",
            "58/58 - 0s - loss: 0.0022 - val_loss: 0.0085 - 285ms/epoch - 5ms/step\n",
            "Epoch 41/50\n",
            "58/58 - 0s - loss: 0.0022 - val_loss: 0.0085 - 272ms/epoch - 5ms/step\n",
            "Epoch 42/50\n",
            "58/58 - 0s - loss: 0.0022 - val_loss: 0.0085 - 420ms/epoch - 7ms/step\n",
            "Epoch 43/50\n",
            "58/58 - 0s - loss: 0.0022 - val_loss: 0.0085 - 411ms/epoch - 7ms/step\n",
            "Epoch 44/50\n",
            "58/58 - 0s - loss: 0.0022 - val_loss: 0.0085 - 385ms/epoch - 7ms/step\n",
            "Epoch 45/50\n",
            "58/58 - 0s - loss: 0.0022 - val_loss: 0.0085 - 424ms/epoch - 7ms/step\n",
            "Epoch 46/50\n",
            "58/58 - 0s - loss: 0.0022 - val_loss: 0.0085 - 407ms/epoch - 7ms/step\n",
            "Epoch 47/50\n",
            "58/58 - 0s - loss: 0.0022 - val_loss: 0.0085 - 420ms/epoch - 7ms/step\n",
            "Epoch 48/50\n",
            "58/58 - 0s - loss: 0.0022 - val_loss: 0.0085 - 354ms/epoch - 6ms/step\n",
            "Epoch 49/50\n",
            "58/58 - 0s - loss: 0.0022 - val_loss: 0.0085 - 299ms/epoch - 5ms/step\n",
            "Epoch 50/50\n",
            "58/58 - 0s - loss: 0.0022 - val_loss: 0.0085 - 329ms/epoch - 6ms/step\n"
          ]
        }
      ]
    },
    {
      "cell_type": "code",
      "source": [
        "plt.figure(figsize=(15,6))\n",
        "plt.plot(history.history['loss'], label='train', linewidth = 2.5)\n",
        "plt.plot(history.history['val_loss'], label='test',  linewidth = 2.5)\n",
        "plt.legend()\n",
        "plt.show()"
      ],
      "metadata": {
        "colab": {
          "base_uri": "https://localhost:8080/",
          "height": 522
        },
        "id": "fLdkeHkNhJdr",
        "outputId": "d08411a9-ee62-49ca-ae6a-38d088f01366"
      },
      "execution_count": null,
      "outputs": [
        {
          "output_type": "display_data",
          "data": {
            "text/plain": [
              "<Figure size 1500x600 with 1 Axes>"
            ],
            "image/png": "[encoded data removed]"
          },
          "metadata": {}
        }
      ]
    },
    {
      "cell_type": "code",
      "source": [
        "model.summary()\n",
        "\n",
        "\n",
        "tf.keras.utils.plot_model(model, to_file=\"model.png\",\n",
        "           expand_nested=True, show_shapes=True)"
      ],
      "metadata": {
        "colab": {
          "base_uri": "https://localhost:8080/",
          "height": 538
        },
        "id": "zqHgau6VnZgQ",
        "outputId": "8b68d4db-b5e3-4103-bb64-78a20b019c3a"
      },
      "execution_count": null,
      "outputs": [
        {
          "output_type": "stream",
          "name": "stdout",
          "text": [
            "Model: \"sequential_2\"\n",
            "_________________________________________________________________\n",
            " Layer (type)                Output Shape              Param #   \n",
            "=================================================================\n",
            " lstm_2 (LSTM)               (None, 1, 64)             18432     \n",
            "                                                                 \n",
            " dense_2 (Dense)             (None, 1, 1)              65        \n",
            "                                                                 \n",
            "=================================================================\n",
            "Total params: 18497 (72.25 KB)\n",
            "Trainable params: 18497 (72.25 KB)\n",
            "Non-trainable params: 0 (0.00 Byte)\n",
            "_________________________________________________________________\n"
          ]
        },
        {
          "output_type": "execute_result",
          "data": {
            "image/png": "[encoded data removed]",
            "text/plain": [
              "<IPython.core.display.Image object>"
            ]
          },
          "metadata": {},
          "execution_count": 78
        }
      ]
    },
    {
      "cell_type": "code",
      "source": [
        "test_X.shape"
      ],
      "metadata": {
        "colab": {
          "base_uri": "https://localhost:8080/"
        },
        "id": "Nvcw3-RhhJg1",
        "outputId": "46a4bb3a-3e47-4b77-a827-cedb82a9990a"
      },
      "execution_count": null,
      "outputs": [
        {
          "output_type": "execute_result",
          "data": {
            "text/plain": [
              "(240, 1, 7)"
            ]
          },
          "metadata": {},
          "execution_count": 79
        }
      ]
    },
    {
      "cell_type": "code",
      "source": [
        "testPredict = model.predict(test_X)\n",
        "print(testPredict.shape)\n",
        "testPredict = testPredict.ravel()\n",
        "\n",
        "print(testPredict.shape)"
      ],
      "metadata": {
        "colab": {
          "base_uri": "https://localhost:8080/"
        },
        "id": "Lvb8H7qFhJkQ",
        "outputId": "a9789dba-ad81-4177-ee4a-ac1e7bedbac9"
      },
      "execution_count": null,
      "outputs": [
        {
          "output_type": "stream",
          "name": "stdout",
          "text": [
            "8/8 [==============================] - 1s 3ms/step\n",
            "(240, 1, 1)\n",
            "(240,)\n"
          ]
        }
      ]
    },
    {
      "cell_type": "code",
      "source": [
        "testPredict1 = model.predict(test_X)\n",
        "print(testPredict1.shape)\n",
        "testPredict1 = testPredict1.ravel()\n",
        "\n",
        "print(testPredict1.shape)"
      ],
      "metadata": {
        "colab": {
          "base_uri": "https://localhost:8080/"
        },
        "id": "e3KgVE6trfe2",
        "outputId": "099200e0-cb2d-47d9-e1e0-e2d0b998ed6c"
      },
      "execution_count": null,
      "outputs": [
        {
          "output_type": "stream",
          "name": "stdout",
          "text": [
            "8/8 [==============================] - 0s 3ms/step\n",
            "(240, 1, 1)\n",
            "(240,)\n"
          ]
        }
      ]
    },
    {
      "cell_type": "code",
      "source": [
        "test.shape"
      ],
      "metadata": {
        "colab": {
          "base_uri": "https://localhost:8080/"
        },
        "id": "tZvnXL_hd7fk",
        "outputId": "4d54d588-8795-4950-ec94-25930b63d5dc"
      },
      "execution_count": null,
      "outputs": [
        {
          "output_type": "execute_result",
          "data": {
            "text/plain": [
              "(240, 8)"
            ]
          },
          "metadata": {},
          "execution_count": 82
        }
      ]
    },
    {
      "cell_type": "code",
      "source": [
        "y_test_true1 = test[:,7]"
      ],
      "metadata": {
        "id": "znhcGV9Nr2jW"
      },
      "execution_count": null,
      "outputs": []
    },
    {
      "cell_type": "code",
      "source": [
        "poll = np.array(df1[\"amplitude\"])\n",
        "\n",
        "meanop = poll.mean()\n",
        "stdop = poll.std()\n",
        "\n",
        "y_test_true = y_test_true1*stdop + meanop\n",
        "testPredict = testPredict*stdop + meanop"
      ],
      "metadata": {
        "id": "XTBtTHgvh2EV"
      },
      "execution_count": null,
      "outputs": []
    },
    {
      "cell_type": "code",
      "source": [
        "num_list = list(range(1, 241))"
      ],
      "metadata": {
        "id": "NbPMhLrQsvex"
      },
      "execution_count": null,
      "outputs": []
    },
    {
      "cell_type": "code",
      "source": [
        "len(num_list)"
      ],
      "metadata": {
        "colab": {
          "base_uri": "https://localhost:8080/"
        },
        "id": "39YvsreItHBZ",
        "outputId": "b3a4cb76-f2d5-4218-9b13-790acd0386a7"
      },
      "execution_count": null,
      "outputs": [
        {
          "output_type": "execute_result",
          "data": {
            "text/plain": [
              "240"
            ]
          },
          "metadata": {},
          "execution_count": 86
        }
      ]
    },
    {
      "cell_type": "code",
      "source": [
        "len(y_test_true)"
      ],
      "metadata": {
        "colab": {
          "base_uri": "https://localhost:8080/"
        },
        "id": "p0M3cDkztLt5",
        "outputId": "6671af61-ce05-4b24-e3df-ade6e3ff66f1"
      },
      "execution_count": null,
      "outputs": [
        {
          "output_type": "execute_result",
          "data": {
            "text/plain": [
              "240"
            ]
          },
          "metadata": {},
          "execution_count": 87
        }
      ]
    },
    {
      "cell_type": "code",
      "source": [
        "from matplotlib import pyplot as plt\n",
        "\n",
        "plt.figure(figsize=(15,6))\n",
        "\n",
        "plt.ylabel(\"amp\")\n",
        "plt.xlabel(\"hits\")\n",
        "plt.plot(num_list, y_test_true,label='true time')\n",
        "plt.plot(num_list, testPredict,label='predicted time')\n",
        "plt.title(\"Testing data\")\n",
        "plt.legend(loc='best')\n",
        "plt.show()\n",
        "\n"
      ],
      "metadata": {
        "colab": {
          "base_uri": "https://localhost:8080/",
          "height": 564
        },
        "id": "GuGpZYm3h2G8",
        "outputId": "bf2291b5-087f-47d6-ffd9-9101e213057e"
      },
      "execution_count": null,
      "outputs": [
        {
          "output_type": "display_data",
          "data": {
            "text/plain": [
              "<Figure size 1500x600 with 1 Axes>"
            ],
            "image/png": "[encoded data removed]"
          },
          "metadata": {}
        }
      ]
    },
    {
      "cell_type": "code",
      "source": [],
      "metadata": {
        "id": "mN9F-PqQynfT"
      },
      "execution_count": null,
      "outputs": []
    },
    {
      "cell_type": "code",
      "source": [],
      "metadata": {
        "id": "WrDHcSnuynim"
      },
      "execution_count": null,
      "outputs": []
    },
    {
      "cell_type": "code",
      "source": [
        "model.save('ampl.keras')"
      ],
      "metadata": {
        "id": "Ib4izD0Emvio"
      },
      "execution_count": null,
      "outputs": []
    },
    {
      "cell_type": "code",
      "source": [
        "model.save('ampl.h5')"
      ],
      "metadata": {
        "colab": {
          "base_uri": "https://localhost:8080/"
        },
        "id": "_skPFsg67ejN",
        "outputId": "d47277b5-6125-457d-b2d1-2cbf5d3b7c67"
      },
      "execution_count": null,
      "outputs": [
        {
          "output_type": "stream",
          "name": "stderr",
          "text": [
            "/usr/local/lib/python3.10/dist-packages/keras/src/engine/training.py:3103: UserWarning: You are saving your model as an HDF5 file via `model.save()`. This file format is considered legacy. We recommend using instead the native Keras format, e.g. `model.save('my_model.keras')`.\n",
            "  saving_api.save_model(\n"
          ]
        }
      ]
    },
    {
      "cell_type": "code",
      "source": [
        "import keras"
      ],
      "metadata": {
        "id": "r8rQ83ie64XM"
      },
      "execution_count": null,
      "outputs": []
    },
    {
      "cell_type": "code",
      "source": [
        "model = keras.models.load_model('/content/ampl.keras')"
      ],
      "metadata": {
        "id": "4zgubE1T6z31"
      },
      "execution_count": null,
      "outputs": []
    },
    {
      "cell_type": "code",
      "source": [
        "! pip install vallenae"
      ],
      "metadata": {
        "colab": {
          "base_uri": "https://localhost:8080/"
        },
        "id": "wfzKbrWu-E8I",
        "outputId": "5e46364a-9b77-444b-b8be-420eea737966"
      },
      "execution_count": null,
      "outputs": [
        {
          "output_type": "stream",
          "name": "stdout",
          "text": [
            "Requirement already satisfied: vallenae in /usr/local/lib/python3.10/dist-packages (0.9.0)\n",
            "Requirement already satisfied: numpy in /usr/local/lib/python3.10/dist-packages (from vallenae) (1.25.2)\n",
            "Requirement already satisfied: pandas>=0.24 in /usr/local/lib/python3.10/dist-packages (from vallenae) (2.0.3)\n",
            "Requirement already satisfied: soundfile in /usr/local/lib/python3.10/dist-packages (from vallenae) (0.12.1)\n",
            "Requirement already satisfied: tqdm in /usr/local/lib/python3.10/dist-packages (from vallenae) (4.66.2)\n",
            "Requirement already satisfied: typing-extensions in /usr/local/lib/python3.10/dist-packages (from vallenae) (4.10.0)\n",
            "Requirement already satisfied: python-dateutil>=2.8.2 in /usr/local/lib/python3.10/dist-packages (from pandas>=0.24->vallenae) (2.8.2)\n",
            "Requirement already satisfied: pytz>=2020.1 in /usr/local/lib/python3.10/dist-packages (from pandas>=0.24->vallenae) (2023.4)\n",
            "Requirement already satisfied: tzdata>=2022.1 in /usr/local/lib/python3.10/dist-packages (from pandas>=0.24->vallenae) (2024.1)\n",
            "Requirement already satisfied: cffi>=1.0 in /usr/local/lib/python3.10/dist-packages (from soundfile->vallenae) (1.16.0)\n",
            "Requirement already satisfied: pycparser in /usr/local/lib/python3.10/dist-packages (from cffi>=1.0->soundfile->vallenae) (2.22)\n",
            "Requirement already satisfied: six>=1.5 in /usr/local/lib/python3.10/dist-packages (from python-dateutil>=2.8.2->pandas>=0.24->vallenae) (1.16.0)\n"
          ]
        }
      ]
    },
    {
      "cell_type": "code",
      "source": [
        "from pathlib import Path\n",
        "\n",
        "\n",
        "import vallenae as vae"
      ],
      "metadata": {
        "id": "Zv-W9Mkj-BZc"
      },
      "execution_count": null,
      "outputs": []
    },
    {
      "cell_type": "code",
      "source": [
        "i=0\n",
        "x=[]\n",
        "while True:\n",
        "    PRIDB  = Path('/content/real_time_plotting.pridb')\n",
        "    with vae.io.PriDatabase(PRIDB) as pridb:\n",
        "        full_df = pridb.read_hits()\n",
        "    filtered_df = full_df[[\"time\",\"rise_time\",\"rms\", \"duration\", \"counts\", \"energy\",\"amplitude\"]]\n",
        "\n",
        "    x=filtered_df.values[i]\n",
        "    y= np.asarray(x).astype(np.float32)\n",
        "    y.reshape((1,1, 7))\n",
        "    #x=x.tolist()\n",
        "    #y=x.to_numpy()\n",
        "    pred= model.predict(y)\n",
        "\n",
        "\n",
        "\n",
        "\n",
        "\n",
        "    plt.plot(pred)\n",
        "\n",
        "    i=i+1"
      ],
      "metadata": {
        "colab": {
          "base_uri": "https://localhost:8080/",
          "height": 756
        },
        "id": "Fy-wEtVt67dA",
        "outputId": "3008a699-bce2-4ead-cf92-93eca9a1c633"
      },
      "execution_count": null,
      "outputs": [
        {
          "output_type": "stream",
          "name": "stderr",
          "text": [
            "Hits: 100%|██████████| 218/218 [00:00<00:00, 32221.81it/s]\n"
          ]
        },
        {
          "output_type": "error",
          "ename": "ValueError",
          "evalue": "in user code:\n\n    File \"/usr/local/lib/python3.10/dist-packages/keras/src/engine/training.py\", line 2440, in predict_function  *\n        return step_function(self, iterator)\n    File \"/usr/local/lib/python3.10/dist-packages/keras/src/engine/training.py\", line 2425, in step_function  **\n        outputs = model.distribute_strategy.run(run_step, args=(data,))\n    File \"/usr/local/lib/python3.10/dist-packages/keras/src/engine/training.py\", line 2413, in run_step  **\n        outputs = model.predict_step(data)\n    File \"/usr/local/lib/python3.10/dist-packages/keras/src/engine/training.py\", line 2381, in predict_step\n        return self(x, training=False)\n    File \"/usr/local/lib/python3.10/dist-packages/keras/src/utils/traceback_utils.py\", line 70, in error_handler\n        raise e.with_traceback(filtered_tb) from None\n    File \"/usr/local/lib/python3.10/dist-packages/keras/src/engine/input_spec.py\", line 235, in assert_input_compatibility\n        raise ValueError(\n\n    ValueError: Exception encountered when calling layer 'sequential_2' (type Sequential).\n    \n    Input 0 of layer \"lstm_2\" is incompatible with the layer: expected ndim=3, found ndim=1. Full shape received: (None,)\n    \n    Call arguments received by layer 'sequential_2' (type Sequential):\n      • inputs=tf.Tensor(shape=(None,), dtype=float32)\n      • training=False\n      • mask=None\n",
          "traceback": [
            "\u001b[0;31m---------------------------------------------------------------------------\u001b[0m",
            "\u001b[0;31mValueError\u001b[0m                                Traceback (most recent call last)",
            "\u001b[0;32m<ipython-input-93-489b7a21ca8f>\u001b[0m in \u001b[0;36m<cell line: 3>\u001b[0;34m()\u001b[0m\n\u001b[1;32m     12\u001b[0m     \u001b[0;31m#x=x.tolist()\u001b[0m\u001b[0;34m\u001b[0m\u001b[0;34m\u001b[0m\u001b[0m\n\u001b[1;32m     13\u001b[0m     \u001b[0;31m#y=x.to_numpy()\u001b[0m\u001b[0;34m\u001b[0m\u001b[0;34m\u001b[0m\u001b[0m\n\u001b[0;32m---> 14\u001b[0;31m     \u001b[0mpred\u001b[0m\u001b[0;34m=\u001b[0m \u001b[0mmodel\u001b[0m\u001b[0;34m.\u001b[0m\u001b[0mpredict\u001b[0m\u001b[0;34m(\u001b[0m\u001b[0my\u001b[0m\u001b[0;34m)\u001b[0m\u001b[0;34m\u001b[0m\u001b[0;34m\u001b[0m\u001b[0m\n\u001b[0m\u001b[1;32m     15\u001b[0m \u001b[0;34m\u001b[0m\u001b[0m\n\u001b[1;32m     16\u001b[0m \u001b[0;34m\u001b[0m\u001b[0m\n",
            "\u001b[0;32m/usr/local/lib/python3.10/dist-packages/keras/src/utils/traceback_utils.py\u001b[0m in \u001b[0;36merror_handler\u001b[0;34m(*args, **kwargs)\u001b[0m\n\u001b[1;32m     68\u001b[0m             \u001b[0;31m# To get the full stack trace, call:\u001b[0m\u001b[0;34m\u001b[0m\u001b[0;34m\u001b[0m\u001b[0m\n\u001b[1;32m     69\u001b[0m             \u001b[0;31m# `tf.debugging.disable_traceback_filtering()`\u001b[0m\u001b[0;34m\u001b[0m\u001b[0;34m\u001b[0m\u001b[0m\n\u001b[0;32m---> 70\u001b[0;31m             \u001b[0;32mraise\u001b[0m \u001b[0me\u001b[0m\u001b[0;34m.\u001b[0m\u001b[0mwith_traceback\u001b[0m\u001b[0;34m(\u001b[0m\u001b[0mfiltered_tb\u001b[0m\u001b[0;34m)\u001b[0m \u001b[0;32mfrom\u001b[0m \u001b[0;32mNone\u001b[0m\u001b[0;34m\u001b[0m\u001b[0;34m\u001b[0m\u001b[0m\n\u001b[0m\u001b[1;32m     71\u001b[0m         \u001b[0;32mfinally\u001b[0m\u001b[0;34m:\u001b[0m\u001b[0;34m\u001b[0m\u001b[0;34m\u001b[0m\u001b[0m\n\u001b[1;32m     72\u001b[0m             \u001b[0;32mdel\u001b[0m \u001b[0mfiltered_tb\u001b[0m\u001b[0;34m\u001b[0m\u001b[0;34m\u001b[0m\u001b[0m\n",
            "\u001b[0;32m/usr/local/lib/python3.10/dist-packages/keras/src/engine/training.py\u001b[0m in \u001b[0;36mtf__predict_function\u001b[0;34m(iterator)\u001b[0m\n\u001b[1;32m     13\u001b[0m                 \u001b[0;32mtry\u001b[0m\u001b[0;34m:\u001b[0m\u001b[0;34m\u001b[0m\u001b[0;34m\u001b[0m\u001b[0m\n\u001b[1;32m     14\u001b[0m                     \u001b[0mdo_return\u001b[0m \u001b[0;34m=\u001b[0m \u001b[0;32mTrue\u001b[0m\u001b[0;34m\u001b[0m\u001b[0;34m\u001b[0m\u001b[0m\n\u001b[0;32m---> 15\u001b[0;31m                     \u001b[0mretval_\u001b[0m \u001b[0;34m=\u001b[0m \u001b[0mag__\u001b[0m\u001b[0;34m.\u001b[0m\u001b[0mconverted_call\u001b[0m\u001b[0;34m(\u001b[0m\u001b[0mag__\u001b[0m\u001b[0;34m.\u001b[0m\u001b[0mld\u001b[0m\u001b[0;34m(\u001b[0m\u001b[0mstep_function\u001b[0m\u001b[0;34m)\u001b[0m\u001b[0;34m,\u001b[0m \u001b[0;34m(\u001b[0m\u001b[0mag__\u001b[0m\u001b[0;34m.\u001b[0m\u001b[0mld\u001b[0m\u001b[0;34m(\u001b[0m\u001b[0mself\u001b[0m\u001b[0;34m)\u001b[0m\u001b[0;34m,\u001b[0m \u001b[0mag__\u001b[0m\u001b[0;34m.\u001b[0m\u001b[0mld\u001b[0m\u001b[0;34m(\u001b[0m\u001b[0miterator\u001b[0m\u001b[0;34m)\u001b[0m\u001b[0;34m)\u001b[0m\u001b[0;34m,\u001b[0m \u001b[0;32mNone\u001b[0m\u001b[0;34m,\u001b[0m \u001b[0mfscope\u001b[0m\u001b[0;34m)\u001b[0m\u001b[0;34m\u001b[0m\u001b[0;34m\u001b[0m\u001b[0m\n\u001b[0m\u001b[1;32m     16\u001b[0m                 \u001b[0;32mexcept\u001b[0m\u001b[0;34m:\u001b[0m\u001b[0;34m\u001b[0m\u001b[0;34m\u001b[0m\u001b[0m\n\u001b[1;32m     17\u001b[0m                     \u001b[0mdo_return\u001b[0m \u001b[0;34m=\u001b[0m \u001b[0;32mFalse\u001b[0m\u001b[0;34m\u001b[0m\u001b[0;34m\u001b[0m\u001b[0m\n",
            "\u001b[0;31mValueError\u001b[0m: in user code:\n\n    File \"/usr/local/lib/python3.10/dist-packages/keras/src/engine/training.py\", line 2440, in predict_function  *\n        return step_function(self, iterator)\n    File \"/usr/local/lib/python3.10/dist-packages/keras/src/engine/training.py\", line 2425, in step_function  **\n        outputs = model.distribute_strategy.run(run_step, args=(data,))\n    File \"/usr/local/lib/python3.10/dist-packages/keras/src/engine/training.py\", line 2413, in run_step  **\n        outputs = model.predict_step(data)\n    File \"/usr/local/lib/python3.10/dist-packages/keras/src/engine/training.py\", line 2381, in predict_step\n        return self(x, training=False)\n    File \"/usr/local/lib/python3.10/dist-packages/keras/src/utils/traceback_utils.py\", line 70, in error_handler\n        raise e.with_traceback(filtered_tb) from None\n    File \"/usr/local/lib/python3.10/dist-packages/keras/src/engine/input_spec.py\", line 235, in assert_input_compatibility\n        raise ValueError(\n\n    ValueError: Exception encountered when calling layer 'sequential_2' (type Sequential).\n    \n    Input 0 of layer \"lstm_2\" is incompatible with the layer: expected ndim=3, found ndim=1. Full shape received: (None,)\n    \n    Call arguments received by layer 'sequential_2' (type Sequential):\n      • inputs=tf.Tensor(shape=(None,), dtype=float32)\n      • training=False\n      • mask=None\n"
          ]
        }
      ]
    }
  ]
}