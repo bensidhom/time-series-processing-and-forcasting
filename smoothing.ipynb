{
  "nbformat": 4,
  "nbformat_minor": 0,
  "metadata": {
    "colab": {
      "provenance": []
    },
    "kernelspec": {
      "name": "python3",
      "display_name": "Python 3"
    },
    "language_info": {
      "name": "python"
    }
  },
  "cells": [
    {
      "cell_type": "code",
      "execution_count": null,
      "metadata": {
        "id": "mFQas4j_JaBB"
      },
      "outputs": [],
      "source": [
        "import pandas as pd\n",
        "\n",
        "\n",
        "\n",
        "# Calculate moving average with a window size of 5\n",
        "df_hits['Cumulative_count_smooth'] = df_hits['CumulativeC'].rolling(window=5).mean()\n",
        "\n",
        "# Plot original data and moving averages\n",
        "plt.plot(df_hits['CumulativeC'], label='Original Data')\n",
        "plt.plot(df_hits['Cumulative_count_smooth'], label='Moving Average')\n",
        "plt.legend()\n",
        "plt.show()"
      ]
    }
  ]
}