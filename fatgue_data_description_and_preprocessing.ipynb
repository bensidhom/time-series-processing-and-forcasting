{
  "cells": [
    {
      "cell_type": "markdown",
      "metadata": {
        "id": "34O6mVRTle-S"
      },
      "source": []
    },
    {
      "cell_type": "code",
      "execution_count": null,
      "metadata": {
        "colab": {
          "base_uri": "https://localhost:8080/"
        },
        "id": "WG-60gWJle-T",
        "outputId": "41f8b404-aa69-4661-e646-a62609a1ea71"
      },
      "outputs": [
        {
          "output_type": "stream",
          "name": "stdout",
          "text": [
            "Pandas version:  2.2.2\n",
            "Numpy version:  1.26.4\n",
            "Scikit-learn version:  1.5.2\n"
          ]
        }
      ],
      "source": [
        "import pandas as pd\n",
        "import numpy as np\n",
        "import matplotlib.pyplot as plt\n",
        "import seaborn as sns\n",
        "import sklearn\n",
        "from sklearn.preprocessing import StandardScaler, MinMaxScaler\n",
        "\n",
        "pd.set_option('display.max_columns', None)\n",
        "\n",
        "print(\"Pandas version: \", pd.__version__)\n",
        "print(\"Numpy version: \", np.__version__)\n",
        "print(\"Scikit-learn version: \", sklearn.__version__)"
      ]
    },
    {
      "cell_type": "code",
      "execution_count": null,
      "metadata": {
        "id": "qhCigrJDle-U"
      },
      "outputs": [],
      "source": [
        "df= pd.read_csv(\"/content/Drexel_fatigue.csv\")\n"
      ]
    },
    {
      "cell_type": "code",
      "execution_count": null,
      "metadata": {
        "colab": {
          "base_uri": "https://localhost:8080/",
          "height": 424
        },
        "id": "YZ0One3ule-U",
        "outputId": "a32f5b9a-4f0d-4443-966c-99bcde2a4434"
      },
      "outputs": [
        {
          "output_type": "execute_result",
          "data": {
            "text/plain": [
              "      hits  cycles  RUL  RUL_norm\n",
              "0      163       0  568  1.000000\n",
              "1      132       1  567  0.998239\n",
              "2      109       2  566  0.996479\n",
              "3       97       3  565  0.994718\n",
              "4       97       4  564  0.992958\n",
              "...    ...     ...  ...       ...\n",
              "1811   406     622    4  0.006390\n",
              "1812   385     623    3  0.004792\n",
              "1813   286     624    2  0.003195\n",
              "1814   682     625    1  0.001597\n",
              "1815    97     626    0  0.000000\n",
              "\n",
              "[1816 rows x 4 columns]"
            ],
            "text/html": [
              "\n",
              "  <div id=\"df-53df950b-a145-4536-80ee-caaf17cbcf5e\" class=\"colab-df-container\">\n",
              "    <div>\n",
              "<style scoped>\n",
              "    .dataframe tbody tr th:only-of-type {\n",
              "        vertical-align: middle;\n",
              "    }\n",
              "\n",
              "    .dataframe tbody tr th {\n",
              "        vertical-align: top;\n",
              "    }\n",
              "\n",
              "    .dataframe thead th {\n",
              "        text-align: right;\n",
              "    }\n",
              "</style>\n",
              "<table border=\"1\" class=\"dataframe\">\n",
              "  <thead>\n",
              "    <tr style=\"text-align: right;\">\n",
              "      <th></th>\n",
              "      <th>hits</th>\n",
              "      <th>cycles</th>\n",
              "      <th>RUL</th>\n",
              "      <th>RUL_norm</th>\n",
              "    </tr>\n",
              "  </thead>\n",
              "  <tbody>\n",
              "    <tr>\n",
              "      <th>0</th>\n",
              "      <td>163</td>\n",
              "      <td>0</td>\n",
              "      <td>568</td>\n",
              "      <td>1.000000</td>\n",
              "    </tr>\n",
              "    <tr>\n",
              "      <th>1</th>\n",
              "      <td>132</td>\n",
              "      <td>1</td>\n",
              "      <td>567</td>\n",
              "      <td>0.998239</td>\n",
              "    </tr>\n",
              "    <tr>\n",
              "      <th>2</th>\n",
              "      <td>109</td>\n",
              "      <td>2</td>\n",
              "      <td>566</td>\n",
              "      <td>0.996479</td>\n",
              "    </tr>\n",
              "    <tr>\n",
              "      <th>3</th>\n",
              "      <td>97</td>\n",
              "      <td>3</td>\n",
              "      <td>565</td>\n",
              "      <td>0.994718</td>\n",
              "    </tr>\n",
              "    <tr>\n",
              "      <th>4</th>\n",
              "      <td>97</td>\n",
              "      <td>4</td>\n",
              "      <td>564</td>\n",
              "      <td>0.992958</td>\n",
              "    </tr>\n",
              "    <tr>\n",
              "      <th>...</th>\n",
              "      <td>...</td>\n",
              "      <td>...</td>\n",
              "      <td>...</td>\n",
              "      <td>...</td>\n",
              "    </tr>\n",
              "    <tr>\n",
              "      <th>1811</th>\n",
              "      <td>406</td>\n",
              "      <td>622</td>\n",
              "      <td>4</td>\n",
              "      <td>0.006390</td>\n",
              "    </tr>\n",
              "    <tr>\n",
              "      <th>1812</th>\n",
              "      <td>385</td>\n",
              "      <td>623</td>\n",
              "      <td>3</td>\n",
              "      <td>0.004792</td>\n",
              "    </tr>\n",
              "    <tr>\n",
              "      <th>1813</th>\n",
              "      <td>286</td>\n",
              "      <td>624</td>\n",
              "      <td>2</td>\n",
              "      <td>0.003195</td>\n",
              "    </tr>\n",
              "    <tr>\n",
              "      <th>1814</th>\n",
              "      <td>682</td>\n",
              "      <td>625</td>\n",
              "      <td>1</td>\n",
              "      <td>0.001597</td>\n",
              "    </tr>\n",
              "    <tr>\n",
              "      <th>1815</th>\n",
              "      <td>97</td>\n",
              "      <td>626</td>\n",
              "      <td>0</td>\n",
              "      <td>0.000000</td>\n",
              "    </tr>\n",
              "  </tbody>\n",
              "</table>\n",
              "<p>1816 rows × 4 columns</p>\n",
              "</div>\n",
              "    <div class=\"colab-df-buttons\">\n",
              "\n",
              "  <div class=\"colab-df-container\">\n",
              "    <button class=\"colab-df-convert\" onclick=\"convertToInteractive('df-53df950b-a145-4536-80ee-caaf17cbcf5e')\"\n",
              "            title=\"Convert this dataframe to an interactive table.\"\n",
              "            style=\"display:none;\">\n",
              "\n",
              "  <svg xmlns=\"http://www.w3.org/2000/svg\" height=\"24px\" viewBox=\"0 -960 960 960\">\n",
              "    <path d=\"M120-120v-720h720v720H120Zm60-500h600v-160H180v160Zm220 220h160v-160H400v160Zm0 220h160v-160H400v160ZM180-400h160v-160H180v160Zm440 0h160v-160H620v160ZM180-180h160v-160H180v160Zm440 0h160v-160H620v160Z\"/>\n",
              "  </svg>\n",
              "    </button>\n",
              "\n",
              "  <style>\n",
              "    .colab-df-container {\n",
              "      display:flex;\n",
              "      gap: 12px;\n",
              "    }\n",
              "\n",
              "    .colab-df-convert {\n",
              "      background-color: #E8F0FE;\n",
              "      border: none;\n",
              "      border-radius: 50%;\n",
              "      cursor: pointer;\n",
              "      display: none;\n",
              "      fill: #1967D2;\n",
              "      height: 32px;\n",
              "      padding: 0 0 0 0;\n",
              "      width: 32px;\n",
              "    }\n",
              "\n",
              "    .colab-df-convert:hover {\n",
              "      background-color: #E2EBFA;\n",
              "      box-shadow: 0px 1px 2px rgba(60, 64, 67, 0.3), 0px 1px 3px 1px rgba(60, 64, 67, 0.15);\n",
              "      fill: #174EA6;\n",
              "    }\n",
              "\n",
              "    .colab-df-buttons div {\n",
              "      margin-bottom: 4px;\n",
              "    }\n",
              "\n",
              "    [theme=dark] .colab-df-convert {\n",
              "      background-color: #3B4455;\n",
              "      fill: #D2E3FC;\n",
              "    }\n",
              "\n",
              "    [theme=dark] .colab-df-convert:hover {\n",
              "      background-color: #434B5C;\n",
              "      box-shadow: 0px 1px 3px 1px rgba(0, 0, 0, 0.15);\n",
              "      filter: drop-shadow(0px 1px 2px rgba(0, 0, 0, 0.3));\n",
              "      fill: #FFFFFF;\n",
              "    }\n",
              "  </style>\n",
              "\n",
              "    <script>\n",
              "      const buttonEl =\n",
              "        document.querySelector('#df-53df950b-a145-4536-80ee-caaf17cbcf5e button.colab-df-convert');\n",
              "      buttonEl.style.display =\n",
              "        google.colab.kernel.accessAllowed ? 'block' : 'none';\n",
              "\n",
              "      async function convertToInteractive(key) {\n",
              "        const element = document.querySelector('#df-53df950b-a145-4536-80ee-caaf17cbcf5e');\n",
              "        const dataTable =\n",
              "          await google.colab.kernel.invokeFunction('convertToInteractive',\n",
              "                                                    [key], {});\n",
              "        if (!dataTable) return;\n",
              "\n",
              "        const docLinkHtml = 'Like what you see? Visit the ' +\n",
              "          '<a target=\"_blank\" href=https://colab.research.google.com/notebooks/data_table.ipynb>data table notebook</a>'\n",
              "          + ' to learn more about interactive tables.';\n",
              "        element.innerHTML = '';\n",
              "        dataTable['output_type'] = 'display_data';\n",
              "        await google.colab.output.renderOutput(dataTable, element);\n",
              "        const docLink = document.createElement('div');\n",
              "        docLink.innerHTML = docLinkHtml;\n",
              "        element.appendChild(docLink);\n",
              "      }\n",
              "    </script>\n",
              "  </div>\n",
              "\n",
              "\n",
              "<div id=\"df-21d558e5-482c-40df-8a6c-0eb20bcb4c98\">\n",
              "  <button class=\"colab-df-quickchart\" onclick=\"quickchart('df-21d558e5-482c-40df-8a6c-0eb20bcb4c98')\"\n",
              "            title=\"Suggest charts\"\n",
              "            style=\"display:none;\">\n",
              "\n",
              "<svg xmlns=\"http://www.w3.org/2000/svg\" height=\"24px\"viewBox=\"0 0 24 24\"\n",
              "     width=\"24px\">\n",
              "    <g>\n",
              "        <path d=\"M19 3H5c-1.1 0-2 .9-2 2v14c0 1.1.9 2 2 2h14c1.1 0 2-.9 2-2V5c0-1.1-.9-2-2-2zM9 17H7v-7h2v7zm4 0h-2V7h2v10zm4 0h-2v-4h2v4z\"/>\n",
              "    </g>\n",
              "</svg>\n",
              "  </button>\n",
              "\n",
              "<style>\n",
              "  .colab-df-quickchart {\n",
              "      --bg-color: #E8F0FE;\n",
              "      --fill-color: #1967D2;\n",
              "      --hover-bg-color: #E2EBFA;\n",
              "      --hover-fill-color: #174EA6;\n",
              "      --disabled-fill-color: #AAA;\n",
              "      --disabled-bg-color: #DDD;\n",
              "  }\n",
              "\n",
              "  [theme=dark] .colab-df-quickchart {\n",
              "      --bg-color: #3B4455;\n",
              "      --fill-color: #D2E3FC;\n",
              "      --hover-bg-color: #434B5C;\n",
              "      --hover-fill-color: #FFFFFF;\n",
              "      --disabled-bg-color: #3B4455;\n",
              "      --disabled-fill-color: #666;\n",
              "  }\n",
              "\n",
              "  .colab-df-quickchart {\n",
              "    background-color: var(--bg-color);\n",
              "    border: none;\n",
              "    border-radius: 50%;\n",
              "    cursor: pointer;\n",
              "    display: none;\n",
              "    fill: var(--fill-color);\n",
              "    height: 32px;\n",
              "    padding: 0;\n",
              "    width: 32px;\n",
              "  }\n",
              "\n",
              "  .colab-df-quickchart:hover {\n",
              "    background-color: var(--hover-bg-color);\n",
              "    box-shadow: 0 1px 2px rgba(60, 64, 67, 0.3), 0 1px 3px 1px rgba(60, 64, 67, 0.15);\n",
              "    fill: var(--button-hover-fill-color);\n",
              "  }\n",
              "\n",
              "  .colab-df-quickchart-complete:disabled,\n",
              "  .colab-df-quickchart-complete:disabled:hover {\n",
              "    background-color: var(--disabled-bg-color);\n",
              "    fill: var(--disabled-fill-color);\n",
              "    box-shadow: none;\n",
              "  }\n",
              "\n",
              "  .colab-df-spinner {\n",
              "    border: 2px solid var(--fill-color);\n",
              "    border-color: transparent;\n",
              "    border-bottom-color: var(--fill-color);\n",
              "    animation:\n",
              "      spin 1s steps(1) infinite;\n",
              "  }\n",
              "\n",
              "  @keyframes spin {\n",
              "    0% {\n",
              "      border-color: transparent;\n",
              "      border-bottom-color: var(--fill-color);\n",
              "      border-left-color: var(--fill-color);\n",
              "    }\n",
              "    20% {\n",
              "      border-color: transparent;\n",
              "      border-left-color: var(--fill-color);\n",
              "      border-top-color: var(--fill-color);\n",
              "    }\n",
              "    30% {\n",
              "      border-color: transparent;\n",
              "      border-left-color: var(--fill-color);\n",
              "      border-top-color: var(--fill-color);\n",
              "      border-right-color: var(--fill-color);\n",
              "    }\n",
              "    40% {\n",
              "      border-color: transparent;\n",
              "      border-right-color: var(--fill-color);\n",
              "      border-top-color: var(--fill-color);\n",
              "    }\n",
              "    60% {\n",
              "      border-color: transparent;\n",
              "      border-right-color: var(--fill-color);\n",
              "    }\n",
              "    80% {\n",
              "      border-color: transparent;\n",
              "      border-right-color: var(--fill-color);\n",
              "      border-bottom-color: var(--fill-color);\n",
              "    }\n",
              "    90% {\n",
              "      border-color: transparent;\n",
              "      border-bottom-color: var(--fill-color);\n",
              "    }\n",
              "  }\n",
              "</style>\n",
              "\n",
              "  <script>\n",
              "    async function quickchart(key) {\n",
              "      const quickchartButtonEl =\n",
              "        document.querySelector('#' + key + ' button');\n",
              "      quickchartButtonEl.disabled = true;  // To prevent multiple clicks.\n",
              "      quickchartButtonEl.classList.add('colab-df-spinner');\n",
              "      try {\n",
              "        const charts = await google.colab.kernel.invokeFunction(\n",
              "            'suggestCharts', [key], {});\n",
              "      } catch (error) {\n",
              "        console.error('Error during call to suggestCharts:', error);\n",
              "      }\n",
              "      quickchartButtonEl.classList.remove('colab-df-spinner');\n",
              "      quickchartButtonEl.classList.add('colab-df-quickchart-complete');\n",
              "    }\n",
              "    (() => {\n",
              "      let quickchartButtonEl =\n",
              "        document.querySelector('#df-21d558e5-482c-40df-8a6c-0eb20bcb4c98 button');\n",
              "      quickchartButtonEl.style.display =\n",
              "        google.colab.kernel.accessAllowed ? 'block' : 'none';\n",
              "    })();\n",
              "  </script>\n",
              "</div>\n",
              "\n",
              "  <div id=\"id_52aa7634-54f8-4f49-ad49-dedf3ff55930\">\n",
              "    <style>\n",
              "      .colab-df-generate {\n",
              "        background-color: #E8F0FE;\n",
              "        border: none;\n",
              "        border-radius: 50%;\n",
              "        cursor: pointer;\n",
              "        display: none;\n",
              "        fill: #1967D2;\n",
              "        height: 32px;\n",
              "        padding: 0 0 0 0;\n",
              "        width: 32px;\n",
              "      }\n",
              "\n",
              "      .colab-df-generate:hover {\n",
              "        background-color: #E2EBFA;\n",
              "        box-shadow: 0px 1px 2px rgba(60, 64, 67, 0.3), 0px 1px 3px 1px rgba(60, 64, 67, 0.15);\n",
              "        fill: #174EA6;\n",
              "      }\n",
              "\n",
              "      [theme=dark] .colab-df-generate {\n",
              "        background-color: #3B4455;\n",
              "        fill: #D2E3FC;\n",
              "      }\n",
              "\n",
              "      [theme=dark] .colab-df-generate:hover {\n",
              "        background-color: #434B5C;\n",
              "        box-shadow: 0px 1px 3px 1px rgba(0, 0, 0, 0.15);\n",
              "        filter: drop-shadow(0px 1px 2px rgba(0, 0, 0, 0.3));\n",
              "        fill: #FFFFFF;\n",
              "      }\n",
              "    </style>\n",
              "    <button class=\"colab-df-generate\" onclick=\"generateWithVariable('df')\"\n",
              "            title=\"Generate code using this dataframe.\"\n",
              "            style=\"display:none;\">\n",
              "\n",
              "  <svg xmlns=\"http://www.w3.org/2000/svg\" height=\"24px\"viewBox=\"0 0 24 24\"\n",
              "       width=\"24px\">\n",
              "    <path d=\"M7,19H8.4L18.45,9,17,7.55,7,17.6ZM5,21V16.75L18.45,3.32a2,2,0,0,1,2.83,0l1.4,1.43a1.91,1.91,0,0,1,.58,1.4,1.91,1.91,0,0,1-.58,1.4L9.25,21ZM18.45,9,17,7.55Zm-12,3A5.31,5.31,0,0,0,4.9,8.1,5.31,5.31,0,0,0,1,6.5,5.31,5.31,0,0,0,4.9,4.9,5.31,5.31,0,0,0,6.5,1,5.31,5.31,0,0,0,8.1,4.9,5.31,5.31,0,0,0,12,6.5,5.46,5.46,0,0,0,6.5,12Z\"/>\n",
              "  </svg>\n",
              "    </button>\n",
              "    <script>\n",
              "      (() => {\n",
              "      const buttonEl =\n",
              "        document.querySelector('#id_52aa7634-54f8-4f49-ad49-dedf3ff55930 button.colab-df-generate');\n",
              "      buttonEl.style.display =\n",
              "        google.colab.kernel.accessAllowed ? 'block' : 'none';\n",
              "\n",
              "      buttonEl.onclick = () => {\n",
              "        google.colab.notebook.generateWithVariable('df');\n",
              "      }\n",
              "      })();\n",
              "    </script>\n",
              "  </div>\n",
              "\n",
              "    </div>\n",
              "  </div>\n"
            ],
            "application/vnd.google.colaboratory.intrinsic+json": {
              "type": "dataframe",
              "variable_name": "df",
              "summary": "{\n  \"name\": \"df\",\n  \"rows\": 1816,\n  \"fields\": [\n    {\n      \"column\": \"hits\",\n      \"properties\": {\n        \"dtype\": \"number\",\n        \"std\": 77,\n        \"min\": 26,\n        \"max\": 736,\n        \"num_unique_values\": 275,\n        \"samples\": [\n          74,\n          258,\n          35\n        ],\n        \"semantic_type\": \"\",\n        \"description\": \"\"\n      }\n    },\n    {\n      \"column\": \"cycles\",\n      \"properties\": {\n        \"dtype\": \"number\",\n        \"std\": 175,\n        \"min\": 0,\n        \"max\": 626,\n        \"num_unique_values\": 627,\n        \"samples\": [\n          580,\n          590,\n          550\n        ],\n        \"semantic_type\": \"\",\n        \"description\": \"\"\n      }\n    },\n    {\n      \"column\": \"RUL\",\n      \"properties\": {\n        \"dtype\": \"number\",\n        \"std\": 175,\n        \"min\": 0,\n        \"max\": 626,\n        \"num_unique_values\": 627,\n        \"samples\": [\n          608,\n          598,\n          18\n        ],\n        \"semantic_type\": \"\",\n        \"description\": \"\"\n      }\n    },\n    {\n      \"column\": \"RUL_norm\",\n      \"properties\": {\n        \"dtype\": \"number\",\n        \"std\": 0.2892320622158272,\n        \"min\": 0.0,\n        \"max\": 1.0,\n        \"num_unique_values\": 1811,\n        \"samples\": [\n          0.747603834,\n          0.88556338,\n          0.618210863\n        ],\n        \"semantic_type\": \"\",\n        \"description\": \"\"\n      }\n    }\n  ]\n}"
            }
          },
          "metadata": {},
          "execution_count": 5
        }
      ],
      "source": [
        "df"
      ]
    },
    {
      "cell_type": "code",
      "source": [
        "train_data=df.iloc[:1187,:]"
      ],
      "metadata": {
        "id": "mlZLMVyERlvE"
      },
      "execution_count": null,
      "outputs": []
    },
    {
      "cell_type": "code",
      "source": [
        "test_data=df.iloc[1187:,:]"
      ],
      "metadata": {
        "id": "d2aS1LujRlsG"
      },
      "execution_count": null,
      "outputs": []
    },
    {
      "cell_type": "code",
      "source": [
        "test_data.shape"
      ],
      "metadata": {
        "id": "pvgSBakrRlyW",
        "colab": {
          "base_uri": "https://localhost:8080/"
        },
        "outputId": "9ce1fef4-5301-483d-d849-541a3f07bb50"
      },
      "execution_count": null,
      "outputs": [
        {
          "output_type": "execute_result",
          "data": {
            "text/plain": [
              "(629, 4)"
            ]
          },
          "metadata": {},
          "execution_count": 9
        }
      ]
    },
    {
      "cell_type": "code",
      "source": [],
      "metadata": {
        "id": "OKS6w16aRl1k"
      },
      "execution_count": null,
      "outputs": []
    },
    {
      "cell_type": "code",
      "source": [],
      "metadata": {
        "id": "qPEguj8wRl4l"
      },
      "execution_count": null,
      "outputs": []
    },
    {
      "cell_type": "code",
      "source": [],
      "metadata": {
        "id": "b2O7WBRCRl71"
      },
      "execution_count": null,
      "outputs": []
    },
    {
      "cell_type": "code",
      "source": [],
      "metadata": {
        "id": "7n66U_2KRl-z"
      },
      "execution_count": null,
      "outputs": []
    },
    {
      "cell_type": "code",
      "source": [],
      "metadata": {
        "id": "FVrmuCnYRmCH"
      },
      "execution_count": null,
      "outputs": []
    },
    {
      "cell_type": "code",
      "source": [],
      "metadata": {
        "id": "QiAZ0WtYRmFL"
      },
      "execution_count": null,
      "outputs": []
    },
    {
      "cell_type": "code",
      "source": [],
      "metadata": {
        "id": "IAxjoAIJRmH-"
      },
      "execution_count": null,
      "outputs": []
    },
    {
      "cell_type": "code",
      "source": [],
      "metadata": {
        "id": "6P_5ZXReRmK1"
      },
      "execution_count": null,
      "outputs": []
    },
    {
      "cell_type": "code",
      "source": [],
      "metadata": {
        "id": "B9ichhnyRmON"
      },
      "execution_count": null,
      "outputs": []
    },
    {
      "cell_type": "markdown",
      "metadata": {
        "id": "eEgXaJhBle-U"
      },
      "source": []
    },
    {
      "cell_type": "markdown",
      "metadata": {
        "id": "I9g3E8v_le-U"
      },
      "source": [
        "### How many engines are there?\n",
        "\n",
        "Number of unique values in first column gives us the total number of specimens that are under study in this dataset."
      ]
    },
    {
      "cell_type": "code",
      "execution_count": null,
      "metadata": {
        "colab": {
          "base_uri": "https://localhost:8080/"
        },
        "id": "IwO6O3Rnle-U",
        "outputId": "a7dcc9f0-00a7-4cc7-9ed5-0708a81195b8"
      },
      "outputs": [
        {
          "output_type": "execute_result",
          "data": {
            "text/plain": [
              "array([1, 2, 3])"
            ]
          },
          "metadata": {},
          "execution_count": 5
        }
      ],
      "source": [
        "np.unique(train_data['specimen'])"
      ]
    },
    {
      "cell_type": "markdown",
      "metadata": {
        "id": "zG82oxQxle-U"
      },
      "source": [
        "after how many cycle does the specimens fail"
      ]
    },
    {
      "cell_type": "code",
      "source": [],
      "metadata": {
        "id": "pekDh_-_ue-_"
      },
      "execution_count": null,
      "outputs": []
    },
    {
      "cell_type": "code",
      "execution_count": null,
      "metadata": {
        "colab": {
          "base_uri": "https://localhost:8080/"
        },
        "id": "h4Y_zag1le-U",
        "outputId": "ad2a03f1-bb4e-4152-b391-8b3bb3162063"
      },
      "outputs": [
        {
          "output_type": "execute_result",
          "data": {
            "text/plain": [
              "array([3113, 1257, 2191])"
            ]
          },
          "metadata": {},
          "execution_count": 6
        }
      ],
      "source": [
        "num_cycles_to_failure = train_data.groupby('specimen')['label'].max()\n",
        "num_cycles_to_failure.values"
      ]
    },
    {
      "cell_type": "code",
      "source": [
        "x=max(train_data['label'].where(train_data['specimen']==1))"
      ],
      "metadata": {
        "id": "nWnIibKyasjD"
      },
      "execution_count": null,
      "outputs": []
    },
    {
      "cell_type": "code",
      "source": [
        "x"
      ],
      "metadata": {
        "colab": {
          "base_uri": "https://localhost:8080/"
        },
        "id": "x9wzbPvFbCvC",
        "outputId": "8f56f753-7aea-4925-8d23-7478f1b1cf0f"
      },
      "execution_count": null,
      "outputs": [
        {
          "output_type": "execute_result",
          "data": {
            "text/plain": [
              "3113.0"
            ]
          },
          "metadata": {},
          "execution_count": 8
        }
      ]
    },
    {
      "cell_type": "markdown",
      "metadata": {
        "id": "_B8cEe1jle-V"
      },
      "source": []
    },
    {
      "cell_type": "code",
      "execution_count": null,
      "metadata": {
        "colab": {
          "base_uri": "https://localhost:8080/"
        },
        "id": "-HWieQKAle-V",
        "outputId": "6bc9e254-7f98-465f-99b4-55deef12f699"
      },
      "outputs": [
        {
          "output_type": "stream",
          "name": "stdout",
          "text": [
            "Linear degradation model shape (for engine 1):  (3113,)\n",
            "Piecewise linear degradation model shape (for engine 1):  (3113,)\n"
          ]
        }
      ],
      "source": [
        "engine_1_linear_degradation_model = np.arange(3113-1, -1, -1)\n",
        "\n",
        "# Piecewise_linear_degradation model\n",
        "early_rul = 1000\n",
        "engine_1_piecewise_linear_degradation_model = np.append(early_rul*np.ones(shape = (3113-early_rul,)),\n",
        "                                                        np.arange(early_rul-1, -1, -1))\n",
        "\n",
        "print(\"Linear degradation model shape (for engine 1): \", engine_1_linear_degradation_model.shape)\n",
        "print(\"Piecewise linear degradation model shape (for engine 1): \", engine_1_piecewise_linear_degradation_model.shape)"
      ]
    },
    {
      "cell_type": "code",
      "execution_count": null,
      "metadata": {
        "colab": {
          "base_uri": "https://localhost:8080/",
          "height": 545
        },
        "id": "CF-eC9Vule-V",
        "outputId": "cfabb601-de0d-4334-de2b-e329ca18fd0e"
      },
      "outputs": [
        {
          "output_type": "display_data",
          "data": {
            "text/plain": [
              "<Figure size 1200x600 with 2 Axes>"
            ],
            "image/png": "[encoded data removed]"
          },
          "metadata": {}
        }
      ],
      "source": [
        "plt.figure(figsize = (12, 6))\n",
        "plt.subplot(121)\n",
        "plt.plot(engine_1_linear_degradation_model)\n",
        "plt.title(\"Linear degradation model (engine 1)\")\n",
        "plt.subplot(122)\n",
        "plt.plot(engine_1_piecewise_linear_degradation_model)\n",
        "plt.title(\"Piecewise linear degradation plot (engine 1)\")\n",
        "plt.show()"
      ]
    },
    {
      "cell_type": "markdown",
      "metadata": {
        "id": "OdoX7Y4Ple-V"
      },
      "source": []
    },
    {
      "cell_type": "code",
      "execution_count": null,
      "metadata": {
        "id": "4nWnb2yRle-V"
      },
      "outputs": [],
      "source": [
        "def process_targets(data_length, early_rul = None):\n",
        "    \"\"\"\n",
        "    Takes datalength (i.e., total number of cycles for each engine) and early_rul as input and\n",
        "    creates target rul.\n",
        "\n",
        "    Arguments:\n",
        "        data_length: (scaler) Number of cycles for each engine\n",
        "        early_rul: (scaler) Early RUL value to be set. When set to `None`, linear degradation\n",
        "                   curve is used. (deafult: None)\n",
        "\n",
        "    Returns:\n",
        "        target_array: (1D float array) Target array\n",
        "    \"\"\"\n",
        "    if early_rul == None:\n",
        "        return np.arange(data_length-1, -1, -1)\n",
        "    else:\n",
        "        early_rul_duration = data_length - early_rul\n",
        "        if early_rul_duration <= 0:    # This condition is needed when early rul is larger than data_length of an engine\n",
        "            target_array = np.arange(data_length-1, -1, -1)\n",
        "            return target_array\n",
        "        else:\n",
        "            target_array = np.append(early_rul*np.ones(shape = (early_rul_duration,)), np.arange(early_rul-1, -1, -1))\n",
        "            return target_array"
      ]
    },
    {
      "cell_type": "markdown",
      "metadata": {
        "id": "HvCV9hjgle-V"
      },
      "source": []
    },
    {
      "cell_type": "code",
      "execution_count": null,
      "metadata": {
        "colab": {
          "base_uri": "https://localhost:8080/",
          "height": 545
        },
        "id": "XbWIzlu6le-V",
        "outputId": "01af25e9-81bf-43eb-faef-64cb0db3b088"
      },
      "outputs": [
        {
          "output_type": "display_data",
          "data": {
            "text/plain": [
              "<Figure size 1200x600 with 2 Axes>"
            ],
            "image/png": "[encoded data removed]"
          },
          "metadata": {}
        }
      ],
      "source": [
        "engine_7_linear_degradation_rul = process_targets( 1257, early_rul = None)\n",
        "engine_7_piecewise_linear_degradation_rul = process_targets( 1257, early_rul = 125)\n",
        "plt.figure(figsize = (12, 6))\n",
        "plt.subplot(121)\n",
        "plt.plot(engine_7_linear_degradation_rul)\n",
        "plt.title(\"Linear degradation model (engine 7)\")\n",
        "plt.subplot(122)\n",
        "plt.plot(engine_7_piecewise_linear_degradation_rul)\n",
        "plt.title(\"Piecewise linear degradation plot (engine 7)\")\n",
        "plt.show()"
      ]
    },
    {
      "cell_type": "markdown",
      "metadata": {
        "id": "KoeT7FaNle-V"
      },
      "source": [
        "## Analyzing Test data\n",
        "\n",
        "Test data are similar to train data with only one difference. While for training data, data are available until failure for each specimen, for test data, it is available for an arbitrary number of cycles. Using the given test data, out goal is to predict RUL. For test data, true RUL values are also available so that we can compare the performance of our prediction algorithm."
      ]
    },
    {
      "cell_type": "code",
      "execution_count": null,
      "metadata": {
        "colab": {
          "base_uri": "https://localhost:8080/",
          "height": 304
        },
        "id": "8Ii1GFtGle-W",
        "outputId": "2c93c36d-5618-4243-c3d4-4be4a3801600"
      },
      "outputs": [
        {
          "output_type": "error",
          "ename": "FileNotFoundError",
          "evalue": "[Errno 2] No such file or directory: '/content/full2_test.xlsx'",
          "traceback": [
            "\u001b[0;31m---------------------------------------------------------------------------\u001b[0m",
            "\u001b[0;31mFileNotFoundError\u001b[0m                         Traceback (most recent call last)",
            "\u001b[0;32m<ipython-input-12-ab60454dc460>\u001b[0m in \u001b[0;36m<cell line: 1>\u001b[0;34m()\u001b[0m\n\u001b[0;32m----> 1\u001b[0;31m \u001b[0mtest_data\u001b[0m \u001b[0;34m=\u001b[0m \u001b[0mpd\u001b[0m\u001b[0;34m.\u001b[0m\u001b[0mread_excel\u001b[0m\u001b[0;34m(\u001b[0m\u001b[0;34m\"/content/full2_test.xlsx\"\u001b[0m\u001b[0;34m)\u001b[0m\u001b[0;34m\u001b[0m\u001b[0;34m\u001b[0m\u001b[0m\n\u001b[0m\u001b[1;32m      2\u001b[0m \u001b[0mtest_data\u001b[0m\u001b[0;34m.\u001b[0m\u001b[0mshape\u001b[0m\u001b[0;34m\u001b[0m\u001b[0;34m\u001b[0m\u001b[0m\n",
            "\u001b[0;32m/usr/local/lib/python3.10/dist-packages/pandas/io/excel/_base.py\u001b[0m in \u001b[0;36mread_excel\u001b[0;34m(io, sheet_name, header, names, index_col, usecols, dtype, engine, converters, true_values, false_values, skiprows, nrows, na_values, keep_default_na, na_filter, verbose, parse_dates, date_parser, date_format, thousands, decimal, comment, skipfooter, storage_options, dtype_backend)\u001b[0m\n\u001b[1;32m    476\u001b[0m     \u001b[0;32mif\u001b[0m \u001b[0;32mnot\u001b[0m \u001b[0misinstance\u001b[0m\u001b[0;34m(\u001b[0m\u001b[0mio\u001b[0m\u001b[0;34m,\u001b[0m \u001b[0mExcelFile\u001b[0m\u001b[0;34m)\u001b[0m\u001b[0;34m:\u001b[0m\u001b[0;34m\u001b[0m\u001b[0;34m\u001b[0m\u001b[0m\n\u001b[1;32m    477\u001b[0m         \u001b[0mshould_close\u001b[0m \u001b[0;34m=\u001b[0m \u001b[0;32mTrue\u001b[0m\u001b[0;34m\u001b[0m\u001b[0;34m\u001b[0m\u001b[0m\n\u001b[0;32m--> 478\u001b[0;31m         \u001b[0mio\u001b[0m \u001b[0;34m=\u001b[0m \u001b[0mExcelFile\u001b[0m\u001b[0;34m(\u001b[0m\u001b[0mio\u001b[0m\u001b[0;34m,\u001b[0m \u001b[0mstorage_options\u001b[0m\u001b[0;34m=\u001b[0m\u001b[0mstorage_options\u001b[0m\u001b[0;34m,\u001b[0m \u001b[0mengine\u001b[0m\u001b[0;34m=\u001b[0m\u001b[0mengine\u001b[0m\u001b[0;34m)\u001b[0m\u001b[0;34m\u001b[0m\u001b[0;34m\u001b[0m\u001b[0m\n\u001b[0m\u001b[1;32m    479\u001b[0m     \u001b[0;32melif\u001b[0m \u001b[0mengine\u001b[0m \u001b[0;32mand\u001b[0m \u001b[0mengine\u001b[0m \u001b[0;34m!=\u001b[0m \u001b[0mio\u001b[0m\u001b[0;34m.\u001b[0m\u001b[0mengine\u001b[0m\u001b[0;34m:\u001b[0m\u001b[0;34m\u001b[0m\u001b[0;34m\u001b[0m\u001b[0m\n\u001b[1;32m    480\u001b[0m         raise ValueError(\n",
            "\u001b[0;32m/usr/local/lib/python3.10/dist-packages/pandas/io/excel/_base.py\u001b[0m in \u001b[0;36m__init__\u001b[0;34m(self, path_or_buffer, engine, storage_options)\u001b[0m\n\u001b[1;32m   1494\u001b[0m                 \u001b[0mext\u001b[0m \u001b[0;34m=\u001b[0m \u001b[0;34m\"xls\"\u001b[0m\u001b[0;34m\u001b[0m\u001b[0;34m\u001b[0m\u001b[0m\n\u001b[1;32m   1495\u001b[0m             \u001b[0;32melse\u001b[0m\u001b[0;34m:\u001b[0m\u001b[0;34m\u001b[0m\u001b[0;34m\u001b[0m\u001b[0m\n\u001b[0;32m-> 1496\u001b[0;31m                 ext = inspect_excel_format(\n\u001b[0m\u001b[1;32m   1497\u001b[0m                     \u001b[0mcontent_or_path\u001b[0m\u001b[0;34m=\u001b[0m\u001b[0mpath_or_buffer\u001b[0m\u001b[0;34m,\u001b[0m \u001b[0mstorage_options\u001b[0m\u001b[0;34m=\u001b[0m\u001b[0mstorage_options\u001b[0m\u001b[0;34m\u001b[0m\u001b[0;34m\u001b[0m\u001b[0m\n\u001b[1;32m   1498\u001b[0m                 )\n",
            "\u001b[0;32m/usr/local/lib/python3.10/dist-packages/pandas/io/excel/_base.py\u001b[0m in \u001b[0;36minspect_excel_format\u001b[0;34m(content_or_path, storage_options)\u001b[0m\n\u001b[1;32m   1369\u001b[0m         \u001b[0mcontent_or_path\u001b[0m \u001b[0;34m=\u001b[0m \u001b[0mBytesIO\u001b[0m\u001b[0;34m(\u001b[0m\u001b[0mcontent_or_path\u001b[0m\u001b[0;34m)\u001b[0m\u001b[0;34m\u001b[0m\u001b[0;34m\u001b[0m\u001b[0m\n\u001b[1;32m   1370\u001b[0m \u001b[0;34m\u001b[0m\u001b[0m\n\u001b[0;32m-> 1371\u001b[0;31m     with get_handle(\n\u001b[0m\u001b[1;32m   1372\u001b[0m         \u001b[0mcontent_or_path\u001b[0m\u001b[0;34m,\u001b[0m \u001b[0;34m\"rb\"\u001b[0m\u001b[0;34m,\u001b[0m \u001b[0mstorage_options\u001b[0m\u001b[0;34m=\u001b[0m\u001b[0mstorage_options\u001b[0m\u001b[0;34m,\u001b[0m \u001b[0mis_text\u001b[0m\u001b[0;34m=\u001b[0m\u001b[0;32mFalse\u001b[0m\u001b[0;34m\u001b[0m\u001b[0;34m\u001b[0m\u001b[0m\n\u001b[1;32m   1373\u001b[0m     ) as handle:\n",
            "\u001b[0;32m/usr/local/lib/python3.10/dist-packages/pandas/io/common.py\u001b[0m in \u001b[0;36mget_handle\u001b[0;34m(path_or_buf, mode, encoding, compression, memory_map, is_text, errors, storage_options)\u001b[0m\n\u001b[1;32m    866\u001b[0m         \u001b[0;32melse\u001b[0m\u001b[0;34m:\u001b[0m\u001b[0;34m\u001b[0m\u001b[0;34m\u001b[0m\u001b[0m\n\u001b[1;32m    867\u001b[0m             \u001b[0;31m# Binary mode\u001b[0m\u001b[0;34m\u001b[0m\u001b[0;34m\u001b[0m\u001b[0m\n\u001b[0;32m--> 868\u001b[0;31m             \u001b[0mhandle\u001b[0m \u001b[0;34m=\u001b[0m \u001b[0mopen\u001b[0m\u001b[0;34m(\u001b[0m\u001b[0mhandle\u001b[0m\u001b[0;34m,\u001b[0m \u001b[0mioargs\u001b[0m\u001b[0;34m.\u001b[0m\u001b[0mmode\u001b[0m\u001b[0;34m)\u001b[0m\u001b[0;34m\u001b[0m\u001b[0;34m\u001b[0m\u001b[0m\n\u001b[0m\u001b[1;32m    869\u001b[0m         \u001b[0mhandles\u001b[0m\u001b[0;34m.\u001b[0m\u001b[0mappend\u001b[0m\u001b[0;34m(\u001b[0m\u001b[0mhandle\u001b[0m\u001b[0;34m)\u001b[0m\u001b[0;34m\u001b[0m\u001b[0;34m\u001b[0m\u001b[0m\n\u001b[1;32m    870\u001b[0m \u001b[0;34m\u001b[0m\u001b[0m\n",
            "\u001b[0;31mFileNotFoundError\u001b[0m: [Errno 2] No such file or directory: '/content/full2_test.xlsx'"
          ]
        }
      ],
      "source": [
        "test_data = pd.read_excel(\"/content/full2_test.xlsx\")\n",
        "test_data.shape"
      ]
    },
    {
      "cell_type": "code",
      "source": [
        "test_data1 = pd.read_excel(\"/content/full2_test_1.xlsx\")\n",
        "test_data1.shape"
      ],
      "metadata": {
        "colab": {
          "base_uri": "https://localhost:8080/"
        },
        "id": "DC5gc-D2eRDq",
        "outputId": "706c7813-b0a4-4f50-fc84-648d2eca0932"
      },
      "execution_count": null,
      "outputs": [
        {
          "output_type": "execute_result",
          "data": {
            "text/plain": [
              "(28411, 8)"
            ]
          },
          "metadata": {},
          "execution_count": 13
        }
      ]
    },
    {
      "cell_type": "code",
      "source": [
        "test_data1.tail()"
      ],
      "metadata": {
        "colab": {
          "base_uri": "https://localhost:8080/",
          "height": 206
        },
        "id": "zDvevMgpelTi",
        "outputId": "84601758-9d49-4a1e-9e5f-ba706fe609b9"
      },
      "execution_count": null,
      "outputs": [
        {
          "output_type": "execute_result",
          "data": {
            "text/plain": [
              "       amplitude  duration         energy     rms  rise_time  counts  label  \\\n",
              "28406         71     25780  214563.400000  0.1086      15043    8699      0   \n",
              "28407         33       133       2.374981  0.1086        107      12      0   \n",
              "28408         56      3713    1421.721000  0.1086       1790     781      0   \n",
              "28409         49      3104     326.433800  0.1086        236     494      0   \n",
              "28410         83     19686  999010.200000  0.1096      11299    5461      0   \n",
              "\n",
              "       specimen  \n",
              "28406         3  \n",
              "28407         3  \n",
              "28408         3  \n",
              "28409         3  \n",
              "28410         3  "
            ],
            "text/html": [
              "\n",
              "  <div id=\"df-3e96c309-5c24-4f71-83c2-a29a755683fe\" class=\"colab-df-container\">\n",
              "    <div>\n",
              "<style scoped>\n",
              "    .dataframe tbody tr th:only-of-type {\n",
              "        vertical-align: middle;\n",
              "    }\n",
              "\n",
              "    .dataframe tbody tr th {\n",
              "        vertical-align: top;\n",
              "    }\n",
              "\n",
              "    .dataframe thead th {\n",
              "        text-align: right;\n",
              "    }\n",
              "</style>\n",
              "<table border=\"1\" class=\"dataframe\">\n",
              "  <thead>\n",
              "    <tr style=\"text-align: right;\">\n",
              "      <th></th>\n",
              "      <th>amplitude</th>\n",
              "      <th>duration</th>\n",
              "      <th>energy</th>\n",
              "      <th>rms</th>\n",
              "      <th>rise_time</th>\n",
              "      <th>counts</th>\n",
              "      <th>label</th>\n",
              "      <th>specimen</th>\n",
              "    </tr>\n",
              "  </thead>\n",
              "  <tbody>\n",
              "    <tr>\n",
              "      <th>28406</th>\n",
              "      <td>71</td>\n",
              "      <td>25780</td>\n",
              "      <td>214563.400000</td>\n",
              "      <td>0.1086</td>\n",
              "      <td>15043</td>\n",
              "      <td>8699</td>\n",
              "      <td>0</td>\n",
              "      <td>3</td>\n",
              "    </tr>\n",
              "    <tr>\n",
              "      <th>28407</th>\n",
              "      <td>33</td>\n",
              "      <td>133</td>\n",
              "      <td>2.374981</td>\n",
              "      <td>0.1086</td>\n",
              "      <td>107</td>\n",
              "      <td>12</td>\n",
              "      <td>0</td>\n",
              "      <td>3</td>\n",
              "    </tr>\n",
              "    <tr>\n",
              "      <th>28408</th>\n",
              "      <td>56</td>\n",
              "      <td>3713</td>\n",
              "      <td>1421.721000</td>\n",
              "      <td>0.1086</td>\n",
              "      <td>1790</td>\n",
              "      <td>781</td>\n",
              "      <td>0</td>\n",
              "      <td>3</td>\n",
              "    </tr>\n",
              "    <tr>\n",
              "      <th>28409</th>\n",
              "      <td>49</td>\n",
              "      <td>3104</td>\n",
              "      <td>326.433800</td>\n",
              "      <td>0.1086</td>\n",
              "      <td>236</td>\n",
              "      <td>494</td>\n",
              "      <td>0</td>\n",
              "      <td>3</td>\n",
              "    </tr>\n",
              "    <tr>\n",
              "      <th>28410</th>\n",
              "      <td>83</td>\n",
              "      <td>19686</td>\n",
              "      <td>999010.200000</td>\n",
              "      <td>0.1096</td>\n",
              "      <td>11299</td>\n",
              "      <td>5461</td>\n",
              "      <td>0</td>\n",
              "      <td>3</td>\n",
              "    </tr>\n",
              "  </tbody>\n",
              "</table>\n",
              "</div>\n",
              "    <div class=\"colab-df-buttons\">\n",
              "\n",
              "  <div class=\"colab-df-container\">\n",
              "    <button class=\"colab-df-convert\" onclick=\"convertToInteractive('df-3e96c309-5c24-4f71-83c2-a29a755683fe')\"\n",
              "            title=\"Convert this dataframe to an interactive table.\"\n",
              "            style=\"display:none;\">\n",
              "\n",
              "  <svg xmlns=\"http://www.w3.org/2000/svg\" height=\"24px\" viewBox=\"0 -960 960 960\">\n",
              "    <path d=\"M120-120v-720h720v720H120Zm60-500h600v-160H180v160Zm220 220h160v-160H400v160Zm0 220h160v-160H400v160ZM180-400h160v-160H180v160Zm440 0h160v-160H620v160ZM180-180h160v-160H180v160Zm440 0h160v-160H620v160Z\"/>\n",
              "  </svg>\n",
              "    </button>\n",
              "\n",
              "  <style>\n",
              "    .colab-df-container {\n",
              "      display:flex;\n",
              "      gap: 12px;\n",
              "    }\n",
              "\n",
              "    .colab-df-convert {\n",
              "      background-color: #E8F0FE;\n",
              "      border: none;\n",
              "      border-radius: 50%;\n",
              "      cursor: pointer;\n",
              "      display: none;\n",
              "      fill: #1967D2;\n",
              "      height: 32px;\n",
              "      padding: 0 0 0 0;\n",
              "      width: 32px;\n",
              "    }\n",
              "\n",
              "    .colab-df-convert:hover {\n",
              "      background-color: #E2EBFA;\n",
              "      box-shadow: 0px 1px 2px rgba(60, 64, 67, 0.3), 0px 1px 3px 1px rgba(60, 64, 67, 0.15);\n",
              "      fill: #174EA6;\n",
              "    }\n",
              "\n",
              "    .colab-df-buttons div {\n",
              "      margin-bottom: 4px;\n",
              "    }\n",
              "\n",
              "    [theme=dark] .colab-df-convert {\n",
              "      background-color: #3B4455;\n",
              "      fill: #D2E3FC;\n",
              "    }\n",
              "\n",
              "    [theme=dark] .colab-df-convert:hover {\n",
              "      background-color: #434B5C;\n",
              "      box-shadow: 0px 1px 3px 1px rgba(0, 0, 0, 0.15);\n",
              "      filter: drop-shadow(0px 1px 2px rgba(0, 0, 0, 0.3));\n",
              "      fill: #FFFFFF;\n",
              "    }\n",
              "  </style>\n",
              "\n",
              "    <script>\n",
              "      const buttonEl =\n",
              "        document.querySelector('#df-3e96c309-5c24-4f71-83c2-a29a755683fe button.colab-df-convert');\n",
              "      buttonEl.style.display =\n",
              "        google.colab.kernel.accessAllowed ? 'block' : 'none';\n",
              "\n",
              "      async function convertToInteractive(key) {\n",
              "        const element = document.querySelector('#df-3e96c309-5c24-4f71-83c2-a29a755683fe');\n",
              "        const dataTable =\n",
              "          await google.colab.kernel.invokeFunction('convertToInteractive',\n",
              "                                                    [key], {});\n",
              "        if (!dataTable) return;\n",
              "\n",
              "        const docLinkHtml = 'Like what you see? Visit the ' +\n",
              "          '<a target=\"_blank\" href=https://colab.research.google.com/notebooks/data_table.ipynb>data table notebook</a>'\n",
              "          + ' to learn more about interactive tables.';\n",
              "        element.innerHTML = '';\n",
              "        dataTable['output_type'] = 'display_data';\n",
              "        await google.colab.output.renderOutput(dataTable, element);\n",
              "        const docLink = document.createElement('div');\n",
              "        docLink.innerHTML = docLinkHtml;\n",
              "        element.appendChild(docLink);\n",
              "      }\n",
              "    </script>\n",
              "  </div>\n",
              "\n",
              "\n",
              "<div id=\"df-be528107-b3be-4a29-b029-1d88b30fbdb4\">\n",
              "  <button class=\"colab-df-quickchart\" onclick=\"quickchart('df-be528107-b3be-4a29-b029-1d88b30fbdb4')\"\n",
              "            title=\"Suggest charts\"\n",
              "            style=\"display:none;\">\n",
              "\n",
              "<svg xmlns=\"http://www.w3.org/2000/svg\" height=\"24px\"viewBox=\"0 0 24 24\"\n",
              "     width=\"24px\">\n",
              "    <g>\n",
              "        <path d=\"M19 3H5c-1.1 0-2 .9-2 2v14c0 1.1.9 2 2 2h14c1.1 0 2-.9 2-2V5c0-1.1-.9-2-2-2zM9 17H7v-7h2v7zm4 0h-2V7h2v10zm4 0h-2v-4h2v4z\"/>\n",
              "    </g>\n",
              "</svg>\n",
              "  </button>\n",
              "\n",
              "<style>\n",
              "  .colab-df-quickchart {\n",
              "      --bg-color: #E8F0FE;\n",
              "      --fill-color: #1967D2;\n",
              "      --hover-bg-color: #E2EBFA;\n",
              "      --hover-fill-color: #174EA6;\n",
              "      --disabled-fill-color: #AAA;\n",
              "      --disabled-bg-color: #DDD;\n",
              "  }\n",
              "\n",
              "  [theme=dark] .colab-df-quickchart {\n",
              "      --bg-color: #3B4455;\n",
              "      --fill-color: #D2E3FC;\n",
              "      --hover-bg-color: #434B5C;\n",
              "      --hover-fill-color: #FFFFFF;\n",
              "      --disabled-bg-color: #3B4455;\n",
              "      --disabled-fill-color: #666;\n",
              "  }\n",
              "\n",
              "  .colab-df-quickchart {\n",
              "    background-color: var(--bg-color);\n",
              "    border: none;\n",
              "    border-radius: 50%;\n",
              "    cursor: pointer;\n",
              "    display: none;\n",
              "    fill: var(--fill-color);\n",
              "    height: 32px;\n",
              "    padding: 0;\n",
              "    width: 32px;\n",
              "  }\n",
              "\n",
              "  .colab-df-quickchart:hover {\n",
              "    background-color: var(--hover-bg-color);\n",
              "    box-shadow: 0 1px 2px rgba(60, 64, 67, 0.3), 0 1px 3px 1px rgba(60, 64, 67, 0.15);\n",
              "    fill: var(--button-hover-fill-color);\n",
              "  }\n",
              "\n",
              "  .colab-df-quickchart-complete:disabled,\n",
              "  .colab-df-quickchart-complete:disabled:hover {\n",
              "    background-color: var(--disabled-bg-color);\n",
              "    fill: var(--disabled-fill-color);\n",
              "    box-shadow: none;\n",
              "  }\n",
              "\n",
              "  .colab-df-spinner {\n",
              "    border: 2px solid var(--fill-color);\n",
              "    border-color: transparent;\n",
              "    border-bottom-color: var(--fill-color);\n",
              "    animation:\n",
              "      spin 1s steps(1) infinite;\n",
              "  }\n",
              "\n",
              "  @keyframes spin {\n",
              "    0% {\n",
              "      border-color: transparent;\n",
              "      border-bottom-color: var(--fill-color);\n",
              "      border-left-color: var(--fill-color);\n",
              "    }\n",
              "    20% {\n",
              "      border-color: transparent;\n",
              "      border-left-color: var(--fill-color);\n",
              "      border-top-color: var(--fill-color);\n",
              "    }\n",
              "    30% {\n",
              "      border-color: transparent;\n",
              "      border-left-color: var(--fill-color);\n",
              "      border-top-color: var(--fill-color);\n",
              "      border-right-color: var(--fill-color);\n",
              "    }\n",
              "    40% {\n",
              "      border-color: transparent;\n",
              "      border-right-color: var(--fill-color);\n",
              "      border-top-color: var(--fill-color);\n",
              "    }\n",
              "    60% {\n",
              "      border-color: transparent;\n",
              "      border-right-color: var(--fill-color);\n",
              "    }\n",
              "    80% {\n",
              "      border-color: transparent;\n",
              "      border-right-color: var(--fill-color);\n",
              "      border-bottom-color: var(--fill-color);\n",
              "    }\n",
              "    90% {\n",
              "      border-color: transparent;\n",
              "      border-bottom-color: var(--fill-color);\n",
              "    }\n",
              "  }\n",
              "</style>\n",
              "\n",
              "  <script>\n",
              "    async function quickchart(key) {\n",
              "      const quickchartButtonEl =\n",
              "        document.querySelector('#' + key + ' button');\n",
              "      quickchartButtonEl.disabled = true;  // To prevent multiple clicks.\n",
              "      quickchartButtonEl.classList.add('colab-df-spinner');\n",
              "      try {\n",
              "        const charts = await google.colab.kernel.invokeFunction(\n",
              "            'suggestCharts', [key], {});\n",
              "      } catch (error) {\n",
              "        console.error('Error during call to suggestCharts:', error);\n",
              "      }\n",
              "      quickchartButtonEl.classList.remove('colab-df-spinner');\n",
              "      quickchartButtonEl.classList.add('colab-df-quickchart-complete');\n",
              "    }\n",
              "    (() => {\n",
              "      let quickchartButtonEl =\n",
              "        document.querySelector('#df-be528107-b3be-4a29-b029-1d88b30fbdb4 button');\n",
              "      quickchartButtonEl.style.display =\n",
              "        google.colab.kernel.accessAllowed ? 'block' : 'none';\n",
              "    })();\n",
              "  </script>\n",
              "</div>\n",
              "\n",
              "    </div>\n",
              "  </div>\n"
            ],
            "application/vnd.google.colaboratory.intrinsic+json": {
              "type": "dataframe",
              "summary": "{\n  \"name\": \"test_data1\",\n  \"rows\": 5,\n  \"fields\": [\n    {\n      \"column\": \"amplitude\",\n      \"properties\": {\n        \"dtype\": \"number\",\n        \"std\": 19,\n        \"min\": 33,\n        \"max\": 83,\n        \"num_unique_values\": 5,\n        \"samples\": [\n          33,\n          83,\n          56\n        ],\n        \"semantic_type\": \"\",\n        \"description\": \"\"\n      }\n    },\n    {\n      \"column\": \"duration\",\n      \"properties\": {\n        \"dtype\": \"number\",\n        \"std\": 11468,\n        \"min\": 133,\n        \"max\": 25780,\n        \"num_unique_values\": 5,\n        \"samples\": [\n          133,\n          19686,\n          3713\n        ],\n        \"semantic_type\": \"\",\n        \"description\": \"\"\n      }\n    },\n    {\n      \"column\": \"energy\",\n      \"properties\": {\n        \"dtype\": \"number\",\n        \"std\": 432625.24547617394,\n        \"min\": 2.374981,\n        \"max\": 999010.2,\n        \"num_unique_values\": 5,\n        \"samples\": [\n          2.374981,\n          999010.2,\n          1421.721\n        ],\n        \"semantic_type\": \"\",\n        \"description\": \"\"\n      }\n    },\n    {\n      \"column\": \"rms\",\n      \"properties\": {\n        \"dtype\": \"number\",\n        \"std\": 0.00044721359549995833,\n        \"min\": 0.1086,\n        \"max\": 0.1096,\n        \"num_unique_values\": 2,\n        \"samples\": [\n          0.1096,\n          0.1086\n        ],\n        \"semantic_type\": \"\",\n        \"description\": \"\"\n      }\n    },\n    {\n      \"column\": \"rise_time\",\n      \"properties\": {\n        \"dtype\": \"number\",\n        \"std\": 6983,\n        \"min\": 107,\n        \"max\": 15043,\n        \"num_unique_values\": 5,\n        \"samples\": [\n          107,\n          11299\n        ],\n        \"semantic_type\": \"\",\n        \"description\": \"\"\n      }\n    },\n    {\n      \"column\": \"counts\",\n      \"properties\": {\n        \"dtype\": \"number\",\n        \"std\": 3828,\n        \"min\": 12,\n        \"max\": 8699,\n        \"num_unique_values\": 5,\n        \"samples\": [\n          12,\n          5461\n        ],\n        \"semantic_type\": \"\",\n        \"description\": \"\"\n      }\n    },\n    {\n      \"column\": \"label\",\n      \"properties\": {\n        \"dtype\": \"number\",\n        \"std\": 0,\n        \"min\": 0,\n        \"max\": 0,\n        \"num_unique_values\": 1,\n        \"samples\": [\n          0\n        ],\n        \"semantic_type\": \"\",\n        \"description\": \"\"\n      }\n    },\n    {\n      \"column\": \"specimen\",\n      \"properties\": {\n        \"dtype\": \"number\",\n        \"std\": 0,\n        \"min\": 3,\n        \"max\": 3,\n        \"num_unique_values\": 1,\n        \"samples\": [\n          3\n        ],\n        \"semantic_type\": \"\",\n        \"description\": \"\"\n      }\n    }\n  ]\n}"
            }
          },
          "metadata": {},
          "execution_count": 14
        }
      ]
    },
    {
      "cell_type": "code",
      "source": [
        "num_cycles1 = test_data1['label'].max()\n",
        "num_cycles1"
      ],
      "metadata": {
        "colab": {
          "base_uri": "https://localhost:8080/"
        },
        "id": "Bu9F2XBseY36",
        "outputId": "0ad6c088-673e-4cbc-f115-0e39a14eb01d"
      },
      "execution_count": null,
      "outputs": [
        {
          "output_type": "execute_result",
          "data": {
            "text/plain": [
              "1640"
            ]
          },
          "metadata": {},
          "execution_count": 15
        }
      ]
    },
    {
      "cell_type": "code",
      "execution_count": null,
      "metadata": {
        "colab": {
          "base_uri": "https://localhost:8080/",
          "height": 206
        },
        "id": "Kd2UvI9Ile-W",
        "outputId": "b7a9349d-1f47-4efe-c425-85cf0ab06a67"
      },
      "outputs": [
        {
          "output_type": "execute_result",
          "data": {
            "text/plain": [
              "   amplitude  duration      energy     rms  rise_time  counts  label  specimen\n",
              "0         31        10     0.31384  0.0004          8       6   1640         1\n",
              "1         45     34116  2964.57700  0.0012       9917    8741   1640         1\n",
              "2         31        79     1.21030  0.0012          0       9   1640         1\n",
              "3         36     17241   314.88980  0.0010       4671    1315   1640         1\n",
              "4         32      1406    14.84777  0.0010          0      37   1640         1"
            ],
            "text/html": [
              "\n",
              "  <div id=\"df-508608bd-85c3-43e0-b8a6-d269cf9b8d16\" class=\"colab-df-container\">\n",
              "    <div>\n",
              "<style scoped>\n",
              "    .dataframe tbody tr th:only-of-type {\n",
              "        vertical-align: middle;\n",
              "    }\n",
              "\n",
              "    .dataframe tbody tr th {\n",
              "        vertical-align: top;\n",
              "    }\n",
              "\n",
              "    .dataframe thead th {\n",
              "        text-align: right;\n",
              "    }\n",
              "</style>\n",
              "<table border=\"1\" class=\"dataframe\">\n",
              "  <thead>\n",
              "    <tr style=\"text-align: right;\">\n",
              "      <th></th>\n",
              "      <th>amplitude</th>\n",
              "      <th>duration</th>\n",
              "      <th>energy</th>\n",
              "      <th>rms</th>\n",
              "      <th>rise_time</th>\n",
              "      <th>counts</th>\n",
              "      <th>label</th>\n",
              "      <th>specimen</th>\n",
              "    </tr>\n",
              "  </thead>\n",
              "  <tbody>\n",
              "    <tr>\n",
              "      <th>0</th>\n",
              "      <td>31</td>\n",
              "      <td>10</td>\n",
              "      <td>0.31384</td>\n",
              "      <td>0.0004</td>\n",
              "      <td>8</td>\n",
              "      <td>6</td>\n",
              "      <td>1640</td>\n",
              "      <td>1</td>\n",
              "    </tr>\n",
              "    <tr>\n",
              "      <th>1</th>\n",
              "      <td>45</td>\n",
              "      <td>34116</td>\n",
              "      <td>2964.57700</td>\n",
              "      <td>0.0012</td>\n",
              "      <td>9917</td>\n",
              "      <td>8741</td>\n",
              "      <td>1640</td>\n",
              "      <td>1</td>\n",
              "    </tr>\n",
              "    <tr>\n",
              "      <th>2</th>\n",
              "      <td>31</td>\n",
              "      <td>79</td>\n",
              "      <td>1.21030</td>\n",
              "      <td>0.0012</td>\n",
              "      <td>0</td>\n",
              "      <td>9</td>\n",
              "      <td>1640</td>\n",
              "      <td>1</td>\n",
              "    </tr>\n",
              "    <tr>\n",
              "      <th>3</th>\n",
              "      <td>36</td>\n",
              "      <td>17241</td>\n",
              "      <td>314.88980</td>\n",
              "      <td>0.0010</td>\n",
              "      <td>4671</td>\n",
              "      <td>1315</td>\n",
              "      <td>1640</td>\n",
              "      <td>1</td>\n",
              "    </tr>\n",
              "    <tr>\n",
              "      <th>4</th>\n",
              "      <td>32</td>\n",
              "      <td>1406</td>\n",
              "      <td>14.84777</td>\n",
              "      <td>0.0010</td>\n",
              "      <td>0</td>\n",
              "      <td>37</td>\n",
              "      <td>1640</td>\n",
              "      <td>1</td>\n",
              "    </tr>\n",
              "  </tbody>\n",
              "</table>\n",
              "</div>\n",
              "    <div class=\"colab-df-buttons\">\n",
              "\n",
              "  <div class=\"colab-df-container\">\n",
              "    <button class=\"colab-df-convert\" onclick=\"convertToInteractive('df-508608bd-85c3-43e0-b8a6-d269cf9b8d16')\"\n",
              "            title=\"Convert this dataframe to an interactive table.\"\n",
              "            style=\"display:none;\">\n",
              "\n",
              "  <svg xmlns=\"http://www.w3.org/2000/svg\" height=\"24px\" viewBox=\"0 -960 960 960\">\n",
              "    <path d=\"M120-120v-720h720v720H120Zm60-500h600v-160H180v160Zm220 220h160v-160H400v160Zm0 220h160v-160H400v160ZM180-400h160v-160H180v160Zm440 0h160v-160H620v160ZM180-180h160v-160H180v160Zm440 0h160v-160H620v160Z\"/>\n",
              "  </svg>\n",
              "    </button>\n",
              "\n",
              "  <style>\n",
              "    .colab-df-container {\n",
              "      display:flex;\n",
              "      gap: 12px;\n",
              "    }\n",
              "\n",
              "    .colab-df-convert {\n",
              "      background-color: #E8F0FE;\n",
              "      border: none;\n",
              "      border-radius: 50%;\n",
              "      cursor: pointer;\n",
              "      display: none;\n",
              "      fill: #1967D2;\n",
              "      height: 32px;\n",
              "      padding: 0 0 0 0;\n",
              "      width: 32px;\n",
              "    }\n",
              "\n",
              "    .colab-df-convert:hover {\n",
              "      background-color: #E2EBFA;\n",
              "      box-shadow: 0px 1px 2px rgba(60, 64, 67, 0.3), 0px 1px 3px 1px rgba(60, 64, 67, 0.15);\n",
              "      fill: #174EA6;\n",
              "    }\n",
              "\n",
              "    .colab-df-buttons div {\n",
              "      margin-bottom: 4px;\n",
              "    }\n",
              "\n",
              "    [theme=dark] .colab-df-convert {\n",
              "      background-color: #3B4455;\n",
              "      fill: #D2E3FC;\n",
              "    }\n",
              "\n",
              "    [theme=dark] .colab-df-convert:hover {\n",
              "      background-color: #434B5C;\n",
              "      box-shadow: 0px 1px 3px 1px rgba(0, 0, 0, 0.15);\n",
              "      filter: drop-shadow(0px 1px 2px rgba(0, 0, 0, 0.3));\n",
              "      fill: #FFFFFF;\n",
              "    }\n",
              "  </style>\n",
              "\n",
              "    <script>\n",
              "      const buttonEl =\n",
              "        document.querySelector('#df-508608bd-85c3-43e0-b8a6-d269cf9b8d16 button.colab-df-convert');\n",
              "      buttonEl.style.display =\n",
              "        google.colab.kernel.accessAllowed ? 'block' : 'none';\n",
              "\n",
              "      async function convertToInteractive(key) {\n",
              "        const element = document.querySelector('#df-508608bd-85c3-43e0-b8a6-d269cf9b8d16');\n",
              "        const dataTable =\n",
              "          await google.colab.kernel.invokeFunction('convertToInteractive',\n",
              "                                                    [key], {});\n",
              "        if (!dataTable) return;\n",
              "\n",
              "        const docLinkHtml = 'Like what you see? Visit the ' +\n",
              "          '<a target=\"_blank\" href=https://colab.research.google.com/notebooks/data_table.ipynb>data table notebook</a>'\n",
              "          + ' to learn more about interactive tables.';\n",
              "        element.innerHTML = '';\n",
              "        dataTable['output_type'] = 'display_data';\n",
              "        await google.colab.output.renderOutput(dataTable, element);\n",
              "        const docLink = document.createElement('div');\n",
              "        docLink.innerHTML = docLinkHtml;\n",
              "        element.appendChild(docLink);\n",
              "      }\n",
              "    </script>\n",
              "  </div>\n",
              "\n",
              "\n",
              "<div id=\"df-86fc2ebd-0aa7-49b3-9b7e-7b9883b0b5db\">\n",
              "  <button class=\"colab-df-quickchart\" onclick=\"quickchart('df-86fc2ebd-0aa7-49b3-9b7e-7b9883b0b5db')\"\n",
              "            title=\"Suggest charts\"\n",
              "            style=\"display:none;\">\n",
              "\n",
              "<svg xmlns=\"http://www.w3.org/2000/svg\" height=\"24px\"viewBox=\"0 0 24 24\"\n",
              "     width=\"24px\">\n",
              "    <g>\n",
              "        <path d=\"M19 3H5c-1.1 0-2 .9-2 2v14c0 1.1.9 2 2 2h14c1.1 0 2-.9 2-2V5c0-1.1-.9-2-2-2zM9 17H7v-7h2v7zm4 0h-2V7h2v10zm4 0h-2v-4h2v4z\"/>\n",
              "    </g>\n",
              "</svg>\n",
              "  </button>\n",
              "\n",
              "<style>\n",
              "  .colab-df-quickchart {\n",
              "      --bg-color: #E8F0FE;\n",
              "      --fill-color: #1967D2;\n",
              "      --hover-bg-color: #E2EBFA;\n",
              "      --hover-fill-color: #174EA6;\n",
              "      --disabled-fill-color: #AAA;\n",
              "      --disabled-bg-color: #DDD;\n",
              "  }\n",
              "\n",
              "  [theme=dark] .colab-df-quickchart {\n",
              "      --bg-color: #3B4455;\n",
              "      --fill-color: #D2E3FC;\n",
              "      --hover-bg-color: #434B5C;\n",
              "      --hover-fill-color: #FFFFFF;\n",
              "      --disabled-bg-color: #3B4455;\n",
              "      --disabled-fill-color: #666;\n",
              "  }\n",
              "\n",
              "  .colab-df-quickchart {\n",
              "    background-color: var(--bg-color);\n",
              "    border: none;\n",
              "    border-radius: 50%;\n",
              "    cursor: pointer;\n",
              "    display: none;\n",
              "    fill: var(--fill-color);\n",
              "    height: 32px;\n",
              "    padding: 0;\n",
              "    width: 32px;\n",
              "  }\n",
              "\n",
              "  .colab-df-quickchart:hover {\n",
              "    background-color: var(--hover-bg-color);\n",
              "    box-shadow: 0 1px 2px rgba(60, 64, 67, 0.3), 0 1px 3px 1px rgba(60, 64, 67, 0.15);\n",
              "    fill: var(--button-hover-fill-color);\n",
              "  }\n",
              "\n",
              "  .colab-df-quickchart-complete:disabled,\n",
              "  .colab-df-quickchart-complete:disabled:hover {\n",
              "    background-color: var(--disabled-bg-color);\n",
              "    fill: var(--disabled-fill-color);\n",
              "    box-shadow: none;\n",
              "  }\n",
              "\n",
              "  .colab-df-spinner {\n",
              "    border: 2px solid var(--fill-color);\n",
              "    border-color: transparent;\n",
              "    border-bottom-color: var(--fill-color);\n",
              "    animation:\n",
              "      spin 1s steps(1) infinite;\n",
              "  }\n",
              "\n",
              "  @keyframes spin {\n",
              "    0% {\n",
              "      border-color: transparent;\n",
              "      border-bottom-color: var(--fill-color);\n",
              "      border-left-color: var(--fill-color);\n",
              "    }\n",
              "    20% {\n",
              "      border-color: transparent;\n",
              "      border-left-color: var(--fill-color);\n",
              "      border-top-color: var(--fill-color);\n",
              "    }\n",
              "    30% {\n",
              "      border-color: transparent;\n",
              "      border-left-color: var(--fill-color);\n",
              "      border-top-color: var(--fill-color);\n",
              "      border-right-color: var(--fill-color);\n",
              "    }\n",
              "    40% {\n",
              "      border-color: transparent;\n",
              "      border-right-color: var(--fill-color);\n",
              "      border-top-color: var(--fill-color);\n",
              "    }\n",
              "    60% {\n",
              "      border-color: transparent;\n",
              "      border-right-color: var(--fill-color);\n",
              "    }\n",
              "    80% {\n",
              "      border-color: transparent;\n",
              "      border-right-color: var(--fill-color);\n",
              "      border-bottom-color: var(--fill-color);\n",
              "    }\n",
              "    90% {\n",
              "      border-color: transparent;\n",
              "      border-bottom-color: var(--fill-color);\n",
              "    }\n",
              "  }\n",
              "</style>\n",
              "\n",
              "  <script>\n",
              "    async function quickchart(key) {\n",
              "      const quickchartButtonEl =\n",
              "        document.querySelector('#' + key + ' button');\n",
              "      quickchartButtonEl.disabled = true;  // To prevent multiple clicks.\n",
              "      quickchartButtonEl.classList.add('colab-df-spinner');\n",
              "      try {\n",
              "        const charts = await google.colab.kernel.invokeFunction(\n",
              "            'suggestCharts', [key], {});\n",
              "      } catch (error) {\n",
              "        console.error('Error during call to suggestCharts:', error);\n",
              "      }\n",
              "      quickchartButtonEl.classList.remove('colab-df-spinner');\n",
              "      quickchartButtonEl.classList.add('colab-df-quickchart-complete');\n",
              "    }\n",
              "    (() => {\n",
              "      let quickchartButtonEl =\n",
              "        document.querySelector('#df-86fc2ebd-0aa7-49b3-9b7e-7b9883b0b5db button');\n",
              "      quickchartButtonEl.style.display =\n",
              "        google.colab.kernel.accessAllowed ? 'block' : 'none';\n",
              "    })();\n",
              "  </script>\n",
              "</div>\n",
              "\n",
              "    </div>\n",
              "  </div>\n"
            ],
            "application/vnd.google.colaboratory.intrinsic+json": {
              "type": "dataframe",
              "variable_name": "test_data1",
              "summary": "{\n  \"name\": \"test_data1\",\n  \"rows\": 28411,\n  \"fields\": [\n    {\n      \"column\": \"amplitude\",\n      \"properties\": {\n        \"dtype\": \"number\",\n        \"std\": 9,\n        \"min\": 29,\n        \"max\": 99,\n        \"num_unique_values\": 66,\n        \"samples\": [\n          56,\n          83,\n          31\n        ],\n        \"semantic_type\": \"\",\n        \"description\": \"\"\n      }\n    },\n    {\n      \"column\": \"duration\",\n      \"properties\": {\n        \"dtype\": \"number\",\n        \"std\": 2051,\n        \"min\": 0,\n        \"max\": 50845,\n        \"num_unique_values\": 908,\n        \"samples\": [\n          381,\n          7548,\n          221\n        ],\n        \"semantic_type\": \"\",\n        \"description\": \"\"\n      }\n    },\n    {\n      \"column\": \"energy\",\n      \"properties\": {\n        \"dtype\": \"number\",\n        \"std\": 446580.6555597461,\n        \"min\": 0.0,\n        \"max\": 58919780.0,\n        \"num_unique_values\": 9667,\n        \"samples\": [\n          27.56644,\n          0.8849155,\n          0.3048094\n        ],\n        \"semantic_type\": \"\",\n        \"description\": \"\"\n      }\n    },\n    {\n      \"column\": \"rms\",\n      \"properties\": {\n        \"dtype\": \"number\",\n        \"std\": 0.004600943472633279,\n        \"min\": 0.0004,\n        \"max\": 0.1096,\n        \"num_unique_values\": 104,\n        \"samples\": [\n          0.0054,\n          0.02,\n          0.0212\n        ],\n        \"semantic_type\": \"\",\n        \"description\": \"\"\n      }\n    },\n    {\n      \"column\": \"rise_time\",\n      \"properties\": {\n        \"dtype\": \"number\",\n        \"std\": 257,\n        \"min\": 0,\n        \"max\": 16605,\n        \"num_unique_values\": 270,\n        \"samples\": [\n          22,\n          195,\n          27\n        ],\n        \"semantic_type\": \"\",\n        \"description\": \"\"\n      }\n    },\n    {\n      \"column\": \"counts\",\n      \"properties\": {\n        \"dtype\": \"number\",\n        \"std\": 429,\n        \"min\": 1,\n        \"max\": 9579,\n        \"num_unique_values\": 544,\n        \"samples\": [\n          1038,\n          1255,\n          267\n        ],\n        \"semantic_type\": \"\",\n        \"description\": \"\"\n      }\n    },\n    {\n      \"column\": \"label\",\n      \"properties\": {\n        \"dtype\": \"number\",\n        \"std\": 459,\n        \"min\": 0,\n        \"max\": 1640,\n        \"num_unique_values\": 1636,\n        \"samples\": [\n          958,\n          46,\n          651\n        ],\n        \"semantic_type\": \"\",\n        \"description\": \"\"\n      }\n    },\n    {\n      \"column\": \"specimen\",\n      \"properties\": {\n        \"dtype\": \"number\",\n        \"std\": 0,\n        \"min\": 1,\n        \"max\": 3,\n        \"num_unique_values\": 3,\n        \"samples\": [\n          1,\n          2,\n          3\n        ],\n        \"semantic_type\": \"\",\n        \"description\": \"\"\n      }\n    }\n  ]\n}"
            }
          },
          "metadata": {},
          "execution_count": 17
        }
      ],
      "source": [
        "test_data1.head()"
      ]
    },
    {
      "cell_type": "markdown",
      "metadata": {
        "id": "kuBvZFu3le-W"
      },
      "source": [
        "### How many specimens are there in test set?"
      ]
    },
    {
      "cell_type": "code",
      "execution_count": null,
      "metadata": {
        "colab": {
          "base_uri": "https://localhost:8080/"
        },
        "id": "kpxKmpyJle-W",
        "outputId": "b7e3f597-06c8-4af2-f827-8887cb0183b8"
      },
      "outputs": [
        {
          "output_type": "execute_result",
          "data": {
            "text/plain": [
              "array([1, 2, 3])"
            ]
          },
          "metadata": {},
          "execution_count": 18
        }
      ],
      "source": [
        "np.unique(test_data1['specimen'])"
      ]
    },
    {
      "cell_type": "markdown",
      "metadata": {
        "id": "s9PJXqpXle-W"
      },
      "source": [
        "So there are 100 engines in test set also.\n",
        "\n",
        "### How many cycles of data are available for each specimen in test set?"
      ]
    },
    {
      "cell_type": "code",
      "source": [
        "num_cycles = test_data1.groupby('specimen')['label'].min()\n",
        "num_cycles.values"
      ],
      "metadata": {
        "colab": {
          "base_uri": "https://localhost:8080/"
        },
        "id": "YRq9NbVAdU9S",
        "outputId": "2a682c76-5eff-49fb-dfaa-11aaf319df9d"
      },
      "execution_count": null,
      "outputs": [
        {
          "output_type": "execute_result",
          "data": {
            "text/plain": [
              "array([761, 315,   0])"
            ]
          },
          "metadata": {},
          "execution_count": 19
        }
      ]
    },
    {
      "cell_type": "code",
      "execution_count": null,
      "metadata": {
        "id": "lvStja7Zle-W",
        "outputId": "dd94c108-4d5d-4b13-a242-1852fbc99608",
        "colab": {
          "base_uri": "https://localhost:8080/",
          "height": 287
        }
      },
      "outputs": [
        {
          "output_type": "error",
          "ename": "KeyError",
          "evalue": "0",
          "traceback": [
            "\u001b[0;31m---------------------------------------------------------------------------\u001b[0m",
            "\u001b[0;31mKeyError\u001b[0m                                  Traceback (most recent call last)",
            "\u001b[0;32m<ipython-input-19-6b6193e7377b>\u001b[0m in \u001b[0;36m<cell line: 1>\u001b[0;34m()\u001b[0m\n\u001b[0;32m----> 1\u001b[0;31m \u001b[0mtest_data\u001b[0m\u001b[0;34m.\u001b[0m\u001b[0mgroupby\u001b[0m\u001b[0;34m(\u001b[0m\u001b[0;36m0\u001b[0m\u001b[0;34m)\u001b[0m\u001b[0;34m[\u001b[0m\u001b[0;36m1\u001b[0m\u001b[0;34m]\u001b[0m\u001b[0;34m.\u001b[0m\u001b[0mcount\u001b[0m\u001b[0;34m(\u001b[0m\u001b[0;34m)\u001b[0m\u001b[0;34m.\u001b[0m\u001b[0mvalues\u001b[0m\u001b[0;34m\u001b[0m\u001b[0;34m\u001b[0m\u001b[0m\n\u001b[0m",
            "\u001b[0;32m/usr/local/lib/python3.10/dist-packages/pandas/core/frame.py\u001b[0m in \u001b[0;36mgroupby\u001b[0;34m(self, by, axis, level, as_index, sort, group_keys, observed, dropna)\u001b[0m\n\u001b[1;32m   8250\u001b[0m         \u001b[0maxis\u001b[0m \u001b[0;34m=\u001b[0m \u001b[0mself\u001b[0m\u001b[0;34m.\u001b[0m\u001b[0m_get_axis_number\u001b[0m\u001b[0;34m(\u001b[0m\u001b[0maxis\u001b[0m\u001b[0;34m)\u001b[0m\u001b[0;34m\u001b[0m\u001b[0;34m\u001b[0m\u001b[0m\n\u001b[1;32m   8251\u001b[0m \u001b[0;34m\u001b[0m\u001b[0m\n\u001b[0;32m-> 8252\u001b[0;31m         return DataFrameGroupBy(\n\u001b[0m\u001b[1;32m   8253\u001b[0m             \u001b[0mobj\u001b[0m\u001b[0;34m=\u001b[0m\u001b[0mself\u001b[0m\u001b[0;34m,\u001b[0m\u001b[0;34m\u001b[0m\u001b[0;34m\u001b[0m\u001b[0m\n\u001b[1;32m   8254\u001b[0m             \u001b[0mkeys\u001b[0m\u001b[0;34m=\u001b[0m\u001b[0mby\u001b[0m\u001b[0;34m,\u001b[0m\u001b[0;34m\u001b[0m\u001b[0;34m\u001b[0m\u001b[0m\n",
            "\u001b[0;32m/usr/local/lib/python3.10/dist-packages/pandas/core/groupby/groupby.py\u001b[0m in \u001b[0;36m__init__\u001b[0;34m(self, obj, keys, axis, level, grouper, exclusions, selection, as_index, sort, group_keys, observed, dropna)\u001b[0m\n\u001b[1;32m    929\u001b[0m \u001b[0;34m\u001b[0m\u001b[0m\n\u001b[1;32m    930\u001b[0m         \u001b[0;32mif\u001b[0m \u001b[0mgrouper\u001b[0m \u001b[0;32mis\u001b[0m \u001b[0;32mNone\u001b[0m\u001b[0;34m:\u001b[0m\u001b[0;34m\u001b[0m\u001b[0;34m\u001b[0m\u001b[0m\n\u001b[0;32m--> 931\u001b[0;31m             grouper, exclusions, obj = get_grouper(\n\u001b[0m\u001b[1;32m    932\u001b[0m                 \u001b[0mobj\u001b[0m\u001b[0;34m,\u001b[0m\u001b[0;34m\u001b[0m\u001b[0;34m\u001b[0m\u001b[0m\n\u001b[1;32m    933\u001b[0m                 \u001b[0mkeys\u001b[0m\u001b[0;34m,\u001b[0m\u001b[0;34m\u001b[0m\u001b[0;34m\u001b[0m\u001b[0m\n",
            "\u001b[0;32m/usr/local/lib/python3.10/dist-packages/pandas/core/groupby/grouper.py\u001b[0m in \u001b[0;36mget_grouper\u001b[0;34m(obj, key, axis, level, sort, observed, validate, dropna)\u001b[0m\n\u001b[1;32m    983\u001b[0m                 \u001b[0min_axis\u001b[0m\u001b[0;34m,\u001b[0m \u001b[0mlevel\u001b[0m\u001b[0;34m,\u001b[0m \u001b[0mgpr\u001b[0m \u001b[0;34m=\u001b[0m \u001b[0;32mFalse\u001b[0m\u001b[0;34m,\u001b[0m \u001b[0mgpr\u001b[0m\u001b[0;34m,\u001b[0m \u001b[0;32mNone\u001b[0m\u001b[0;34m\u001b[0m\u001b[0;34m\u001b[0m\u001b[0m\n\u001b[1;32m    984\u001b[0m             \u001b[0;32melse\u001b[0m\u001b[0;34m:\u001b[0m\u001b[0;34m\u001b[0m\u001b[0;34m\u001b[0m\u001b[0m\n\u001b[0;32m--> 985\u001b[0;31m                 \u001b[0;32mraise\u001b[0m \u001b[0mKeyError\u001b[0m\u001b[0;34m(\u001b[0m\u001b[0mgpr\u001b[0m\u001b[0;34m)\u001b[0m\u001b[0;34m\u001b[0m\u001b[0;34m\u001b[0m\u001b[0m\n\u001b[0m\u001b[1;32m    986\u001b[0m         \u001b[0;32melif\u001b[0m \u001b[0misinstance\u001b[0m\u001b[0;34m(\u001b[0m\u001b[0mgpr\u001b[0m\u001b[0;34m,\u001b[0m \u001b[0mGrouper\u001b[0m\u001b[0;34m)\u001b[0m \u001b[0;32mand\u001b[0m \u001b[0mgpr\u001b[0m\u001b[0;34m.\u001b[0m\u001b[0mkey\u001b[0m \u001b[0;32mis\u001b[0m \u001b[0;32mnot\u001b[0m \u001b[0;32mNone\u001b[0m\u001b[0;34m:\u001b[0m\u001b[0;34m\u001b[0m\u001b[0;34m\u001b[0m\u001b[0m\n\u001b[1;32m    987\u001b[0m             \u001b[0;31m# Add key to exclusions\u001b[0m\u001b[0;34m\u001b[0m\u001b[0;34m\u001b[0m\u001b[0m\n",
            "\u001b[0;31mKeyError\u001b[0m: 0"
          ]
        }
      ],
      "source": [
        "test_data.groupby(0)[1].count().values"
      ]
    },
    {
      "cell_type": "code",
      "source": [],
      "metadata": {
        "id": "nDp5dy7OdkBL"
      },
      "execution_count": null,
      "outputs": []
    },
    {
      "cell_type": "markdown",
      "metadata": {
        "id": "Q553fo6ble-W"
      },
      "source": []
    },
    {
      "cell_type": "code",
      "source": [
        "true_rul=num_cycles.values\n",
        "true_rul"
      ],
      "metadata": {
        "colab": {
          "base_uri": "https://localhost:8080/"
        },
        "id": "PySL3iS2fxMZ",
        "outputId": "298887f5-d411-443f-c56e-1160b448ca17"
      },
      "execution_count": null,
      "outputs": [
        {
          "output_type": "execute_result",
          "data": {
            "text/plain": [
              "array([761, 315,   0])"
            ]
          },
          "metadata": {},
          "execution_count": 20
        }
      ]
    },
    {
      "cell_type": "code",
      "execution_count": null,
      "metadata": {
        "id": "4pGv-y8Jle-W",
        "outputId": "16246572-2e4e-41cf-c98d-2c390c5d9bc9"
      },
      "outputs": [
        {
          "data": {
            "text/plain": [
              "array([112,  98,  69,  82,  91,  93,  91,  95, 111,  96,  97, 124,  95,\n",
              "       107,  83,  84,  50,  28,  87,  16,  57, 111, 113,  20, 145, 119,\n",
              "        66,  97,  90, 115,   8,  48, 106,   7,  11,  19,  21,  50, 142,\n",
              "        28,  18,  10,  59, 109, 114,  47, 135,  92,  21,  79, 114,  29,\n",
              "        26,  97, 137,  15, 103,  37, 114, 100,  21,  54,  72,  28, 128,\n",
              "        14,  77,   8, 121,  94, 118,  50, 131, 126, 113,  10,  34, 107,\n",
              "        63,  90,   8,   9, 137,  58, 118,  89, 116, 115, 136,  28,  38,\n",
              "        20,  85,  55, 128, 137,  82,  59, 117,  20])"
            ]
          },
          "execution_count": 14,
          "metadata": {},
          "output_type": "execute_result"
        }
      ],
      "source": []
    },
    {
      "cell_type": "markdown",
      "metadata": {
        "id": "IpOurM2ple-W"
      },
      "source": [
        "An RUL value of 112 for engine 1 in test set means that it failed 112 cycles after 31st cycle. So engine 1 ran for (31+112) cycles before it failed. Similarly engine two failed 98 cycles after 49th cycle. So engine 2 ran for (49 + 98) cycles in total before it failed. Similar calculation can be done for other engines in test set."
      ]
    },
    {
      "cell_type": "markdown",
      "metadata": {
        "id": "nQJM7jT-le-W"
      },
      "source": []
    },
    {
      "cell_type": "code",
      "execution_count": null,
      "metadata": {
        "id": "KzIWC9nCle-W",
        "outputId": "f9347c7c-7747-4fbc-98f9-e6f2d0d28fb8",
        "colab": {
          "base_uri": "https://localhost:8080/",
          "height": 619
        }
      },
      "outputs": [
        {
          "output_type": "error",
          "ename": "IndexError",
          "evalue": "single positional indexer is out-of-bounds",
          "traceback": [
            "\u001b[0;31m---------------------------------------------------------------------------\u001b[0m",
            "\u001b[0;31mIndexError\u001b[0m                                Traceback (most recent call last)",
            "\u001b[0;32m<ipython-input-21-58087932d52c>\u001b[0m in \u001b[0;36m<cell line: 2>\u001b[0;34m()\u001b[0m\n\u001b[1;32m      1\u001b[0m \u001b[0mplt\u001b[0m\u001b[0;34m.\u001b[0m\u001b[0mfigure\u001b[0m\u001b[0;34m(\u001b[0m\u001b[0mfigsize\u001b[0m \u001b[0;34m=\u001b[0m \u001b[0;34m(\u001b[0m\u001b[0;36m15\u001b[0m\u001b[0;34m,\u001b[0m \u001b[0;36m21\u001b[0m\u001b[0;34m)\u001b[0m\u001b[0;34m)\u001b[0m\u001b[0;34m\u001b[0m\u001b[0;34m\u001b[0m\u001b[0m\n\u001b[1;32m      2\u001b[0m \u001b[0;32mfor\u001b[0m \u001b[0mi\u001b[0m \u001b[0;32min\u001b[0m \u001b[0mnp\u001b[0m\u001b[0;34m.\u001b[0m\u001b[0marange\u001b[0m\u001b[0;34m(\u001b[0m\u001b[0;36m5\u001b[0m\u001b[0;34m,\u001b[0m \u001b[0;36m26\u001b[0m\u001b[0;34m)\u001b[0m\u001b[0;34m:\u001b[0m        \u001b[0;31m# column 5 in python means actual 6th column\u001b[0m\u001b[0;34m\u001b[0m\u001b[0;34m\u001b[0m\u001b[0m\n\u001b[0;32m----> 3\u001b[0;31m     \u001b[0mtemp\u001b[0m \u001b[0;34m=\u001b[0m \u001b[0mtrain_data\u001b[0m\u001b[0;34m.\u001b[0m\u001b[0miloc\u001b[0m\u001b[0;34m[\u001b[0m\u001b[0;34m:\u001b[0m\u001b[0;34m,\u001b[0m \u001b[0mi\u001b[0m\u001b[0;34m]\u001b[0m\u001b[0;34m\u001b[0m\u001b[0;34m\u001b[0m\u001b[0m\n\u001b[0m\u001b[1;32m      4\u001b[0m     \u001b[0mplt\u001b[0m\u001b[0;34m.\u001b[0m\u001b[0msubplot\u001b[0m\u001b[0;34m(\u001b[0m\u001b[0;36m7\u001b[0m\u001b[0;34m,\u001b[0m\u001b[0;36m3\u001b[0m\u001b[0;34m,\u001b[0m \u001b[0mi\u001b[0m\u001b[0;34m-\u001b[0m\u001b[0;36m4\u001b[0m\u001b[0;34m)\u001b[0m\u001b[0;34m\u001b[0m\u001b[0;34m\u001b[0m\u001b[0m\n\u001b[1;32m      5\u001b[0m     \u001b[0mplt\u001b[0m\u001b[0;34m.\u001b[0m\u001b[0mboxplot\u001b[0m\u001b[0;34m(\u001b[0m\u001b[0mtemp\u001b[0m\u001b[0;34m)\u001b[0m\u001b[0;34m\u001b[0m\u001b[0;34m\u001b[0m\u001b[0m\n",
            "\u001b[0;32m/usr/local/lib/python3.10/dist-packages/pandas/core/indexing.py\u001b[0m in \u001b[0;36m__getitem__\u001b[0;34m(self, key)\u001b[0m\n\u001b[1;32m   1095\u001b[0m             \u001b[0;32mif\u001b[0m \u001b[0mself\u001b[0m\u001b[0;34m.\u001b[0m\u001b[0m_is_scalar_access\u001b[0m\u001b[0;34m(\u001b[0m\u001b[0mkey\u001b[0m\u001b[0;34m)\u001b[0m\u001b[0;34m:\u001b[0m\u001b[0;34m\u001b[0m\u001b[0;34m\u001b[0m\u001b[0m\n\u001b[1;32m   1096\u001b[0m                 \u001b[0;32mreturn\u001b[0m \u001b[0mself\u001b[0m\u001b[0;34m.\u001b[0m\u001b[0mobj\u001b[0m\u001b[0;34m.\u001b[0m\u001b[0m_get_value\u001b[0m\u001b[0;34m(\u001b[0m\u001b[0;34m*\u001b[0m\u001b[0mkey\u001b[0m\u001b[0;34m,\u001b[0m \u001b[0mtakeable\u001b[0m\u001b[0;34m=\u001b[0m\u001b[0mself\u001b[0m\u001b[0;34m.\u001b[0m\u001b[0m_takeable\u001b[0m\u001b[0;34m)\u001b[0m\u001b[0;34m\u001b[0m\u001b[0;34m\u001b[0m\u001b[0m\n\u001b[0;32m-> 1097\u001b[0;31m             \u001b[0;32mreturn\u001b[0m \u001b[0mself\u001b[0m\u001b[0;34m.\u001b[0m\u001b[0m_getitem_tuple\u001b[0m\u001b[0;34m(\u001b[0m\u001b[0mkey\u001b[0m\u001b[0;34m)\u001b[0m\u001b[0;34m\u001b[0m\u001b[0;34m\u001b[0m\u001b[0m\n\u001b[0m\u001b[1;32m   1098\u001b[0m         \u001b[0;32melse\u001b[0m\u001b[0;34m:\u001b[0m\u001b[0;34m\u001b[0m\u001b[0;34m\u001b[0m\u001b[0m\n\u001b[1;32m   1099\u001b[0m             \u001b[0;31m# we by definition only have the 0th axis\u001b[0m\u001b[0;34m\u001b[0m\u001b[0;34m\u001b[0m\u001b[0m\n",
            "\u001b[0;32m/usr/local/lib/python3.10/dist-packages/pandas/core/indexing.py\u001b[0m in \u001b[0;36m_getitem_tuple\u001b[0;34m(self, tup)\u001b[0m\n\u001b[1;32m   1592\u001b[0m \u001b[0;34m\u001b[0m\u001b[0m\n\u001b[1;32m   1593\u001b[0m     \u001b[0;32mdef\u001b[0m \u001b[0m_getitem_tuple\u001b[0m\u001b[0;34m(\u001b[0m\u001b[0mself\u001b[0m\u001b[0;34m,\u001b[0m \u001b[0mtup\u001b[0m\u001b[0;34m:\u001b[0m \u001b[0mtuple\u001b[0m\u001b[0;34m)\u001b[0m\u001b[0;34m:\u001b[0m\u001b[0;34m\u001b[0m\u001b[0;34m\u001b[0m\u001b[0m\n\u001b[0;32m-> 1594\u001b[0;31m         \u001b[0mtup\u001b[0m \u001b[0;34m=\u001b[0m \u001b[0mself\u001b[0m\u001b[0;34m.\u001b[0m\u001b[0m_validate_tuple_indexer\u001b[0m\u001b[0;34m(\u001b[0m\u001b[0mtup\u001b[0m\u001b[0;34m)\u001b[0m\u001b[0;34m\u001b[0m\u001b[0;34m\u001b[0m\u001b[0m\n\u001b[0m\u001b[1;32m   1595\u001b[0m         \u001b[0;32mwith\u001b[0m \u001b[0msuppress\u001b[0m\u001b[0;34m(\u001b[0m\u001b[0mIndexingError\u001b[0m\u001b[0;34m)\u001b[0m\u001b[0;34m:\u001b[0m\u001b[0;34m\u001b[0m\u001b[0;34m\u001b[0m\u001b[0m\n\u001b[1;32m   1596\u001b[0m             \u001b[0;32mreturn\u001b[0m \u001b[0mself\u001b[0m\u001b[0;34m.\u001b[0m\u001b[0m_getitem_lowerdim\u001b[0m\u001b[0;34m(\u001b[0m\u001b[0mtup\u001b[0m\u001b[0;34m)\u001b[0m\u001b[0;34m\u001b[0m\u001b[0;34m\u001b[0m\u001b[0m\n",
            "\u001b[0;32m/usr/local/lib/python3.10/dist-packages/pandas/core/indexing.py\u001b[0m in \u001b[0;36m_validate_tuple_indexer\u001b[0;34m(self, key)\u001b[0m\n\u001b[1;32m    902\u001b[0m         \u001b[0;32mfor\u001b[0m \u001b[0mi\u001b[0m\u001b[0;34m,\u001b[0m \u001b[0mk\u001b[0m \u001b[0;32min\u001b[0m \u001b[0menumerate\u001b[0m\u001b[0;34m(\u001b[0m\u001b[0mkey\u001b[0m\u001b[0;34m)\u001b[0m\u001b[0;34m:\u001b[0m\u001b[0;34m\u001b[0m\u001b[0;34m\u001b[0m\u001b[0m\n\u001b[1;32m    903\u001b[0m             \u001b[0;32mtry\u001b[0m\u001b[0;34m:\u001b[0m\u001b[0;34m\u001b[0m\u001b[0;34m\u001b[0m\u001b[0m\n\u001b[0;32m--> 904\u001b[0;31m                 \u001b[0mself\u001b[0m\u001b[0;34m.\u001b[0m\u001b[0m_validate_key\u001b[0m\u001b[0;34m(\u001b[0m\u001b[0mk\u001b[0m\u001b[0;34m,\u001b[0m \u001b[0mi\u001b[0m\u001b[0;34m)\u001b[0m\u001b[0;34m\u001b[0m\u001b[0;34m\u001b[0m\u001b[0m\n\u001b[0m\u001b[1;32m    905\u001b[0m             \u001b[0;32mexcept\u001b[0m \u001b[0mValueError\u001b[0m \u001b[0;32mas\u001b[0m \u001b[0merr\u001b[0m\u001b[0;34m:\u001b[0m\u001b[0;34m\u001b[0m\u001b[0;34m\u001b[0m\u001b[0m\n\u001b[1;32m    906\u001b[0m                 raise ValueError(\n",
            "\u001b[0;32m/usr/local/lib/python3.10/dist-packages/pandas/core/indexing.py\u001b[0m in \u001b[0;36m_validate_key\u001b[0;34m(self, key, axis)\u001b[0m\n\u001b[1;32m   1494\u001b[0m             \u001b[0;32mreturn\u001b[0m\u001b[0;34m\u001b[0m\u001b[0;34m\u001b[0m\u001b[0m\n\u001b[1;32m   1495\u001b[0m         \u001b[0;32melif\u001b[0m \u001b[0mis_integer\u001b[0m\u001b[0;34m(\u001b[0m\u001b[0mkey\u001b[0m\u001b[0;34m)\u001b[0m\u001b[0;34m:\u001b[0m\u001b[0;34m\u001b[0m\u001b[0;34m\u001b[0m\u001b[0m\n\u001b[0;32m-> 1496\u001b[0;31m             \u001b[0mself\u001b[0m\u001b[0;34m.\u001b[0m\u001b[0m_validate_integer\u001b[0m\u001b[0;34m(\u001b[0m\u001b[0mkey\u001b[0m\u001b[0;34m,\u001b[0m \u001b[0maxis\u001b[0m\u001b[0;34m)\u001b[0m\u001b[0;34m\u001b[0m\u001b[0;34m\u001b[0m\u001b[0m\n\u001b[0m\u001b[1;32m   1497\u001b[0m         \u001b[0;32melif\u001b[0m \u001b[0misinstance\u001b[0m\u001b[0;34m(\u001b[0m\u001b[0mkey\u001b[0m\u001b[0;34m,\u001b[0m \u001b[0mtuple\u001b[0m\u001b[0;34m)\u001b[0m\u001b[0;34m:\u001b[0m\u001b[0;34m\u001b[0m\u001b[0;34m\u001b[0m\u001b[0m\n\u001b[1;32m   1498\u001b[0m             \u001b[0;31m# a tuple should already have been caught by this point\u001b[0m\u001b[0;34m\u001b[0m\u001b[0;34m\u001b[0m\u001b[0m\n",
            "\u001b[0;32m/usr/local/lib/python3.10/dist-packages/pandas/core/indexing.py\u001b[0m in \u001b[0;36m_validate_integer\u001b[0;34m(self, key, axis)\u001b[0m\n\u001b[1;32m   1587\u001b[0m         \u001b[0mlen_axis\u001b[0m \u001b[0;34m=\u001b[0m \u001b[0mlen\u001b[0m\u001b[0;34m(\u001b[0m\u001b[0mself\u001b[0m\u001b[0;34m.\u001b[0m\u001b[0mobj\u001b[0m\u001b[0;34m.\u001b[0m\u001b[0m_get_axis\u001b[0m\u001b[0;34m(\u001b[0m\u001b[0maxis\u001b[0m\u001b[0;34m)\u001b[0m\u001b[0;34m)\u001b[0m\u001b[0;34m\u001b[0m\u001b[0;34m\u001b[0m\u001b[0m\n\u001b[1;32m   1588\u001b[0m         \u001b[0;32mif\u001b[0m \u001b[0mkey\u001b[0m \u001b[0;34m>=\u001b[0m \u001b[0mlen_axis\u001b[0m \u001b[0;32mor\u001b[0m \u001b[0mkey\u001b[0m \u001b[0;34m<\u001b[0m \u001b[0;34m-\u001b[0m\u001b[0mlen_axis\u001b[0m\u001b[0;34m:\u001b[0m\u001b[0;34m\u001b[0m\u001b[0;34m\u001b[0m\u001b[0m\n\u001b[0;32m-> 1589\u001b[0;31m             \u001b[0;32mraise\u001b[0m \u001b[0mIndexError\u001b[0m\u001b[0;34m(\u001b[0m\u001b[0;34m\"single positional indexer is out-of-bounds\"\u001b[0m\u001b[0;34m)\u001b[0m\u001b[0;34m\u001b[0m\u001b[0;34m\u001b[0m\u001b[0m\n\u001b[0m\u001b[1;32m   1590\u001b[0m \u001b[0;34m\u001b[0m\u001b[0m\n\u001b[1;32m   1591\u001b[0m     \u001b[0;31m# -------------------------------------------------------------------\u001b[0m\u001b[0;34m\u001b[0m\u001b[0;34m\u001b[0m\u001b[0m\n",
            "\u001b[0;31mIndexError\u001b[0m: single positional indexer is out-of-bounds"
          ]
        },
        {
          "output_type": "display_data",
          "data": {
            "text/plain": [
              "<Figure size 1500x2100 with 3 Axes>"
            ],
            "image/png": "[encoded data removed]"
          },
          "metadata": {}
        }
      ],
      "source": [
        "plt.figure(figsize = (15, 21))\n",
        "for i in np.arange(5, 26):        # column 5 in python means actual 6th column\n",
        "    temp = train_data.iloc[:, i]\n",
        "    plt.subplot(7,3, i-4)\n",
        "    plt.boxplot(temp)\n",
        "    plt.title(\"Senor: \"+ str(i-4))\n",
        "plt.show()"
      ]
    },
    {
      "cell_type": "markdown",
      "metadata": {
        "id": "4GAWr7zWle-W"
      },
      "source": []
    },
    {
      "cell_type": "code",
      "execution_count": null,
      "metadata": {
        "id": "kyJY2Uwnle-X",
        "outputId": "c4458b25-6f85-4d65-a405-063fcede24b8"
      },
      "outputs": [
        {
          "data": {
            "text/plain": [
              "21.61    20225\n",
              "21.60      406\n",
              "Name: 10, dtype: int64"
            ]
          },
          "execution_count": 16,
          "metadata": {},
          "output_type": "execute_result"
        }
      ],
      "source": [
        "train_data[10].value_counts()"
      ]
    },
    {
      "cell_type": "markdown",
      "metadata": {
        "id": "MOTE73C6le-X"
      },
      "source": []
    },
    {
      "cell_type": "code",
      "execution_count": null,
      "metadata": {
        "colab": {
          "base_uri": "https://localhost:8080/",
          "height": 536
        },
        "id": "3qiJKEHLle-X",
        "outputId": "5a924f87-dbdd-43e3-ab61-e26c5280f980"
      },
      "outputs": [
        {
          "output_type": "display_data",
          "data": {
            "text/plain": [
              "<Figure size 1500x2100 with 6 Axes>"
            ],
            "image/png": "[encoded data removed]"
          },
          "metadata": {}
        }
      ],
      "source": [
        "plt.figure(figsize = (15, 21))\n",
        "for i,j in enumerate([0,1,2,3,4,5]):\n",
        "    temp = train_data.iloc[:, j]\n",
        "    plt.subplot(7,3, i+1)\n",
        "    sns.kdeplot(temp, legend = False)\n",
        "    plt.title(\"Column: \"+ str(j+1))\n",
        "plt.show()"
      ]
    },
    {
      "cell_type": "markdown",
      "metadata": {
        "id": "ANgmoBqtle-X"
      },
      "source": [
        "An algorithm generalizes well (i.e., its performance on unseen data is good) if unseen data is similar in distribution to training data. Unseen data need not be exactly of same distribution as of training data but it should not be very different from training data.\n",
        "\n",
        "Here, we will just check the distribution of training and test data. It should be noted that test data should never be used while training an algorithm. Training an algorithm is an iterative process. With more parameters, it is very likely that training error reduces nearly zero. But its performance on new unseen data is not that good. In that case, we say that the model has overfit the training data (or memorized the training examples). Therefore, while training we have to devise some way to check whether the model is learning something or just memorizing the training data. To do that, we extract a portion of training data as `validation set` and use the validation set to check performance of trained model at each iteration. Once we are satisfied with the final model, we can use it to evaluate its performance on test data. While iterating over different models, we should avoid overfitting the `validation data`.\n",
        "\n",
        "Here, we will only show the density plot of training as well as test data."
      ]
    },
    {
      "cell_type": "code",
      "execution_count": null,
      "metadata": {
        "colab": {
          "base_uri": "https://localhost:8080/",
          "height": 536
        },
        "id": "8TcMxZqsle-X",
        "outputId": "002a14ce-d49c-4fa0-a0a9-1ba4d56b2f1e"
      },
      "outputs": [
        {
          "output_type": "display_data",
          "data": {
            "text/plain": [
              "<Figure size 1500x2100 with 6 Axes>"
            ],
            "image/png": "[encoded data removed]"
          },
          "metadata": {}
        }
      ],
      "source": [
        "plt.figure(figsize = (15, 21))\n",
        "for i,j in enumerate([0,1,2,3,4,5]):\n",
        "    temp_train = train_data.iloc[:, j]\n",
        "    temp_test = test_data1.iloc[:, j]\n",
        "    plt.subplot(7,3, i+1)\n",
        "    sns.kdeplot(temp_train, legend = False, color = \"blue\", label = \"Train\")\n",
        "    sns.kdeplot(temp_test, legend = False, color = \"red\", label = \"Test\")\n",
        "    plt.title(\"Column: \"+ str(j+1))\n",
        "    plt.legend()\n",
        "plt.show()"
      ]
    },
    {
      "cell_type": "markdown",
      "metadata": {
        "id": "O9G0i4inle-X"
      },
      "source": [
        "Though not exact, test data has a similar distribution as training data. So if we design our algorithm carefully, it will generalize well."
      ]
    },
    {
      "cell_type": "markdown",
      "metadata": {
        "id": "dvRWdQNgle-X"
      },
      "source": []
    },
    {
      "cell_type": "markdown",
      "metadata": {
        "id": "JM9C7Xj8le-X"
      },
      "source": []
    },
    {
      "cell_type": "code",
      "execution_count": null,
      "metadata": {
        "id": "0KB3ofVlle-X"
      },
      "outputs": [],
      "source": [
        "def process_input_data_with_targets(input_data, target_data = None, window_length = 1, shift = 1):\n",
        "    \"\"\"\n",
        "    Depending on values of window_length and shift, this function generates batchs of data and targets\n",
        "    from `input_data` and `target_data`. `target_data` is optional. If no `target_data` is given, i.e.,\n",
        "    `target_data = None`, no `output_targets` are generated. The following formula is used to determine\n",
        "    number of batches. Please note that, here we use the term `batch` in a different sense than its usual\n",
        "    meaning in deep learning.\n",
        "\n",
        "    Number of batches = int(np.floor((len(input_data) - window_length)/shift)) + 1\n",
        "\n",
        "    **We don't check input dimensions using exception handling. So readers should be careful while using these\n",
        "    functions. If input data are not of desired dimension, either error occurs or something undesirable is\n",
        "    produced as output.**\n",
        "\n",
        "    Arguments:\n",
        "        input_data: (Must be 2D array) input data to function\n",
        "        target_data (optional): (Must be 1D array) Input rul values (default: None)\n",
        "        window_length: (scalar) window length of data (default: 1)\n",
        "        shift: (scalar) Distance by which the window moves for next batch. This is closely related to overlap\n",
        "               between data. For example, if window length is 30 and shift is 1, there is an overlap of\n",
        "               29 data points between two consecutive batches (default: 1)\n",
        "\n",
        "    Returns:\n",
        "        output_data: (2D float array) Output data that would be passed to machine learning model\n",
        "        output_targets (optional): (1D float array) Output targets. Only generated if `target_data` is\n",
        "                                   passed as argument.\n",
        "    \"\"\"\n",
        "    num_batches = int(np.floor((len(input_data) - window_length)/shift)) + 1\n",
        "    num_features = input_data.shape[1]\n",
        "    output_data = np.repeat(np.nan, repeats = num_batches * window_length * num_features).reshape(num_batches, window_length,\n",
        "                                                                                                  num_features)\n",
        "    if target_data is None:\n",
        "        for batch in range(num_batches):\n",
        "            output_data[batch,:,:] = input_data[(0+shift*batch):(0+shift*batch+window_length),:]\n",
        "        return output_data\n",
        "    else:\n",
        "        output_targets = np.repeat(np.nan, repeats = num_batches)\n",
        "        for batch in range(num_batches):\n",
        "            output_data[batch,:,:] = input_data[(0+shift*batch):(0+shift*batch+window_length),:]\n",
        "            output_targets[batch] = target_data[(shift*batch + (window_length-1))]\n",
        "        return output_data, output_targets"
      ]
    },
    {
      "cell_type": "markdown",
      "metadata": {
        "id": "44WL6ldWle-X"
      },
      "source": [
        "In the above function, we have used an argument `shift`. It is closely related to number of overlap rows. For example, if window length is 30 and shift is 2, it would mean there is an overlap of 28 rows between successive data batches."
      ]
    },
    {
      "cell_type": "markdown",
      "metadata": {
        "id": "-dcRg0q9le-f"
      },
      "source": [
        "## Check whether the functions works as intended or not"
      ]
    },
    {
      "cell_type": "code",
      "execution_count": null,
      "metadata": {
        "colab": {
          "base_uri": "https://localhost:8080/"
        },
        "id": "xxZG27Jsle-f",
        "outputId": "ef2a9bd5-a93d-4442-c04f-6a3d766fdf76"
      },
      "outputs": [
        {
          "output_type": "stream",
          "name": "stdout",
          "text": [
            "Data:\n",
            "[[ 1  2  3  4  5]\n",
            " [ 6  7  8  9 10]\n",
            " [11 12 13 14 15]\n",
            " [16 17 18 19 20]\n",
            " [21 22 23 24 25]\n",
            " [26 27 28 29 30]]\n",
            "\n",
            "RUL:\n",
            "[31 32 33 34 35 36]\n"
          ]
        }
      ],
      "source": [
        "data = np.array([[1,2,3,4,5],\n",
        "                 [6,7,8,9,10],\n",
        "                 [11,12,13,14,15],\n",
        "                 [16,17,18,19,20],\n",
        "                 [21,22,23,24,25],\n",
        "                 [26,27,28,29,30]])\n",
        "ruls = np.array([31,32,33,34,35,36])\n",
        "print(\"Data:\")\n",
        "print(data)\n",
        "print()\n",
        "print(\"RUL:\")\n",
        "print(ruls)"
      ]
    },
    {
      "cell_type": "code",
      "execution_count": null,
      "metadata": {
        "colab": {
          "base_uri": "https://localhost:8080/"
        },
        "id": "nPdxvsV4le-f",
        "outputId": "c34d4ae6-c9d7-4e25-820b-14ce01248bb8"
      },
      "outputs": [
        {
          "output_type": "stream",
          "name": "stdout",
          "text": [
            "[[[ 1.  2.  3.  4.  5.]\n",
            "  [ 6.  7.  8.  9. 10.]\n",
            "  [11. 12. 13. 14. 15.]]\n",
            "\n",
            " [[ 6.  7.  8.  9. 10.]\n",
            "  [11. 12. 13. 14. 15.]\n",
            "  [16. 17. 18. 19. 20.]]\n",
            "\n",
            " [[11. 12. 13. 14. 15.]\n",
            "  [16. 17. 18. 19. 20.]\n",
            "  [21. 22. 23. 24. 25.]]\n",
            "\n",
            " [[16. 17. 18. 19. 20.]\n",
            "  [21. 22. 23. 24. 25.]\n",
            "  [26. 27. 28. 29. 30.]]]\n",
            "\n",
            "[33. 34. 35. 36.]\n"
          ]
        }
      ],
      "source": [
        "check_data, check_rul = process_input_data_with_targets(data,target_data = ruls, window_length = 3, shift = 1)\n",
        "print(check_data)\n",
        "print()\n",
        "print(check_rul)"
      ]
    },
    {
      "cell_type": "code",
      "execution_count": null,
      "metadata": {
        "colab": {
          "base_uri": "https://localhost:8080/"
        },
        "id": "wCo2kLADle-f",
        "outputId": "23ad8f6c-b7e8-4ae2-c59d-7941c55c8a29"
      },
      "outputs": [
        {
          "output_type": "stream",
          "name": "stdout",
          "text": [
            "[[[ 1.  2.  3.  4.  5.]\n",
            "  [ 6.  7.  8.  9. 10.]\n",
            "  [11. 12. 13. 14. 15.]]\n",
            "\n",
            " [[11. 12. 13. 14. 15.]\n",
            "  [16. 17. 18. 19. 20.]\n",
            "  [21. 22. 23. 24. 25.]]]\n",
            "\n",
            "[33. 35.]\n"
          ]
        }
      ],
      "source": [
        "check_data_2, check_rul_2 = process_input_data_with_targets(data,target_data = ruls, window_length = 3, shift = 2)\n",
        "print(check_data_2)\n",
        "print()\n",
        "print(check_rul_2)"
      ]
    },
    {
      "cell_type": "markdown",
      "metadata": {
        "id": "DTEG3pVTle-f"
      },
      "source": [
        "Note that in our function, `target_data` argument is optional. If we don't pass any data in that argument, we get only batched data as output. This is useful for preprocessing test data for which we don't know target RUL values. The following cell illustrates this with an example."
      ]
    },
    {
      "cell_type": "code",
      "execution_count": null,
      "metadata": {
        "colab": {
          "base_uri": "https://localhost:8080/"
        },
        "id": "y4S2Ygbyle-f",
        "outputId": "d5697dc3-e23f-455b-f106-b0e3d643fd91"
      },
      "outputs": [
        {
          "output_type": "execute_result",
          "data": {
            "text/plain": [
              "array([[[ 1.,  2.,  3.,  4.,  5.],\n",
              "        [ 6.,  7.,  8.,  9., 10.],\n",
              "        [11., 12., 13., 14., 15.],\n",
              "        [16., 17., 18., 19., 20.]],\n",
              "\n",
              "       [[ 6.,  7.,  8.,  9., 10.],\n",
              "        [11., 12., 13., 14., 15.],\n",
              "        [16., 17., 18., 19., 20.],\n",
              "        [21., 22., 23., 24., 25.]],\n",
              "\n",
              "       [[11., 12., 13., 14., 15.],\n",
              "        [16., 17., 18., 19., 20.],\n",
              "        [21., 22., 23., 24., 25.],\n",
              "        [26., 27., 28., 29., 30.]]])"
            ]
          },
          "metadata": {},
          "execution_count": 28
        }
      ],
      "source": [
        "check_data_new = process_input_data_with_targets(data, target_data = None, window_length = 4, shift = 1)\n",
        "check_data_new"
      ]
    },
    {
      "cell_type": "markdown",
      "metadata": {
        "id": "N1jgxwCJle-f"
      },
      "source": [
        "Now we are ready to use the functions to preprocess the actual CMAPSS data. For this demonstration, we will use following function argument values.\n",
        "\n",
        "* window_length = 30\n",
        "* shift = 1 (It is equivalent to overlap of 29 rows between successive windowed data)\n",
        "* early_rul = 125\n",
        "\n",
        "We have also used\n",
        "\n",
        "* MinMaxScaling with feature range (-1, 1). We can change this to StandardScaler if we want. Scaling is applied individually to each engine of training set. The scaling parameters learned from training data is then used to scale test data of corresponding engine.\n",
        "\n",
        "### How to preprocess test data?\n",
        "\n",
        "For each engine in the test set, we need to predict one RUL value. To predict one RUL value, we need one example of test data for each engine. So the obvious choice is to use the last example of test data for each engine. If an example consists of a window of data, for a given window length, we will take the last window of data that can be extracted from test set for a particular engine. For example, assume that for a particular engine, test set data has a shape of $(45 \\times 14)$. For `window_length = 30`, and `shift = 1`, we can extract 16 windowed datasets of size $(30 \\times 14)$. But we have to predict only one number as RUL for that engine. So, out of the 13 datasets of size $(30 \\times 14)$, we will use the last one for predicting RUL.\n",
        "\n",
        "The above approach, though technically correct, is prone to mistakes. What happens if the measurements of last example have some outliers? In that case our prediction would be way off. One approach to circumvent this issue is to take, say, last 5 examples instead of only the last example for each engine. Then we will get 5 RUL prediction values. We can average those to come up with our final estimate of RUL. In this way our RUL estimate will be a little conservative but robust against outliers in the last test example.\n",
        "\n",
        "In the following cell, we will write a function that prepares a number of test examples as per user input."
      ]
    },
    {
      "cell_type": "code",
      "execution_count": null,
      "metadata": {
        "id": "P4Rwg6dcle-f"
      },
      "outputs": [],
      "source": [
        "def process_test_data(test_data_for_an_engine, window_length, shift, num_test_windows = 1):\n",
        "    \"\"\"\n",
        "    This function takes test data for an engine as first input. The next two inputs,\n",
        "    window_length and shift are same as other functions.\n",
        "\n",
        "    Finally it takes num_test_windows as the last input. num_test_windows sets how many examples we\n",
        "    want from test data (from last). By default it extracts only the last example.\n",
        "\n",
        "    The function returns last examples and number of last examples (a scaler) as output.\n",
        "    We need the second output later. If we are extracting more than 1 last examples, we have to\n",
        "    average their prediction results. The second scaler helps us do just that.\n",
        "\n",
        "    Arguments:\n",
        "        test_data_for_an_engine: (2D array) input test data\n",
        "        window_length: (scalar) window length of data\n",
        "        shift: (scalar) Distance by which the window moves for next batch. This is closely related to overlap\n",
        "               between data. For example, if window length is 30 and shift is 1, there is an overlap of\n",
        "               29 data points between two consecutive batches.\n",
        "        num_test_windows: (scalar) Number of examples to take from last. (default: 1)\n",
        "\n",
        "    Returns:\n",
        "        batched_test_data_for_an_engine: (2D array) Batched test data. Please note that, here we have used the term `batch`\n",
        "                                         in a different sense than its usual meaning in deep learning.\n",
        "        extracted_num_test_windows: (scalar) Extracted number of test examples from last. If `num_test_windows` number of\n",
        "                                    examples can't be extracted from test data, in that case `extracted_num_test_windows`\n",
        "                                    is less than `num_test_windows`.\n",
        "    \"\"\"\n",
        "    max_num_test_batches = int(np.floor((len(test_data_for_an_engine) - window_length)/shift)) + 1\n",
        "    if max_num_test_batches < num_test_windows:\n",
        "        required_len = (max_num_test_batches -1)* shift + window_length\n",
        "        batched_test_data_for_an_engine = process_input_data_with_targets(test_data_for_an_engine[-required_len:, :],\n",
        "                                                                          target_data = None,\n",
        "                                                                          window_length = window_length, shift = shift)\n",
        "        extracted_num_test_windows = max_num_test_batches\n",
        "        return batched_test_data_for_an_engine, extracted_num_test_windows\n",
        "    else:\n",
        "        required_len = (num_test_windows - 1) * shift + window_length\n",
        "        batched_test_data_for_an_engine = process_input_data_with_targets(test_data_for_an_engine[-required_len:, :],\n",
        "                                                                          target_data = None,\n",
        "                                                                          window_length = window_length, shift = shift)\n",
        "        extracted_num_test_windows = num_test_windows\n",
        "        return batched_test_data_for_an_engine, extracted_num_test_windows"
      ]
    },
    {
      "cell_type": "markdown",
      "metadata": {
        "id": "lTjxwxZBle-f"
      },
      "source": [
        "Now we will check whether the above function works as intended or not."
      ]
    },
    {
      "cell_type": "code",
      "execution_count": null,
      "metadata": {
        "colab": {
          "base_uri": "https://localhost:8080/"
        },
        "id": "BWB-fZ8Nle-f",
        "outputId": "9e1b2179-bc0a-446a-d58b-1a0dca04e50e"
      },
      "outputs": [
        {
          "output_type": "execute_result",
          "data": {
            "text/plain": [
              "array([[ 0,  1,  2,  3],\n",
              "       [ 4,  5,  6,  7],\n",
              "       [ 8,  9, 10, 11],\n",
              "       [12, 13, 14, 15],\n",
              "       [16, 17, 18, 19],\n",
              "       [20, 21, 22, 23]])"
            ]
          },
          "metadata": {},
          "execution_count": 30
        }
      ],
      "source": [
        "check_data = np.reshape(np.arange(24), newshape = (6,4))\n",
        "check_data"
      ]
    },
    {
      "cell_type": "code",
      "execution_count": null,
      "metadata": {
        "colab": {
          "base_uri": "https://localhost:8080/"
        },
        "id": "Io_zrSnsle-g",
        "outputId": "64d6d8b2-b7ce-47c8-b7db-3dc3cb570442"
      },
      "outputs": [
        {
          "output_type": "stream",
          "name": "stdout",
          "text": [
            "[[[16. 17. 18. 19.]\n",
            "  [20. 21. 22. 23.]]]\n",
            "\n",
            "1\n"
          ]
        }
      ],
      "source": [
        "last_examples, num_last_examples = process_test_data(check_data, window_length = 2, shift = 1, num_test_windows= 1)\n",
        "print(last_examples)\n",
        "print()\n",
        "print(num_last_examples)"
      ]
    },
    {
      "cell_type": "markdown",
      "metadata": {
        "id": "5lruHmYsle-g"
      },
      "source": [
        "Now change `num_test_window` to 3. This will extract last 3 examples."
      ]
    },
    {
      "cell_type": "code",
      "execution_count": null,
      "metadata": {
        "colab": {
          "base_uri": "https://localhost:8080/"
        },
        "id": "bNJ467Yqle-g",
        "outputId": "1cd76895-3faf-4839-9550-a3629dfa44ca"
      },
      "outputs": [
        {
          "output_type": "stream",
          "name": "stdout",
          "text": [
            "[[[ 8.  9. 10. 11.]\n",
            "  [12. 13. 14. 15.]]\n",
            "\n",
            " [[12. 13. 14. 15.]\n",
            "  [16. 17. 18. 19.]]\n",
            "\n",
            " [[16. 17. 18. 19.]\n",
            "  [20. 21. 22. 23.]]]\n",
            "\n",
            "3\n"
          ]
        }
      ],
      "source": [
        "last_examples, num_last_examples = process_test_data(check_data, window_length = 2, shift = 1, num_test_windows= 3)\n",
        "print(last_examples)\n",
        "print()\n",
        "print(num_last_examples)"
      ]
    },
    {
      "cell_type": "markdown",
      "metadata": {
        "id": "Sz9SMi9Ole-g"
      },
      "source": [
        "If we set `window_length = 1`, and `num_test_windows = 3`, we will simply select last 3 rows of test data. For the above toy data, we get the following result."
      ]
    },
    {
      "cell_type": "code",
      "execution_count": null,
      "metadata": {
        "colab": {
          "base_uri": "https://localhost:8080/"
        },
        "id": "tliQuI3Gle-g",
        "outputId": "5aa25cd3-e790-419e-c23a-09f6b41e8e74"
      },
      "outputs": [
        {
          "output_type": "stream",
          "name": "stdout",
          "text": [
            "[[[12. 13. 14. 15.]]\n",
            "\n",
            " [[16. 17. 18. 19.]]\n",
            "\n",
            " [[20. 21. 22. 23.]]]\n",
            "\n",
            "3\n"
          ]
        }
      ],
      "source": [
        "last_examples, num_last_examples = process_test_data(check_data, window_length = 1, shift = 1, num_test_windows= 3)\n",
        "print(last_examples)\n",
        "print()\n",
        "print(num_last_examples)"
      ]
    },
    {
      "cell_type": "markdown",
      "metadata": {
        "id": "IyRJPVCmle-g"
      },
      "source": [
        "### How to scale data?\n",
        "\n",
        "For some algorithms, it is required to scale the data first before feeding it into the algorithm. We can use built-in scikit-learn scalers like `StandardScaler`, `MinMaxScaler`, etc. We will first scale the training data individually for each engine. Using the scaled parameters, we will then scale the data for corresponding test engine. For example, FD001 contains training data for 100 engines. So we will individually scale training data for 100 engines. Test data for FD001 also contains 100 engines. We will use scaling parameters of training data to scale corresponding engine data in test set.\n",
        "\n",
        "When there is a discrepancy in number of engines between training and test set (this occurs in FD002 and FD004), we scale only those training data for which there is a corresponding engine in test set. Again to give a concrete example, FD004 contains 249 training engines but 248 test engines. So while scaling data for this case, we ignore data corresponding to engine 249 in training set as there is no corresponding data in test set.\n",
        "\n",
        "In the following cell, scaling is performed using 3 lines of code. If for some application scaling is not required, then just comment those 3 lines.\n",
        "\n",
        "In the following cell, we will preprocess both training and test data with scaling."
      ]
    },
    {
      "cell_type": "code",
      "execution_count": null,
      "metadata": {
        "id": "IDc8sUQzle-g",
        "colab": {
          "base_uri": "https://localhost:8080/",
          "height": 35
        },
        "outputId": "a77a8fc0-ffa7-4c9a-d901-fcc7c68375ca"
      },
      "outputs": [
        {
          "output_type": "execute_result",
          "data": {
            "text/plain": [
              "'\\n# Shuffle data\\nindex = np.random.permutation(len(processed_train_targets))\\nprocessed_train_data, processed_train_targets = processed_train_data[index], processed_train_targets[index]\\n'"
            ],
            "application/vnd.google.colaboratory.intrinsic+json": {
              "type": "string"
            }
          },
          "metadata": {},
          "execution_count": 110
        }
      ],
      "source": [
        "window_length = 50\n",
        "shift = 1\n",
        "early_rul = None           # Set to None for linear degradation model\n",
        "processed_train_data = []\n",
        "processed_train_targets = []\n",
        "\n",
        "# How many test examples to take for each engine. If set to 1 (this is the default), only last example of test data for\n",
        "# each engine are taken. If set to a different number, that many examples from last are taken.\n",
        "# Final output for an engine will be the average of output of all examples for that engine.\n",
        "num_test_windows = 5    # Number of examples. Change to a different number to select that many test examples for each engine.\n",
        "processed_test_data = []\n",
        "num_test_windows_list = []  # This list keeps track of number of examples for all engines in the test set.\n",
        "\n",
        "num_machines = np.min([len(train_data['specimen'].unique()), len(test_data1['specimen'].unique())])\n",
        "\n",
        "for i in np.arange(1, num_machines+1):\n",
        "\n",
        "    temp_train_data = train_data[train_data['specimen'] == i].drop(columns=['label','specimen']).values\n",
        "    temp_test_data = test_data1[test_data1['specimen'] == i].drop(columns=['label','specimen']).values\n",
        "\n",
        "    # Verify if data of given window length can be extracted from both training and test data\n",
        "    if (len(temp_test_data) < window_length):\n",
        "        print(\"Test engine {} doesn't have enough data for window_length of {}\".format(i, window_length))\n",
        "        raise AssertionError(\"Window length is larger than number of data points for some engines. \"\n",
        "                             \"Try decreasing window length.\")\n",
        "    elif (len(temp_train_data) < window_length):\n",
        "        print(\"Train engine {} doesn't have enough data for window_length of {}\".format(i, window_length))\n",
        "        raise AssertionError(\"Window length is larger than number of data points for some engines. \"\n",
        "                             \"Try decreasing window length.\")\n",
        "\n",
        "    # We have used MinMaxScaler. Use a different scaler if you want.\n",
        "    # Or just comment the following 3 lines if no scaling is required.\n",
        "    scaler = MinMaxScaler(feature_range = (-1, 1))\n",
        "    temp_train_data = scaler.fit_transform(temp_train_data)\n",
        "    temp_test_data = scaler.transform(temp_test_data)\n",
        "\n",
        "   # temp_train_targets = process_targets(data_length = int(max(train_data['label'].where(train_data['specimen']==i))), early_rul = early_rul)\n",
        "    temp_train_targets = train_data['label'].where(train_data['specimen']==i).dropna()\n",
        "    temp_train_targets=list(temp_train_targets)\n",
        "    data_for_a_machine, targets_for_a_machine = process_input_data_with_targets(temp_train_data, temp_train_targets,\n",
        "                                                                                window_length = window_length, shift = shift)\n",
        "\n",
        "    # Prepare test data\n",
        "    test_data_for_an_engine, num_windows = process_test_data(temp_test_data, window_length = window_length, shift = shift,\n",
        "                                                             num_test_windows = num_test_windows)\n",
        "\n",
        "    processed_train_data.append(data_for_a_machine)\n",
        "    processed_train_targets.append(targets_for_a_machine)\n",
        "\n",
        "    processed_test_data.append(test_data_for_an_engine)\n",
        "    num_test_windows_list.append(num_windows)\n",
        "\n",
        "processed_train_data = np.concatenate(processed_train_data)\n",
        "processed_train_targets = np.concatenate(processed_train_targets)\n",
        "processed_test_data = np.concatenate(processed_test_data)\n",
        "#true_rul = true_rul[0].values\n",
        "true_rul\n",
        "'''\n",
        "# Shuffle data\n",
        "index = np.random.permutation(len(processed_train_targets))\n",
        "processed_train_data, processed_train_targets = processed_train_data[index], processed_train_targets[index]\n",
        "'''"
      ]
    },
    {
      "cell_type": "code",
      "source": [
        "plt.plot(processed_train_targets)"
      ],
      "metadata": {
        "colab": {
          "base_uri": "https://localhost:8080/",
          "height": 447
        },
        "id": "0xNFtXQQl09H",
        "outputId": "cfe4551f-b4ad-4931-b639-5819491cd915"
      },
      "execution_count": null,
      "outputs": [
        {
          "output_type": "execute_result",
          "data": {
            "text/plain": [
              "[<matplotlib.lines.Line2D at 0x7b121b0412d0>]"
            ]
          },
          "metadata": {},
          "execution_count": 111
        },
        {
          "output_type": "display_data",
          "data": {
            "text/plain": [
              "<Figure size 640x480 with 1 Axes>"
            ],
            "image/png": "[encoded data removed]"
          },
          "metadata": {}
        }
      ]
    },
    {
      "cell_type": "code",
      "source": [
        "processed_train_targets"
      ],
      "metadata": {
        "colab": {
          "base_uri": "https://localhost:8080/"
        },
        "id": "klgCro28esHq",
        "outputId": "2dbe35f0-6c5b-47a1-bbad-e959d7c99bed"
      },
      "execution_count": null,
      "outputs": [
        {
          "output_type": "execute_result",
          "data": {
            "text/plain": [
              "array([3113., 3113., 3113., ...,    0.,    0.,    0.])"
            ]
          },
          "metadata": {},
          "execution_count": 35
        }
      ]
    },
    {
      "cell_type": "code",
      "source": [
        "processed_train_data"
      ],
      "metadata": {
        "colab": {
          "base_uri": "https://localhost:8080/"
        },
        "id": "z7M1WTjycFNJ",
        "outputId": "ad44cb27-49f3-4461-a798-e56c77e05806"
      },
      "execution_count": null,
      "outputs": [
        {
          "output_type": "execute_result",
          "data": {
            "text/plain": [
              "array([[[-0.97142857, -1.        , -1.        , -0.99631676,\n",
              "         -1.        , -0.99923401],\n",
              "        [-1.        , -1.        , -1.        , -0.99631676,\n",
              "         -1.        , -1.        ],\n",
              "        [-0.97142857, -1.        , -1.        , -0.99631676,\n",
              "         -1.        , -1.        ],\n",
              "        ...,\n",
              "        [-1.        , -1.        , -1.        , -0.99631676,\n",
              "         -1.        , -0.99974467],\n",
              "        [-1.        , -1.        , -1.        , -0.99631676,\n",
              "         -1.        , -0.99974467],\n",
              "        [-0.94285714, -0.99979581, -0.99999999, -0.99631676,\n",
              "         -1.        , -0.99974467]],\n",
              "\n",
              "       [[-1.        , -1.        , -1.        , -0.99631676,\n",
              "         -1.        , -1.        ],\n",
              "        [-0.97142857, -1.        , -1.        , -0.99631676,\n",
              "         -1.        , -1.        ],\n",
              "        [-1.        , -1.        , -1.        , -0.99631676,\n",
              "         -1.        , -1.        ],\n",
              "        ...,\n",
              "        [-1.        , -1.        , -1.        , -0.99631676,\n",
              "         -1.        , -0.99974467],\n",
              "        [-0.94285714, -0.99979581, -0.99999999, -0.99631676,\n",
              "         -1.        , -0.99974467],\n",
              "        [-0.94285714, -1.        , -1.        , -0.99631676,\n",
              "         -1.        , -0.99948934]],\n",
              "\n",
              "       [[-0.97142857, -1.        , -1.        , -0.99631676,\n",
              "         -1.        , -1.        ],\n",
              "        [-1.        , -1.        , -1.        , -0.99631676,\n",
              "         -1.        , -1.        ],\n",
              "        [-0.94285714, -0.99758376, -0.99999996, -0.99631676,\n",
              "         -1.        , -0.99948934],\n",
              "        ...,\n",
              "        [-0.94285714, -0.99979581, -0.99999999, -0.99631676,\n",
              "         -1.        , -0.99974467],\n",
              "        [-0.94285714, -1.        , -1.        , -0.99631676,\n",
              "         -1.        , -0.99948934],\n",
              "        [-1.        , -1.        , -1.        , -0.99631676,\n",
              "         -1.        , -1.        ]],\n",
              "\n",
              "       ...,\n",
              "\n",
              "       [[-0.94202899, -0.98950641, -0.99999977,  0.35516373,\n",
              "         -1.        , -0.99889564],\n",
              "        [-0.88405797, -0.99883405, -0.99999992,  0.35516373,\n",
              "         -0.99948354, -0.99867477],\n",
              "        [-0.36231884, -0.82381137, -0.99998874,  1.        ,\n",
              "         -0.40348612, -0.98100497],\n",
              "        ...,\n",
              "        [-0.79710145, -0.99591916, -0.99999979,  1.        ,\n",
              "         -1.        , -0.99867477],\n",
              "        [-0.76811594, -0.99915792, -0.99999992,  1.        ,\n",
              "         -0.99870884, -0.99955826],\n",
              "        [-0.94202899, -1.        , -0.99999999,  0.99496222,\n",
              "         -1.        , -1.        ]],\n",
              "\n",
              "       [[-0.88405797, -0.99883405, -0.99999992,  0.35516373,\n",
              "         -0.99948354, -0.99867477],\n",
              "        [-0.36231884, -0.82381137, -0.99998874,  1.        ,\n",
              "         -0.40348612, -0.98100497],\n",
              "        [-0.88405797, -0.9937168 , -0.99999972,  1.        ,\n",
              "         -0.98295675, -0.99867477],\n",
              "        ...,\n",
              "        [-0.76811594, -0.99915792, -0.99999992,  1.        ,\n",
              "         -0.99870884, -0.99955826],\n",
              "        [-0.94202899, -1.        , -0.99999999,  0.99496222,\n",
              "         -1.        , -1.        ],\n",
              "        [-0.82608696, -0.99941702, -0.99999992,  0.99496222,\n",
              "         -1.        , -0.99977913]],\n",
              "\n",
              "       [[-0.36231884, -0.82381137, -0.99998874,  1.        ,\n",
              "         -0.40348612, -0.98100497],\n",
              "        [-0.88405797, -0.9937168 , -0.99999972,  1.        ,\n",
              "         -0.98295675, -0.99867477],\n",
              "        [-0.2173913 , -0.85354321, -0.99994303,  1.        ,\n",
              "         -0.74641704, -0.97106571],\n",
              "        ...,\n",
              "        [-0.94202899, -1.        , -0.99999999,  0.99496222,\n",
              "         -1.        , -1.        ],\n",
              "        [-0.82608696, -0.99941702, -0.99999992,  0.99496222,\n",
              "         -1.        , -0.99977913],\n",
              "        [-0.91304348, -1.        , -0.99999999,  0.99496222,\n",
              "         -1.        , -0.99977913]]])"
            ]
          },
          "metadata": {},
          "execution_count": 36
        }
      ]
    },
    {
      "cell_type": "code",
      "source": [
        "len(temp_train_data)"
      ],
      "metadata": {
        "colab": {
          "base_uri": "https://localhost:8080/"
        },
        "id": "_dI_6XNKWNRX",
        "outputId": "f1344fe5-4ac1-4d09-a47c-412455a41e52"
      },
      "execution_count": null,
      "outputs": [
        {
          "output_type": "execute_result",
          "data": {
            "text/plain": [
              "12447"
            ]
          },
          "metadata": {},
          "execution_count": 98
        }
      ]
    },
    {
      "cell_type": "code",
      "source": [
        "len(temp_train_targets)"
      ],
      "metadata": {
        "colab": {
          "base_uri": "https://localhost:8080/"
        },
        "id": "w-_G5ci7ZFuF",
        "outputId": "df6db7ac-1b8e-4096-f435-4af91eacba52"
      },
      "execution_count": null,
      "outputs": [
        {
          "output_type": "execute_result",
          "data": {
            "text/plain": [
              "12447"
            ]
          },
          "metadata": {},
          "execution_count": 99
        }
      ]
    },
    {
      "cell_type": "code",
      "source": [
        "temp_train_targets"
      ],
      "metadata": {
        "colab": {
          "base_uri": "https://localhost:8080/"
        },
        "id": "In9UCtfwXJ8e",
        "outputId": "049b7aba-56d9-4452-d208-89b440f4c3d9"
      },
      "execution_count": null,
      "outputs": [
        {
          "output_type": "execute_result",
          "data": {
            "text/plain": [
              "[2191.0,\n",
              " 2191.0,\n",
              " 2191.0,\n",
              " 2191.0,\n",
              " 2191.0,\n",
              " 2191.0,\n",
              " 2191.0,\n",
              " 2191.0,\n",
              " 2191.0,\n",
              " 2191.0,\n",
              " 2191.0,\n",
              " 2191.0,\n",
              " 2191.0,\n",
              " 2191.0,\n",
              " 2191.0,\n",
              " 2191.0,\n",
              " 2190.0,\n",
              " 2190.0,\n",
              " 2190.0,\n",
              " 2190.0,\n",
              " 2190.0,\n",
              " 2190.0,\n",
              " 2190.0,\n",
              " 2190.0,\n",
              " 2190.0,\n",
              " 2190.0,\n",
              " 2189.0,\n",
              " 2189.0,\n",
              " 2189.0,\n",
              " 2189.0,\n",
              " 2189.0,\n",
              " 2189.0,\n",
              " 2189.0,\n",
              " 2189.0,\n",
              " 2189.0,\n",
              " 2189.0,\n",
              " 2189.0,\n",
              " 2188.0,\n",
              " 2188.0,\n",
              " 2188.0,\n",
              " 2188.0,\n",
              " 2188.0,\n",
              " 2187.0,\n",
              " 2187.0,\n",
              " 2187.0,\n",
              " 2187.0,\n",
              " 2186.0,\n",
              " 2186.0,\n",
              " 2185.0,\n",
              " 2185.0,\n",
              " 2185.0,\n",
              " 2185.0,\n",
              " 2185.0,\n",
              " 2184.0,\n",
              " 2184.0,\n",
              " 2184.0,\n",
              " 2183.0,\n",
              " 2183.0,\n",
              " 2183.0,\n",
              " 2183.0,\n",
              " 2183.0,\n",
              " 2183.0,\n",
              " 2182.0,\n",
              " 2182.0,\n",
              " 2182.0,\n",
              " 2182.0,\n",
              " 2182.0,\n",
              " 2182.0,\n",
              " 2182.0,\n",
              " 2182.0,\n",
              " 2181.0,\n",
              " 2181.0,\n",
              " 2181.0,\n",
              " 2181.0,\n",
              " 2180.0,\n",
              " 2180.0,\n",
              " 2179.0,\n",
              " 2179.0,\n",
              " 2179.0,\n",
              " 2179.0,\n",
              " 2179.0,\n",
              " 2179.0,\n",
              " 2179.0,\n",
              " 2179.0,\n",
              " 2179.0,\n",
              " 2177.0,\n",
              " 2177.0,\n",
              " 2177.0,\n",
              " 2176.0,\n",
              " 2176.0,\n",
              " 2176.0,\n",
              " 2176.0,\n",
              " 2176.0,\n",
              " 2176.0,\n",
              " 2176.0,\n",
              " 2176.0,\n",
              " 2176.0,\n",
              " 2175.0,\n",
              " 2175.0,\n",
              " 2175.0,\n",
              " 2175.0,\n",
              " 2175.0,\n",
              " 2175.0,\n",
              " 2175.0,\n",
              " 2175.0,\n",
              " 2175.0,\n",
              " 2174.0,\n",
              " 2174.0,\n",
              " 2174.0,\n",
              " 2174.0,\n",
              " 2174.0,\n",
              " 2174.0,\n",
              " 2174.0,\n",
              " 2174.0,\n",
              " 2174.0,\n",
              " 2174.0,\n",
              " 2173.0,\n",
              " 2173.0,\n",
              " 2173.0,\n",
              " 2173.0,\n",
              " 2173.0,\n",
              " 2173.0,\n",
              " 2173.0,\n",
              " 2173.0,\n",
              " 2173.0,\n",
              " 2173.0,\n",
              " 2173.0,\n",
              " 2173.0,\n",
              " 2173.0,\n",
              " 2173.0,\n",
              " 2173.0,\n",
              " 2173.0,\n",
              " 2173.0,\n",
              " 2173.0,\n",
              " 2172.0,\n",
              " 2172.0,\n",
              " 2172.0,\n",
              " 2172.0,\n",
              " 2172.0,\n",
              " 2172.0,\n",
              " 2172.0,\n",
              " 2172.0,\n",
              " 2172.0,\n",
              " 2172.0,\n",
              " 2172.0,\n",
              " 2171.0,\n",
              " 2171.0,\n",
              " 2171.0,\n",
              " 2171.0,\n",
              " 2171.0,\n",
              " 2171.0,\n",
              " 2171.0,\n",
              " 2171.0,\n",
              " 2171.0,\n",
              " 2171.0,\n",
              " 2171.0,\n",
              " 2171.0,\n",
              " 2170.0,\n",
              " 2170.0,\n",
              " 2170.0,\n",
              " 2170.0,\n",
              " 2170.0,\n",
              " 2170.0,\n",
              " 2170.0,\n",
              " 2169.0,\n",
              " 2169.0,\n",
              " 2169.0,\n",
              " 2169.0,\n",
              " 2169.0,\n",
              " 2169.0,\n",
              " 2169.0,\n",
              " 2169.0,\n",
              " 2168.0,\n",
              " 2168.0,\n",
              " 2168.0,\n",
              " 2168.0,\n",
              " 2168.0,\n",
              " 2168.0,\n",
              " 2168.0,\n",
              " 2168.0,\n",
              " 2168.0,\n",
              " 2168.0,\n",
              " 2168.0,\n",
              " 2168.0,\n",
              " 2168.0,\n",
              " 2168.0,\n",
              " 2167.0,\n",
              " 2167.0,\n",
              " 2167.0,\n",
              " 2167.0,\n",
              " 2167.0,\n",
              " 2167.0,\n",
              " 2167.0,\n",
              " 2167.0,\n",
              " 2167.0,\n",
              " 2167.0,\n",
              " 2167.0,\n",
              " 2167.0,\n",
              " 2167.0,\n",
              " 2167.0,\n",
              " 2167.0,\n",
              " 2166.0,\n",
              " 2166.0,\n",
              " 2166.0,\n",
              " 2166.0,\n",
              " 2166.0,\n",
              " 2166.0,\n",
              " 2166.0,\n",
              " 2166.0,\n",
              " 2166.0,\n",
              " 2166.0,\n",
              " 2166.0,\n",
              " 2166.0,\n",
              " 2166.0,\n",
              " 2166.0,\n",
              " 2165.0,\n",
              " 2165.0,\n",
              " 2165.0,\n",
              " 2165.0,\n",
              " 2165.0,\n",
              " 2165.0,\n",
              " 2165.0,\n",
              " 2165.0,\n",
              " 2165.0,\n",
              " 2165.0,\n",
              " 2165.0,\n",
              " 2165.0,\n",
              " 2165.0,\n",
              " 2165.0,\n",
              " 2165.0,\n",
              " 2165.0,\n",
              " 2165.0,\n",
              " 2164.0,\n",
              " 2164.0,\n",
              " 2164.0,\n",
              " 2164.0,\n",
              " 2164.0,\n",
              " 2164.0,\n",
              " 2164.0,\n",
              " 2164.0,\n",
              " 2164.0,\n",
              " 2164.0,\n",
              " 2164.0,\n",
              " 2164.0,\n",
              " 2164.0,\n",
              " 2164.0,\n",
              " 2164.0,\n",
              " 2164.0,\n",
              " 2163.0,\n",
              " 2163.0,\n",
              " 2163.0,\n",
              " 2163.0,\n",
              " 2163.0,\n",
              " 2163.0,\n",
              " 2163.0,\n",
              " 2163.0,\n",
              " 2163.0,\n",
              " 2163.0,\n",
              " 2163.0,\n",
              " 2163.0,\n",
              " 2163.0,\n",
              " 2162.0,\n",
              " 2162.0,\n",
              " 2162.0,\n",
              " 2162.0,\n",
              " 2162.0,\n",
              " 2162.0,\n",
              " 2162.0,\n",
              " 2162.0,\n",
              " 2162.0,\n",
              " 2162.0,\n",
              " 2162.0,\n",
              " 2162.0,\n",
              " 2162.0,\n",
              " 2162.0,\n",
              " 2162.0,\n",
              " 2162.0,\n",
              " 2162.0,\n",
              " 2162.0,\n",
              " 2161.0,\n",
              " 2161.0,\n",
              " 2161.0,\n",
              " 2161.0,\n",
              " 2161.0,\n",
              " 2161.0,\n",
              " 2160.0,\n",
              " 2160.0,\n",
              " 2160.0,\n",
              " 2160.0,\n",
              " 2159.0,\n",
              " 2159.0,\n",
              " 2159.0,\n",
              " 2159.0,\n",
              " 2158.0,\n",
              " 2158.0,\n",
              " 2157.0,\n",
              " 2157.0,\n",
              " 2157.0,\n",
              " 2157.0,\n",
              " 2157.0,\n",
              " 2156.0,\n",
              " 2156.0,\n",
              " 2155.0,\n",
              " 2154.0,\n",
              " 2153.0,\n",
              " 2152.0,\n",
              " 2152.0,\n",
              " 2152.0,\n",
              " 2152.0,\n",
              " 2152.0,\n",
              " 2152.0,\n",
              " 2152.0,\n",
              " 2152.0,\n",
              " 2151.0,\n",
              " 2151.0,\n",
              " 2151.0,\n",
              " 2151.0,\n",
              " 2151.0,\n",
              " 2150.0,\n",
              " 2150.0,\n",
              " 2150.0,\n",
              " 2150.0,\n",
              " 2150.0,\n",
              " 2150.0,\n",
              " 2150.0,\n",
              " 2150.0,\n",
              " 2150.0,\n",
              " 2149.0,\n",
              " 2149.0,\n",
              " 2149.0,\n",
              " 2149.0,\n",
              " 2149.0,\n",
              " 2148.0,\n",
              " 2148.0,\n",
              " 2148.0,\n",
              " 2148.0,\n",
              " 2148.0,\n",
              " 2148.0,\n",
              " 2148.0,\n",
              " 2148.0,\n",
              " 2148.0,\n",
              " 2148.0,\n",
              " 2148.0,\n",
              " 2147.0,\n",
              " 2147.0,\n",
              " 2147.0,\n",
              " 2147.0,\n",
              " 2147.0,\n",
              " 2147.0,\n",
              " 2147.0,\n",
              " 2147.0,\n",
              " 2147.0,\n",
              " 2146.0,\n",
              " 2146.0,\n",
              " 2146.0,\n",
              " 2146.0,\n",
              " 2146.0,\n",
              " 2146.0,\n",
              " 2146.0,\n",
              " 2146.0,\n",
              " 2146.0,\n",
              " 2146.0,\n",
              " 2145.0,\n",
              " 2145.0,\n",
              " 2145.0,\n",
              " 2145.0,\n",
              " 2145.0,\n",
              " 2145.0,\n",
              " 2145.0,\n",
              " 2145.0,\n",
              " 2144.0,\n",
              " 2144.0,\n",
              " 2144.0,\n",
              " 2144.0,\n",
              " 2144.0,\n",
              " 2144.0,\n",
              " 2144.0,\n",
              " 2144.0,\n",
              " 2144.0,\n",
              " 2144.0,\n",
              " 2144.0,\n",
              " 2144.0,\n",
              " 2143.0,\n",
              " 2143.0,\n",
              " 2143.0,\n",
              " 2143.0,\n",
              " 2143.0,\n",
              " 2142.0,\n",
              " 2142.0,\n",
              " 2141.0,\n",
              " 2141.0,\n",
              " 2141.0,\n",
              " 2141.0,\n",
              " 2141.0,\n",
              " 2140.0,\n",
              " 2140.0,\n",
              " 2140.0,\n",
              " 2140.0,\n",
              " 2139.0,\n",
              " 2139.0,\n",
              " 2139.0,\n",
              " 2137.0,\n",
              " 2137.0,\n",
              " 2137.0,\n",
              " 2137.0,\n",
              " 2137.0,\n",
              " 2137.0,\n",
              " 2136.0,\n",
              " 2136.0,\n",
              " 2136.0,\n",
              " 2135.0,\n",
              " 2135.0,\n",
              " 2135.0,\n",
              " 2135.0,\n",
              " 2135.0,\n",
              " 2134.0,\n",
              " 2134.0,\n",
              " 2134.0,\n",
              " 2134.0,\n",
              " 2134.0,\n",
              " 2133.0,\n",
              " 2133.0,\n",
              " 2133.0,\n",
              " 2133.0,\n",
              " 2133.0,\n",
              " 2132.0,\n",
              " 2132.0,\n",
              " 2132.0,\n",
              " 2132.0,\n",
              " 2132.0,\n",
              " 2131.0,\n",
              " 2131.0,\n",
              " 2131.0,\n",
              " 2131.0,\n",
              " 2131.0,\n",
              " 2131.0,\n",
              " 2130.0,\n",
              " 2130.0,\n",
              " 2130.0,\n",
              " 2130.0,\n",
              " 2130.0,\n",
              " 2130.0,\n",
              " 2129.0,\n",
              " 2129.0,\n",
              " 2129.0,\n",
              " 2129.0,\n",
              " 2129.0,\n",
              " 2129.0,\n",
              " 2129.0,\n",
              " 2129.0,\n",
              " 2128.0,\n",
              " 2128.0,\n",
              " 2128.0,\n",
              " 2128.0,\n",
              " 2128.0,\n",
              " 2128.0,\n",
              " 2127.0,\n",
              " 2127.0,\n",
              " 2127.0,\n",
              " 2127.0,\n",
              " 2127.0,\n",
              " 2126.0,\n",
              " 2126.0,\n",
              " 2126.0,\n",
              " 2126.0,\n",
              " 2126.0,\n",
              " 2125.0,\n",
              " 2125.0,\n",
              " 2125.0,\n",
              " 2125.0,\n",
              " 2125.0,\n",
              " 2124.0,\n",
              " 2124.0,\n",
              " 2124.0,\n",
              " 2124.0,\n",
              " 2123.0,\n",
              " 2123.0,\n",
              " 2122.0,\n",
              " 2122.0,\n",
              " 2122.0,\n",
              " 2122.0,\n",
              " 2122.0,\n",
              " 2122.0,\n",
              " 2121.0,\n",
              " 2121.0,\n",
              " 2121.0,\n",
              " 2121.0,\n",
              " 2121.0,\n",
              " 2121.0,\n",
              " 2121.0,\n",
              " 2120.0,\n",
              " 2120.0,\n",
              " 2120.0,\n",
              " 2120.0,\n",
              " 2120.0,\n",
              " 2120.0,\n",
              " 2120.0,\n",
              " 2119.0,\n",
              " 2119.0,\n",
              " 2118.0,\n",
              " 2118.0,\n",
              " 2118.0,\n",
              " 2118.0,\n",
              " 2118.0,\n",
              " 2118.0,\n",
              " 2118.0,\n",
              " 2118.0,\n",
              " 2117.0,\n",
              " 2117.0,\n",
              " 2117.0,\n",
              " 2116.0,\n",
              " 2116.0,\n",
              " 2116.0,\n",
              " 2115.0,\n",
              " 2115.0,\n",
              " 2115.0,\n",
              " 2115.0,\n",
              " 2115.0,\n",
              " 2115.0,\n",
              " 2115.0,\n",
              " 2115.0,\n",
              " 2114.0,\n",
              " 2114.0,\n",
              " 2114.0,\n",
              " 2114.0,\n",
              " 2114.0,\n",
              " 2114.0,\n",
              " 2113.0,\n",
              " 2113.0,\n",
              " 2113.0,\n",
              " 2113.0,\n",
              " 2113.0,\n",
              " 2112.0,\n",
              " 2112.0,\n",
              " 2112.0,\n",
              " 2112.0,\n",
              " 2112.0,\n",
              " 2112.0,\n",
              " 2111.0,\n",
              " 2111.0,\n",
              " 2111.0,\n",
              " 2110.0,\n",
              " 2110.0,\n",
              " 2110.0,\n",
              " 2110.0,\n",
              " 2110.0,\n",
              " 2110.0,\n",
              " 2110.0,\n",
              " 2109.0,\n",
              " 2109.0,\n",
              " 2109.0,\n",
              " 2109.0,\n",
              " 2109.0,\n",
              " 2109.0,\n",
              " 2108.0,\n",
              " 2108.0,\n",
              " 2108.0,\n",
              " 2108.0,\n",
              " 2108.0,\n",
              " 2107.0,\n",
              " 2107.0,\n",
              " 2107.0,\n",
              " 2107.0,\n",
              " 2107.0,\n",
              " 2106.0,\n",
              " 2106.0,\n",
              " 2106.0,\n",
              " 2105.0,\n",
              " 2105.0,\n",
              " 2104.0,\n",
              " 2104.0,\n",
              " 2102.0,\n",
              " 2102.0,\n",
              " 2102.0,\n",
              " 2102.0,\n",
              " 2102.0,\n",
              " 2102.0,\n",
              " 2101.0,\n",
              " 2100.0,\n",
              " 2099.0,\n",
              " 2099.0,\n",
              " 2099.0,\n",
              " 2098.0,\n",
              " 2098.0,\n",
              " 2097.0,\n",
              " 2096.0,\n",
              " 2095.0,\n",
              " 2095.0,\n",
              " 2095.0,\n",
              " 2094.0,\n",
              " 2094.0,\n",
              " 2093.0,\n",
              " 2092.0,\n",
              " 2092.0,\n",
              " 2092.0,\n",
              " 2092.0,\n",
              " 2091.0,\n",
              " 2091.0,\n",
              " 2091.0,\n",
              " 2091.0,\n",
              " 2090.0,\n",
              " 2089.0,\n",
              " 2089.0,\n",
              " 2089.0,\n",
              " 2086.0,\n",
              " 2086.0,\n",
              " 2086.0,\n",
              " 2086.0,\n",
              " 2086.0,\n",
              " 2086.0,\n",
              " 2085.0,\n",
              " 2085.0,\n",
              " 2083.0,\n",
              " 2083.0,\n",
              " 2083.0,\n",
              " 2082.0,\n",
              " 2082.0,\n",
              " 2082.0,\n",
              " 2081.0,\n",
              " 2081.0,\n",
              " 2081.0,\n",
              " 2081.0,\n",
              " 2080.0,\n",
              " 2080.0,\n",
              " 2080.0,\n",
              " 2080.0,\n",
              " 2080.0,\n",
              " 2080.0,\n",
              " 2079.0,\n",
              " 2079.0,\n",
              " 2079.0,\n",
              " 2079.0,\n",
              " 2078.0,\n",
              " 2078.0,\n",
              " 2078.0,\n",
              " 2078.0,\n",
              " 2078.0,\n",
              " 2077.0,\n",
              " 2077.0,\n",
              " 2077.0,\n",
              " 2076.0,\n",
              " 2076.0,\n",
              " 2076.0,\n",
              " 2076.0,\n",
              " 2076.0,\n",
              " 2076.0,\n",
              " 2076.0,\n",
              " 2075.0,\n",
              " 2074.0,\n",
              " 2074.0,\n",
              " 2074.0,\n",
              " 2074.0,\n",
              " 2074.0,\n",
              " 2074.0,\n",
              " 2074.0,\n",
              " 2073.0,\n",
              " 2073.0,\n",
              " 2073.0,\n",
              " 2073.0,\n",
              " 2073.0,\n",
              " 2073.0,\n",
              " 2073.0,\n",
              " 2073.0,\n",
              " 2072.0,\n",
              " 2072.0,\n",
              " 2072.0,\n",
              " 2072.0,\n",
              " 2071.0,\n",
              " 2071.0,\n",
              " 2070.0,\n",
              " 2070.0,\n",
              " 2070.0,\n",
              " 2070.0,\n",
              " 2069.0,\n",
              " 2069.0,\n",
              " 2069.0,\n",
              " 2069.0,\n",
              " 2069.0,\n",
              " 2069.0,\n",
              " 2068.0,\n",
              " 2067.0,\n",
              " 2067.0,\n",
              " 2067.0,\n",
              " 2067.0,\n",
              " 2066.0,\n",
              " 2066.0,\n",
              " 2066.0,\n",
              " 2066.0,\n",
              " 2066.0,\n",
              " 2066.0,\n",
              " 2065.0,\n",
              " 2065.0,\n",
              " 2064.0,\n",
              " 2064.0,\n",
              " 2064.0,\n",
              " 2064.0,\n",
              " 2063.0,\n",
              " 2063.0,\n",
              " 2062.0,\n",
              " 2062.0,\n",
              " 2061.0,\n",
              " 2061.0,\n",
              " 2061.0,\n",
              " 2061.0,\n",
              " 2061.0,\n",
              " 2061.0,\n",
              " 2061.0,\n",
              " 2061.0,\n",
              " 2060.0,\n",
              " 2060.0,\n",
              " 2060.0,\n",
              " 2060.0,\n",
              " 2060.0,\n",
              " 2060.0,\n",
              " 2059.0,\n",
              " 2059.0,\n",
              " 2059.0,\n",
              " 2059.0,\n",
              " 2059.0,\n",
              " 2059.0,\n",
              " 2059.0,\n",
              " 2059.0,\n",
              " 2058.0,\n",
              " 2058.0,\n",
              " 2058.0,\n",
              " 2058.0,\n",
              " 2058.0,\n",
              " 2058.0,\n",
              " 2058.0,\n",
              " 2057.0,\n",
              " 2056.0,\n",
              " 2056.0,\n",
              " 2056.0,\n",
              " 2056.0,\n",
              " 2056.0,\n",
              " 2056.0,\n",
              " 2056.0,\n",
              " 2056.0,\n",
              " 2056.0,\n",
              " 2056.0,\n",
              " 2055.0,\n",
              " 2055.0,\n",
              " 2055.0,\n",
              " 2055.0,\n",
              " 2055.0,\n",
              " 2055.0,\n",
              " 2055.0,\n",
              " 2055.0,\n",
              " 2055.0,\n",
              " 2055.0,\n",
              " 2055.0,\n",
              " 2054.0,\n",
              " 2054.0,\n",
              " 2054.0,\n",
              " 2054.0,\n",
              " 2054.0,\n",
              " 2054.0,\n",
              " 2054.0,\n",
              " 2054.0,\n",
              " 2054.0,\n",
              " 2054.0,\n",
              " 2054.0,\n",
              " 2054.0,\n",
              " 2054.0,\n",
              " 2054.0,\n",
              " 2054.0,\n",
              " 2053.0,\n",
              " 2053.0,\n",
              " 2053.0,\n",
              " 2053.0,\n",
              " 2052.0,\n",
              " 2052.0,\n",
              " 2051.0,\n",
              " 2051.0,\n",
              " 2051.0,\n",
              " 2051.0,\n",
              " 2050.0,\n",
              " 2050.0,\n",
              " 2049.0,\n",
              " 2049.0,\n",
              " 2049.0,\n",
              " 2049.0,\n",
              " 2048.0,\n",
              " 2048.0,\n",
              " 2048.0,\n",
              " 2048.0,\n",
              " 2048.0,\n",
              " 2047.0,\n",
              " 2047.0,\n",
              " 2047.0,\n",
              " 2047.0,\n",
              " 2047.0,\n",
              " 2047.0,\n",
              " 2047.0,\n",
              " 2047.0,\n",
              " 2047.0,\n",
              " 2047.0,\n",
              " 2046.0,\n",
              " 2046.0,\n",
              " 2046.0,\n",
              " 2046.0,\n",
              " 2046.0,\n",
              " 2046.0,\n",
              " 2046.0,\n",
              " 2046.0,\n",
              " 2046.0,\n",
              " 2045.0,\n",
              " 2045.0,\n",
              " 2045.0,\n",
              " 2045.0,\n",
              " 2045.0,\n",
              " 2045.0,\n",
              " 2045.0,\n",
              " 2045.0,\n",
              " 2045.0,\n",
              " 2045.0,\n",
              " 2045.0,\n",
              " 2044.0,\n",
              " 2044.0,\n",
              " 2044.0,\n",
              " 2044.0,\n",
              " 2044.0,\n",
              " 2044.0,\n",
              " 2044.0,\n",
              " 2044.0,\n",
              " 2044.0,\n",
              " 2044.0,\n",
              " 2043.0,\n",
              " 2043.0,\n",
              " 2043.0,\n",
              " 2043.0,\n",
              " 2043.0,\n",
              " 2043.0,\n",
              " 2043.0,\n",
              " 2043.0,\n",
              " 2043.0,\n",
              " 2043.0,\n",
              " 2043.0,\n",
              " 2042.0,\n",
              " 2042.0,\n",
              " 2042.0,\n",
              " 2042.0,\n",
              " 2042.0,\n",
              " 2042.0,\n",
              " 2042.0,\n",
              " 2042.0,\n",
              " 2041.0,\n",
              " 2041.0,\n",
              " 2041.0,\n",
              " 2041.0,\n",
              " 2041.0,\n",
              " 2041.0,\n",
              " 2041.0,\n",
              " 2041.0,\n",
              " 2041.0,\n",
              " 2041.0,\n",
              " 2041.0,\n",
              " 2041.0,\n",
              " 2040.0,\n",
              " 2040.0,\n",
              " 2040.0,\n",
              " 2040.0,\n",
              " 2040.0,\n",
              " 2040.0,\n",
              " 2040.0,\n",
              " 2040.0,\n",
              " 2040.0,\n",
              " 2040.0,\n",
              " 2040.0,\n",
              " 2040.0,\n",
              " 2040.0,\n",
              " 2040.0,\n",
              " 2039.0,\n",
              " 2039.0,\n",
              " 2039.0,\n",
              " 2039.0,\n",
              " 2039.0,\n",
              " 2039.0,\n",
              " 2039.0,\n",
              " 2039.0,\n",
              " 2039.0,\n",
              " 2039.0,\n",
              " 2039.0,\n",
              " 2038.0,\n",
              " 2038.0,\n",
              " 2038.0,\n",
              " 2038.0,\n",
              " 2038.0,\n",
              " 2038.0,\n",
              " 2038.0,\n",
              " 2038.0,\n",
              " 2038.0,\n",
              " 2038.0,\n",
              " 2038.0,\n",
              " 2038.0,\n",
              " 2037.0,\n",
              " 2037.0,\n",
              " 2037.0,\n",
              " 2037.0,\n",
              " 2037.0,\n",
              " 2037.0,\n",
              " 2037.0,\n",
              " 2037.0,\n",
              " 2037.0,\n",
              " 2036.0,\n",
              " 2036.0,\n",
              " 2036.0,\n",
              " 2036.0,\n",
              " 2036.0,\n",
              " 2036.0,\n",
              " 2035.0,\n",
              " 2035.0,\n",
              " 2035.0,\n",
              " 2035.0,\n",
              " 2035.0,\n",
              " 2035.0,\n",
              " 2035.0,\n",
              " 2035.0,\n",
              " 2035.0,\n",
              " 2035.0,\n",
              " 2035.0,\n",
              " 2034.0,\n",
              " 2034.0,\n",
              " 2034.0,\n",
              " 2033.0,\n",
              " 2033.0,\n",
              " 2033.0,\n",
              " 2033.0,\n",
              " 2032.0,\n",
              " 2032.0,\n",
              " 2032.0,\n",
              " 2032.0,\n",
              " 2031.0,\n",
              " 2031.0,\n",
              " 2031.0,\n",
              " 2030.0,\n",
              " 2030.0,\n",
              " 2030.0,\n",
              " 2030.0,\n",
              " 2030.0,\n",
              " 2029.0,\n",
              " 2029.0,\n",
              " 2029.0,\n",
              " 2029.0,\n",
              " 2029.0,\n",
              " 2028.0,\n",
              " 2028.0,\n",
              " 2028.0,\n",
              " 2028.0,\n",
              " 2028.0,\n",
              " 2028.0,\n",
              " 2028.0,\n",
              " 2027.0,\n",
              " 2027.0,\n",
              " 2027.0,\n",
              " 2027.0,\n",
              " 2026.0,\n",
              " 2026.0,\n",
              " 2026.0,\n",
              " 2026.0,\n",
              " 2026.0,\n",
              " 2026.0,\n",
              " 2026.0,\n",
              " 2026.0,\n",
              " 2025.0,\n",
              " 2025.0,\n",
              " 2025.0,\n",
              " 2025.0,\n",
              " 2025.0,\n",
              " 2024.0,\n",
              " 2024.0,\n",
              " 2024.0,\n",
              " 2024.0,\n",
              " 2024.0,\n",
              " 2024.0,\n",
              " 2024.0,\n",
              " 2023.0,\n",
              " 2023.0,\n",
              " 2023.0,\n",
              " 2022.0,\n",
              " 2022.0,\n",
              " 2022.0,\n",
              " 2022.0,\n",
              " 2022.0,\n",
              " 2022.0,\n",
              " 2022.0,\n",
              " 2022.0,\n",
              " 2021.0,\n",
              " 2021.0,\n",
              " 2021.0,\n",
              " 2021.0,\n",
              " 2021.0,\n",
              " 2021.0,\n",
              " 2021.0,\n",
              " 2020.0,\n",
              " 2020.0,\n",
              " 2020.0,\n",
              " 2020.0,\n",
              " 2020.0,\n",
              " 2020.0,\n",
              " ...]"
            ]
          },
          "metadata": {},
          "execution_count": 95
        }
      ]
    },
    {
      "cell_type": "code",
      "source": [
        "len(train_data['label'].where(train_data['specimen']==1).dropna())"
      ],
      "metadata": {
        "colab": {
          "base_uri": "https://localhost:8080/"
        },
        "id": "P5QBogT8YkmE",
        "outputId": "aa46a48b-2703-42e2-d33b-11b5f8684c1a"
      },
      "execution_count": null,
      "outputs": [
        {
          "output_type": "execute_result",
          "data": {
            "text/plain": [
              "94899"
            ]
          },
          "metadata": {},
          "execution_count": 88
        }
      ]
    },
    {
      "cell_type": "code",
      "source": [
        "temp_train_targets=list(temp_train_targets)\n"
      ],
      "metadata": {
        "id": "jfkWfnt4XOzN"
      },
      "execution_count": null,
      "outputs": []
    },
    {
      "cell_type": "code",
      "source": [
        "temp_train_targets"
      ],
      "metadata": {
        "colab": {
          "base_uri": "https://localhost:8080/"
        },
        "id": "OBxUs_vNbMvO",
        "outputId": "72e9f83b-ab0f-471c-df1f-06be7143cc19"
      },
      "execution_count": null,
      "outputs": [
        {
          "output_type": "execute_result",
          "data": {
            "text/plain": [
              "[2191.0,\n",
              " 2191.0,\n",
              " 2191.0,\n",
              " 2191.0,\n",
              " 2191.0,\n",
              " 2191.0,\n",
              " 2191.0,\n",
              " 2191.0,\n",
              " 2191.0,\n",
              " 2191.0,\n",
              " 2191.0,\n",
              " 2191.0,\n",
              " 2191.0,\n",
              " 2191.0,\n",
              " 2191.0,\n",
              " 2191.0,\n",
              " 2190.0,\n",
              " 2190.0,\n",
              " 2190.0,\n",
              " 2190.0,\n",
              " 2190.0,\n",
              " 2190.0,\n",
              " 2190.0,\n",
              " 2190.0,\n",
              " 2190.0,\n",
              " 2190.0,\n",
              " 2189.0,\n",
              " 2189.0,\n",
              " 2189.0,\n",
              " 2189.0,\n",
              " 2189.0,\n",
              " 2189.0,\n",
              " 2189.0,\n",
              " 2189.0,\n",
              " 2189.0,\n",
              " 2189.0,\n",
              " 2189.0,\n",
              " 2188.0,\n",
              " 2188.0,\n",
              " 2188.0,\n",
              " 2188.0,\n",
              " 2188.0,\n",
              " 2187.0,\n",
              " 2187.0,\n",
              " 2187.0,\n",
              " 2187.0,\n",
              " 2186.0,\n",
              " 2186.0,\n",
              " 2185.0,\n",
              " 2185.0,\n",
              " 2185.0,\n",
              " 2185.0,\n",
              " 2185.0,\n",
              " 2184.0,\n",
              " 2184.0,\n",
              " 2184.0,\n",
              " 2183.0,\n",
              " 2183.0,\n",
              " 2183.0,\n",
              " 2183.0,\n",
              " 2183.0,\n",
              " 2183.0,\n",
              " 2182.0,\n",
              " 2182.0,\n",
              " 2182.0,\n",
              " 2182.0,\n",
              " 2182.0,\n",
              " 2182.0,\n",
              " 2182.0,\n",
              " 2182.0,\n",
              " 2181.0,\n",
              " 2181.0,\n",
              " 2181.0,\n",
              " 2181.0,\n",
              " 2180.0,\n",
              " 2180.0,\n",
              " 2179.0,\n",
              " 2179.0,\n",
              " 2179.0,\n",
              " 2179.0,\n",
              " 2179.0,\n",
              " 2179.0,\n",
              " 2179.0,\n",
              " 2179.0,\n",
              " 2179.0,\n",
              " 2177.0,\n",
              " 2177.0,\n",
              " 2177.0,\n",
              " 2176.0,\n",
              " 2176.0,\n",
              " 2176.0,\n",
              " 2176.0,\n",
              " 2176.0,\n",
              " 2176.0,\n",
              " 2176.0,\n",
              " 2176.0,\n",
              " 2176.0,\n",
              " 2175.0,\n",
              " 2175.0,\n",
              " 2175.0,\n",
              " 2175.0,\n",
              " 2175.0,\n",
              " 2175.0,\n",
              " 2175.0,\n",
              " 2175.0,\n",
              " 2175.0,\n",
              " 2174.0,\n",
              " 2174.0,\n",
              " 2174.0,\n",
              " 2174.0,\n",
              " 2174.0,\n",
              " 2174.0,\n",
              " 2174.0,\n",
              " 2174.0,\n",
              " 2174.0,\n",
              " 2174.0,\n",
              " 2173.0,\n",
              " 2173.0,\n",
              " 2173.0,\n",
              " 2173.0,\n",
              " 2173.0,\n",
              " 2173.0,\n",
              " 2173.0,\n",
              " 2173.0,\n",
              " 2173.0,\n",
              " 2173.0,\n",
              " 2173.0,\n",
              " 2173.0,\n",
              " 2173.0,\n",
              " 2173.0,\n",
              " 2173.0,\n",
              " 2173.0,\n",
              " 2173.0,\n",
              " 2173.0,\n",
              " 2172.0,\n",
              " 2172.0,\n",
              " 2172.0,\n",
              " 2172.0,\n",
              " 2172.0,\n",
              " 2172.0,\n",
              " 2172.0,\n",
              " 2172.0,\n",
              " 2172.0,\n",
              " 2172.0,\n",
              " 2172.0,\n",
              " 2171.0,\n",
              " 2171.0,\n",
              " 2171.0,\n",
              " 2171.0,\n",
              " 2171.0,\n",
              " 2171.0,\n",
              " 2171.0,\n",
              " 2171.0,\n",
              " 2171.0,\n",
              " 2171.0,\n",
              " 2171.0,\n",
              " 2171.0,\n",
              " 2170.0,\n",
              " 2170.0,\n",
              " 2170.0,\n",
              " 2170.0,\n",
              " 2170.0,\n",
              " 2170.0,\n",
              " 2170.0,\n",
              " 2169.0,\n",
              " 2169.0,\n",
              " 2169.0,\n",
              " 2169.0,\n",
              " 2169.0,\n",
              " 2169.0,\n",
              " 2169.0,\n",
              " 2169.0,\n",
              " 2168.0,\n",
              " 2168.0,\n",
              " 2168.0,\n",
              " 2168.0,\n",
              " 2168.0,\n",
              " 2168.0,\n",
              " 2168.0,\n",
              " 2168.0,\n",
              " 2168.0,\n",
              " 2168.0,\n",
              " 2168.0,\n",
              " 2168.0,\n",
              " 2168.0,\n",
              " 2168.0,\n",
              " 2167.0,\n",
              " 2167.0,\n",
              " 2167.0,\n",
              " 2167.0,\n",
              " 2167.0,\n",
              " 2167.0,\n",
              " 2167.0,\n",
              " 2167.0,\n",
              " 2167.0,\n",
              " 2167.0,\n",
              " 2167.0,\n",
              " 2167.0,\n",
              " 2167.0,\n",
              " 2167.0,\n",
              " 2167.0,\n",
              " 2166.0,\n",
              " 2166.0,\n",
              " 2166.0,\n",
              " 2166.0,\n",
              " 2166.0,\n",
              " 2166.0,\n",
              " 2166.0,\n",
              " 2166.0,\n",
              " 2166.0,\n",
              " 2166.0,\n",
              " 2166.0,\n",
              " 2166.0,\n",
              " 2166.0,\n",
              " 2166.0,\n",
              " 2165.0,\n",
              " 2165.0,\n",
              " 2165.0,\n",
              " 2165.0,\n",
              " 2165.0,\n",
              " 2165.0,\n",
              " 2165.0,\n",
              " 2165.0,\n",
              " 2165.0,\n",
              " 2165.0,\n",
              " 2165.0,\n",
              " 2165.0,\n",
              " 2165.0,\n",
              " 2165.0,\n",
              " 2165.0,\n",
              " 2165.0,\n",
              " 2165.0,\n",
              " 2164.0,\n",
              " 2164.0,\n",
              " 2164.0,\n",
              " 2164.0,\n",
              " 2164.0,\n",
              " 2164.0,\n",
              " 2164.0,\n",
              " 2164.0,\n",
              " 2164.0,\n",
              " 2164.0,\n",
              " 2164.0,\n",
              " 2164.0,\n",
              " 2164.0,\n",
              " 2164.0,\n",
              " 2164.0,\n",
              " 2164.0,\n",
              " 2163.0,\n",
              " 2163.0,\n",
              " 2163.0,\n",
              " 2163.0,\n",
              " 2163.0,\n",
              " 2163.0,\n",
              " 2163.0,\n",
              " 2163.0,\n",
              " 2163.0,\n",
              " 2163.0,\n",
              " 2163.0,\n",
              " 2163.0,\n",
              " 2163.0,\n",
              " 2162.0,\n",
              " 2162.0,\n",
              " 2162.0,\n",
              " 2162.0,\n",
              " 2162.0,\n",
              " 2162.0,\n",
              " 2162.0,\n",
              " 2162.0,\n",
              " 2162.0,\n",
              " 2162.0,\n",
              " 2162.0,\n",
              " 2162.0,\n",
              " 2162.0,\n",
              " 2162.0,\n",
              " 2162.0,\n",
              " 2162.0,\n",
              " 2162.0,\n",
              " 2162.0,\n",
              " 2161.0,\n",
              " 2161.0,\n",
              " 2161.0,\n",
              " 2161.0,\n",
              " 2161.0,\n",
              " 2161.0,\n",
              " 2160.0,\n",
              " 2160.0,\n",
              " 2160.0,\n",
              " 2160.0,\n",
              " 2159.0,\n",
              " 2159.0,\n",
              " 2159.0,\n",
              " 2159.0,\n",
              " 2158.0,\n",
              " 2158.0,\n",
              " 2157.0,\n",
              " 2157.0,\n",
              " 2157.0,\n",
              " 2157.0,\n",
              " 2157.0,\n",
              " 2156.0,\n",
              " 2156.0,\n",
              " 2155.0,\n",
              " 2154.0,\n",
              " 2153.0,\n",
              " 2152.0,\n",
              " 2152.0,\n",
              " 2152.0,\n",
              " 2152.0,\n",
              " 2152.0,\n",
              " 2152.0,\n",
              " 2152.0,\n",
              " 2152.0,\n",
              " 2151.0,\n",
              " 2151.0,\n",
              " 2151.0,\n",
              " 2151.0,\n",
              " 2151.0,\n",
              " 2150.0,\n",
              " 2150.0,\n",
              " 2150.0,\n",
              " 2150.0,\n",
              " 2150.0,\n",
              " 2150.0,\n",
              " 2150.0,\n",
              " 2150.0,\n",
              " 2150.0,\n",
              " 2149.0,\n",
              " 2149.0,\n",
              " 2149.0,\n",
              " 2149.0,\n",
              " 2149.0,\n",
              " 2148.0,\n",
              " 2148.0,\n",
              " 2148.0,\n",
              " 2148.0,\n",
              " 2148.0,\n",
              " 2148.0,\n",
              " 2148.0,\n",
              " 2148.0,\n",
              " 2148.0,\n",
              " 2148.0,\n",
              " 2148.0,\n",
              " 2147.0,\n",
              " 2147.0,\n",
              " 2147.0,\n",
              " 2147.0,\n",
              " 2147.0,\n",
              " 2147.0,\n",
              " 2147.0,\n",
              " 2147.0,\n",
              " 2147.0,\n",
              " 2146.0,\n",
              " 2146.0,\n",
              " 2146.0,\n",
              " 2146.0,\n",
              " 2146.0,\n",
              " 2146.0,\n",
              " 2146.0,\n",
              " 2146.0,\n",
              " 2146.0,\n",
              " 2146.0,\n",
              " 2145.0,\n",
              " 2145.0,\n",
              " 2145.0,\n",
              " 2145.0,\n",
              " 2145.0,\n",
              " 2145.0,\n",
              " 2145.0,\n",
              " 2145.0,\n",
              " 2144.0,\n",
              " 2144.0,\n",
              " 2144.0,\n",
              " 2144.0,\n",
              " 2144.0,\n",
              " 2144.0,\n",
              " 2144.0,\n",
              " 2144.0,\n",
              " 2144.0,\n",
              " 2144.0,\n",
              " 2144.0,\n",
              " 2144.0,\n",
              " 2143.0,\n",
              " 2143.0,\n",
              " 2143.0,\n",
              " 2143.0,\n",
              " 2143.0,\n",
              " 2142.0,\n",
              " 2142.0,\n",
              " 2141.0,\n",
              " 2141.0,\n",
              " 2141.0,\n",
              " 2141.0,\n",
              " 2141.0,\n",
              " 2140.0,\n",
              " 2140.0,\n",
              " 2140.0,\n",
              " 2140.0,\n",
              " 2139.0,\n",
              " 2139.0,\n",
              " 2139.0,\n",
              " 2137.0,\n",
              " 2137.0,\n",
              " 2137.0,\n",
              " 2137.0,\n",
              " 2137.0,\n",
              " 2137.0,\n",
              " 2136.0,\n",
              " 2136.0,\n",
              " 2136.0,\n",
              " 2135.0,\n",
              " 2135.0,\n",
              " 2135.0,\n",
              " 2135.0,\n",
              " 2135.0,\n",
              " 2134.0,\n",
              " 2134.0,\n",
              " 2134.0,\n",
              " 2134.0,\n",
              " 2134.0,\n",
              " 2133.0,\n",
              " 2133.0,\n",
              " 2133.0,\n",
              " 2133.0,\n",
              " 2133.0,\n",
              " 2132.0,\n",
              " 2132.0,\n",
              " 2132.0,\n",
              " 2132.0,\n",
              " 2132.0,\n",
              " 2131.0,\n",
              " 2131.0,\n",
              " 2131.0,\n",
              " 2131.0,\n",
              " 2131.0,\n",
              " 2131.0,\n",
              " 2130.0,\n",
              " 2130.0,\n",
              " 2130.0,\n",
              " 2130.0,\n",
              " 2130.0,\n",
              " 2130.0,\n",
              " 2129.0,\n",
              " 2129.0,\n",
              " 2129.0,\n",
              " 2129.0,\n",
              " 2129.0,\n",
              " 2129.0,\n",
              " 2129.0,\n",
              " 2129.0,\n",
              " 2128.0,\n",
              " 2128.0,\n",
              " 2128.0,\n",
              " 2128.0,\n",
              " 2128.0,\n",
              " 2128.0,\n",
              " 2127.0,\n",
              " 2127.0,\n",
              " 2127.0,\n",
              " 2127.0,\n",
              " 2127.0,\n",
              " 2126.0,\n",
              " 2126.0,\n",
              " 2126.0,\n",
              " 2126.0,\n",
              " 2126.0,\n",
              " 2125.0,\n",
              " 2125.0,\n",
              " 2125.0,\n",
              " 2125.0,\n",
              " 2125.0,\n",
              " 2124.0,\n",
              " 2124.0,\n",
              " 2124.0,\n",
              " 2124.0,\n",
              " 2123.0,\n",
              " 2123.0,\n",
              " 2122.0,\n",
              " 2122.0,\n",
              " 2122.0,\n",
              " 2122.0,\n",
              " 2122.0,\n",
              " 2122.0,\n",
              " 2121.0,\n",
              " 2121.0,\n",
              " 2121.0,\n",
              " 2121.0,\n",
              " 2121.0,\n",
              " 2121.0,\n",
              " 2121.0,\n",
              " 2120.0,\n",
              " 2120.0,\n",
              " 2120.0,\n",
              " 2120.0,\n",
              " 2120.0,\n",
              " 2120.0,\n",
              " 2120.0,\n",
              " 2119.0,\n",
              " 2119.0,\n",
              " 2118.0,\n",
              " 2118.0,\n",
              " 2118.0,\n",
              " 2118.0,\n",
              " 2118.0,\n",
              " 2118.0,\n",
              " 2118.0,\n",
              " 2118.0,\n",
              " 2117.0,\n",
              " 2117.0,\n",
              " 2117.0,\n",
              " 2116.0,\n",
              " 2116.0,\n",
              " 2116.0,\n",
              " 2115.0,\n",
              " 2115.0,\n",
              " 2115.0,\n",
              " 2115.0,\n",
              " 2115.0,\n",
              " 2115.0,\n",
              " 2115.0,\n",
              " 2115.0,\n",
              " 2114.0,\n",
              " 2114.0,\n",
              " 2114.0,\n",
              " 2114.0,\n",
              " 2114.0,\n",
              " 2114.0,\n",
              " 2113.0,\n",
              " 2113.0,\n",
              " 2113.0,\n",
              " 2113.0,\n",
              " 2113.0,\n",
              " 2112.0,\n",
              " 2112.0,\n",
              " 2112.0,\n",
              " 2112.0,\n",
              " 2112.0,\n",
              " 2112.0,\n",
              " 2111.0,\n",
              " 2111.0,\n",
              " 2111.0,\n",
              " 2110.0,\n",
              " 2110.0,\n",
              " 2110.0,\n",
              " 2110.0,\n",
              " 2110.0,\n",
              " 2110.0,\n",
              " 2110.0,\n",
              " 2109.0,\n",
              " 2109.0,\n",
              " 2109.0,\n",
              " 2109.0,\n",
              " 2109.0,\n",
              " 2109.0,\n",
              " 2108.0,\n",
              " 2108.0,\n",
              " 2108.0,\n",
              " 2108.0,\n",
              " 2108.0,\n",
              " 2107.0,\n",
              " 2107.0,\n",
              " 2107.0,\n",
              " 2107.0,\n",
              " 2107.0,\n",
              " 2106.0,\n",
              " 2106.0,\n",
              " 2106.0,\n",
              " 2105.0,\n",
              " 2105.0,\n",
              " 2104.0,\n",
              " 2104.0,\n",
              " 2102.0,\n",
              " 2102.0,\n",
              " 2102.0,\n",
              " 2102.0,\n",
              " 2102.0,\n",
              " 2102.0,\n",
              " 2101.0,\n",
              " 2100.0,\n",
              " 2099.0,\n",
              " 2099.0,\n",
              " 2099.0,\n",
              " 2098.0,\n",
              " 2098.0,\n",
              " 2097.0,\n",
              " 2096.0,\n",
              " 2095.0,\n",
              " 2095.0,\n",
              " 2095.0,\n",
              " 2094.0,\n",
              " 2094.0,\n",
              " 2093.0,\n",
              " 2092.0,\n",
              " 2092.0,\n",
              " 2092.0,\n",
              " 2092.0,\n",
              " 2091.0,\n",
              " 2091.0,\n",
              " 2091.0,\n",
              " 2091.0,\n",
              " 2090.0,\n",
              " 2089.0,\n",
              " 2089.0,\n",
              " 2089.0,\n",
              " 2086.0,\n",
              " 2086.0,\n",
              " 2086.0,\n",
              " 2086.0,\n",
              " 2086.0,\n",
              " 2086.0,\n",
              " 2085.0,\n",
              " 2085.0,\n",
              " 2083.0,\n",
              " 2083.0,\n",
              " 2083.0,\n",
              " 2082.0,\n",
              " 2082.0,\n",
              " 2082.0,\n",
              " 2081.0,\n",
              " 2081.0,\n",
              " 2081.0,\n",
              " 2081.0,\n",
              " 2080.0,\n",
              " 2080.0,\n",
              " 2080.0,\n",
              " 2080.0,\n",
              " 2080.0,\n",
              " 2080.0,\n",
              " 2079.0,\n",
              " 2079.0,\n",
              " 2079.0,\n",
              " 2079.0,\n",
              " 2078.0,\n",
              " 2078.0,\n",
              " 2078.0,\n",
              " 2078.0,\n",
              " 2078.0,\n",
              " 2077.0,\n",
              " 2077.0,\n",
              " 2077.0,\n",
              " 2076.0,\n",
              " 2076.0,\n",
              " 2076.0,\n",
              " 2076.0,\n",
              " 2076.0,\n",
              " 2076.0,\n",
              " 2076.0,\n",
              " 2075.0,\n",
              " 2074.0,\n",
              " 2074.0,\n",
              " 2074.0,\n",
              " 2074.0,\n",
              " 2074.0,\n",
              " 2074.0,\n",
              " 2074.0,\n",
              " 2073.0,\n",
              " 2073.0,\n",
              " 2073.0,\n",
              " 2073.0,\n",
              " 2073.0,\n",
              " 2073.0,\n",
              " 2073.0,\n",
              " 2073.0,\n",
              " 2072.0,\n",
              " 2072.0,\n",
              " 2072.0,\n",
              " 2072.0,\n",
              " 2071.0,\n",
              " 2071.0,\n",
              " 2070.0,\n",
              " 2070.0,\n",
              " 2070.0,\n",
              " 2070.0,\n",
              " 2069.0,\n",
              " 2069.0,\n",
              " 2069.0,\n",
              " 2069.0,\n",
              " 2069.0,\n",
              " 2069.0,\n",
              " 2068.0,\n",
              " 2067.0,\n",
              " 2067.0,\n",
              " 2067.0,\n",
              " 2067.0,\n",
              " 2066.0,\n",
              " 2066.0,\n",
              " 2066.0,\n",
              " 2066.0,\n",
              " 2066.0,\n",
              " 2066.0,\n",
              " 2065.0,\n",
              " 2065.0,\n",
              " 2064.0,\n",
              " 2064.0,\n",
              " 2064.0,\n",
              " 2064.0,\n",
              " 2063.0,\n",
              " 2063.0,\n",
              " 2062.0,\n",
              " 2062.0,\n",
              " 2061.0,\n",
              " 2061.0,\n",
              " 2061.0,\n",
              " 2061.0,\n",
              " 2061.0,\n",
              " 2061.0,\n",
              " 2061.0,\n",
              " 2061.0,\n",
              " 2060.0,\n",
              " 2060.0,\n",
              " 2060.0,\n",
              " 2060.0,\n",
              " 2060.0,\n",
              " 2060.0,\n",
              " 2059.0,\n",
              " 2059.0,\n",
              " 2059.0,\n",
              " 2059.0,\n",
              " 2059.0,\n",
              " 2059.0,\n",
              " 2059.0,\n",
              " 2059.0,\n",
              " 2058.0,\n",
              " 2058.0,\n",
              " 2058.0,\n",
              " 2058.0,\n",
              " 2058.0,\n",
              " 2058.0,\n",
              " 2058.0,\n",
              " 2057.0,\n",
              " 2056.0,\n",
              " 2056.0,\n",
              " 2056.0,\n",
              " 2056.0,\n",
              " 2056.0,\n",
              " 2056.0,\n",
              " 2056.0,\n",
              " 2056.0,\n",
              " 2056.0,\n",
              " 2056.0,\n",
              " 2055.0,\n",
              " 2055.0,\n",
              " 2055.0,\n",
              " 2055.0,\n",
              " 2055.0,\n",
              " 2055.0,\n",
              " 2055.0,\n",
              " 2055.0,\n",
              " 2055.0,\n",
              " 2055.0,\n",
              " 2055.0,\n",
              " 2054.0,\n",
              " 2054.0,\n",
              " 2054.0,\n",
              " 2054.0,\n",
              " 2054.0,\n",
              " 2054.0,\n",
              " 2054.0,\n",
              " 2054.0,\n",
              " 2054.0,\n",
              " 2054.0,\n",
              " 2054.0,\n",
              " 2054.0,\n",
              " 2054.0,\n",
              " 2054.0,\n",
              " 2054.0,\n",
              " 2053.0,\n",
              " 2053.0,\n",
              " 2053.0,\n",
              " 2053.0,\n",
              " 2052.0,\n",
              " 2052.0,\n",
              " 2051.0,\n",
              " 2051.0,\n",
              " 2051.0,\n",
              " 2051.0,\n",
              " 2050.0,\n",
              " 2050.0,\n",
              " 2049.0,\n",
              " 2049.0,\n",
              " 2049.0,\n",
              " 2049.0,\n",
              " 2048.0,\n",
              " 2048.0,\n",
              " 2048.0,\n",
              " 2048.0,\n",
              " 2048.0,\n",
              " 2047.0,\n",
              " 2047.0,\n",
              " 2047.0,\n",
              " 2047.0,\n",
              " 2047.0,\n",
              " 2047.0,\n",
              " 2047.0,\n",
              " 2047.0,\n",
              " 2047.0,\n",
              " 2047.0,\n",
              " 2046.0,\n",
              " 2046.0,\n",
              " 2046.0,\n",
              " 2046.0,\n",
              " 2046.0,\n",
              " 2046.0,\n",
              " 2046.0,\n",
              " 2046.0,\n",
              " 2046.0,\n",
              " 2045.0,\n",
              " 2045.0,\n",
              " 2045.0,\n",
              " 2045.0,\n",
              " 2045.0,\n",
              " 2045.0,\n",
              " 2045.0,\n",
              " 2045.0,\n",
              " 2045.0,\n",
              " 2045.0,\n",
              " 2045.0,\n",
              " 2044.0,\n",
              " 2044.0,\n",
              " 2044.0,\n",
              " 2044.0,\n",
              " 2044.0,\n",
              " 2044.0,\n",
              " 2044.0,\n",
              " 2044.0,\n",
              " 2044.0,\n",
              " 2044.0,\n",
              " 2043.0,\n",
              " 2043.0,\n",
              " 2043.0,\n",
              " 2043.0,\n",
              " 2043.0,\n",
              " 2043.0,\n",
              " 2043.0,\n",
              " 2043.0,\n",
              " 2043.0,\n",
              " 2043.0,\n",
              " 2043.0,\n",
              " 2042.0,\n",
              " 2042.0,\n",
              " 2042.0,\n",
              " 2042.0,\n",
              " 2042.0,\n",
              " 2042.0,\n",
              " 2042.0,\n",
              " 2042.0,\n",
              " 2041.0,\n",
              " 2041.0,\n",
              " 2041.0,\n",
              " 2041.0,\n",
              " 2041.0,\n",
              " 2041.0,\n",
              " 2041.0,\n",
              " 2041.0,\n",
              " 2041.0,\n",
              " 2041.0,\n",
              " 2041.0,\n",
              " 2041.0,\n",
              " 2040.0,\n",
              " 2040.0,\n",
              " 2040.0,\n",
              " 2040.0,\n",
              " 2040.0,\n",
              " 2040.0,\n",
              " 2040.0,\n",
              " 2040.0,\n",
              " 2040.0,\n",
              " 2040.0,\n",
              " 2040.0,\n",
              " 2040.0,\n",
              " 2040.0,\n",
              " 2040.0,\n",
              " 2039.0,\n",
              " 2039.0,\n",
              " 2039.0,\n",
              " 2039.0,\n",
              " 2039.0,\n",
              " 2039.0,\n",
              " 2039.0,\n",
              " 2039.0,\n",
              " 2039.0,\n",
              " 2039.0,\n",
              " 2039.0,\n",
              " 2038.0,\n",
              " 2038.0,\n",
              " 2038.0,\n",
              " 2038.0,\n",
              " 2038.0,\n",
              " 2038.0,\n",
              " 2038.0,\n",
              " 2038.0,\n",
              " 2038.0,\n",
              " 2038.0,\n",
              " 2038.0,\n",
              " 2038.0,\n",
              " 2037.0,\n",
              " 2037.0,\n",
              " 2037.0,\n",
              " 2037.0,\n",
              " 2037.0,\n",
              " 2037.0,\n",
              " 2037.0,\n",
              " 2037.0,\n",
              " 2037.0,\n",
              " 2036.0,\n",
              " 2036.0,\n",
              " 2036.0,\n",
              " 2036.0,\n",
              " 2036.0,\n",
              " 2036.0,\n",
              " 2035.0,\n",
              " 2035.0,\n",
              " 2035.0,\n",
              " 2035.0,\n",
              " 2035.0,\n",
              " 2035.0,\n",
              " 2035.0,\n",
              " 2035.0,\n",
              " 2035.0,\n",
              " 2035.0,\n",
              " 2035.0,\n",
              " 2034.0,\n",
              " 2034.0,\n",
              " 2034.0,\n",
              " 2033.0,\n",
              " 2033.0,\n",
              " 2033.0,\n",
              " 2033.0,\n",
              " 2032.0,\n",
              " 2032.0,\n",
              " 2032.0,\n",
              " 2032.0,\n",
              " 2031.0,\n",
              " 2031.0,\n",
              " 2031.0,\n",
              " 2030.0,\n",
              " 2030.0,\n",
              " 2030.0,\n",
              " 2030.0,\n",
              " 2030.0,\n",
              " 2029.0,\n",
              " 2029.0,\n",
              " 2029.0,\n",
              " 2029.0,\n",
              " 2029.0,\n",
              " 2028.0,\n",
              " 2028.0,\n",
              " 2028.0,\n",
              " 2028.0,\n",
              " 2028.0,\n",
              " 2028.0,\n",
              " 2028.0,\n",
              " 2027.0,\n",
              " 2027.0,\n",
              " 2027.0,\n",
              " 2027.0,\n",
              " 2026.0,\n",
              " 2026.0,\n",
              " 2026.0,\n",
              " 2026.0,\n",
              " 2026.0,\n",
              " 2026.0,\n",
              " 2026.0,\n",
              " 2026.0,\n",
              " 2025.0,\n",
              " 2025.0,\n",
              " 2025.0,\n",
              " 2025.0,\n",
              " 2025.0,\n",
              " 2024.0,\n",
              " 2024.0,\n",
              " 2024.0,\n",
              " 2024.0,\n",
              " 2024.0,\n",
              " 2024.0,\n",
              " 2024.0,\n",
              " 2023.0,\n",
              " 2023.0,\n",
              " 2023.0,\n",
              " 2022.0,\n",
              " 2022.0,\n",
              " 2022.0,\n",
              " 2022.0,\n",
              " 2022.0,\n",
              " 2022.0,\n",
              " 2022.0,\n",
              " 2022.0,\n",
              " 2021.0,\n",
              " 2021.0,\n",
              " 2021.0,\n",
              " 2021.0,\n",
              " 2021.0,\n",
              " 2021.0,\n",
              " 2021.0,\n",
              " 2020.0,\n",
              " 2020.0,\n",
              " 2020.0,\n",
              " 2020.0,\n",
              " 2020.0,\n",
              " 2020.0,\n",
              " ...]"
            ]
          },
          "metadata": {},
          "execution_count": 94
        }
      ]
    },
    {
      "cell_type": "code",
      "source": [
        "temp_train_data[350:420]"
      ],
      "metadata": {
        "colab": {
          "base_uri": "https://localhost:8080/"
        },
        "id": "X3CB9JoEYXGE",
        "outputId": "80838b2d-fa30-44ad-87fe-5cbdfb081448"
      },
      "execution_count": null,
      "outputs": [
        {
          "output_type": "execute_result",
          "data": {
            "text/plain": [
              "array([[3.100000e+01, 8.000000e+00, 3.054611e-01, 6.000000e-04,\n",
              "        0.000000e+00, 3.000000e+00],\n",
              "       [3.200000e+01, 8.000000e+02, 9.216714e+00, 6.000000e-04,\n",
              "        1.400000e+02, 1.400000e+01],\n",
              "       [3.100000e+01, 6.000000e+00, 1.100442e-01, 6.000000e-04,\n",
              "        0.000000e+00, 3.000000e+00],\n",
              "       [3.100000e+01, 2.800000e+01, 4.566555e-01, 6.000000e-04,\n",
              "        0.000000e+00, 3.000000e+00],\n",
              "       [3.200000e+01, 4.750000e+02, 5.565425e+00, 6.000000e-04,\n",
              "        2.950000e+02, 1.300000e+01],\n",
              "       [3.000000e+01, 1.000000e+00, 7.178010e-02, 6.000000e-04,\n",
              "        0.000000e+00, 1.000000e+00],\n",
              "       [3.100000e+01, 0.000000e+00, 0.000000e+00, 6.000000e-04,\n",
              "        0.000000e+00, 2.000000e+00],\n",
              "       [3.200000e+01, 4.400000e+01, 1.326210e+00, 6.000000e-04,\n",
              "        2.000000e+01, 6.000000e+00],\n",
              "       [2.900000e+01, 0.000000e+00, 0.000000e+00, 6.000000e-04,\n",
              "        0.000000e+00, 1.000000e+00],\n",
              "       [2.900000e+01, 0.000000e+00, 0.000000e+00, 6.000000e-04,\n",
              "        0.000000e+00, 1.000000e+00],\n",
              "       [3.100000e+01, 2.680000e+02, 3.002009e+00, 6.000000e-04,\n",
              "        3.300000e+01, 7.000000e+00],\n",
              "       [3.300000e+01, 2.770000e+02, 4.336598e+00, 6.000000e-04,\n",
              "        3.200000e+01, 2.000000e+01],\n",
              "       [2.900000e+01, 0.000000e+00, 0.000000e+00, 6.000000e-04,\n",
              "        0.000000e+00, 1.000000e+00],\n",
              "       [2.900000e+01, 0.000000e+00, 0.000000e+00, 6.000000e-04,\n",
              "        0.000000e+00, 1.000000e+00],\n",
              "       [3.100000e+01, 1.330000e+02, 2.148003e+00, 6.000000e-04,\n",
              "        7.100000e+01, 6.000000e+00],\n",
              "       [2.900000e+01, 0.000000e+00, 1.070650e-02, 6.000000e-04,\n",
              "        0.000000e+00, 1.000000e+00],\n",
              "       [3.100000e+01, 5.200000e+02, 5.873679e+00, 6.000000e-04,\n",
              "        1.890000e+02, 8.000000e+00],\n",
              "       [3.000000e+01, 0.000000e+00, 1.070650e-02, 6.000000e-04,\n",
              "        0.000000e+00, 1.000000e+00],\n",
              "       [3.000000e+01, 1.020000e+02, 1.018328e+00, 6.000000e-04,\n",
              "        0.000000e+00, 3.000000e+00],\n",
              "       [3.000000e+01, 0.000000e+00, 0.000000e+00, 6.000000e-04,\n",
              "        0.000000e+00, 1.000000e+00],\n",
              "       [3.000000e+01, 2.510000e+02, 1.875499e+00, 6.000000e-04,\n",
              "        0.000000e+00, 3.000000e+00],\n",
              "       [3.100000e+01, 2.880000e+02, 3.602318e+00, 6.000000e-04,\n",
              "        2.810000e+02, 1.000000e+01],\n",
              "       [3.000000e+01, 4.200000e+01, 2.891686e-01, 6.000000e-04,\n",
              "        0.000000e+00, 3.000000e+00],\n",
              "       [3.100000e+01, 4.100000e+01, 1.252567e+00, 6.000000e-04,\n",
              "        0.000000e+00, 6.000000e+00],\n",
              "       [3.200000e+01, 3.320000e+02, 4.133919e+00, 6.000000e-04,\n",
              "        0.000000e+00, 7.000000e+00],\n",
              "       [3.000000e+01, 1.710000e+02, 2.694966e+00, 6.000000e-04,\n",
              "        0.000000e+00, 7.000000e+00],\n",
              "       [3.100000e+01, 1.000000e+00, 9.552060e-02, 6.000000e-04,\n",
              "        0.000000e+00, 4.000000e+00],\n",
              "       [3.300000e+01, 3.000000e+00, 2.000719e-01, 6.000000e-04,\n",
              "        0.000000e+00, 4.000000e+00],\n",
              "       [3.100000e+01, 0.000000e+00, 0.000000e+00, 6.000000e-04,\n",
              "        0.000000e+00, 2.000000e+00],\n",
              "       [3.100000e+01, 2.700000e+01, 4.813270e-01, 6.000000e-04,\n",
              "        0.000000e+00, 3.000000e+00],\n",
              "       [3.200000e+01, 6.800000e+01, 1.214862e+00, 6.000000e-04,\n",
              "        0.000000e+00, 1.000000e+01],\n",
              "       [2.900000e+01, 0.000000e+00, 0.000000e+00, 6.000000e-04,\n",
              "        0.000000e+00, 1.000000e+00],\n",
              "       [3.000000e+01, 0.000000e+00, 0.000000e+00, 6.000000e-04,\n",
              "        0.000000e+00, 3.000000e+00],\n",
              "       [2.900000e+01, 0.000000e+00, 0.000000e+00, 6.000000e-04,\n",
              "        0.000000e+00, 1.000000e+00],\n",
              "       [2.900000e+01, 0.000000e+00, 8.844500e-03, 6.000000e-04,\n",
              "        0.000000e+00, 1.000000e+00],\n",
              "       [3.100000e+01, 0.000000e+00, 0.000000e+00, 6.000000e-04,\n",
              "        0.000000e+00, 2.000000e+00],\n",
              "       [3.100000e+01, 0.000000e+00, 4.319840e-02, 6.000000e-04,\n",
              "        0.000000e+00, 1.000000e+00],\n",
              "       [3.600000e+01, 2.100000e+01, 1.961524e+00, 6.000000e-04,\n",
              "        6.000000e+00, 1.000000e+01],\n",
              "       [2.900000e+01, 0.000000e+00, 8.844500e-03, 6.000000e-04,\n",
              "        0.000000e+00, 1.000000e+00],\n",
              "       [2.900000e+01, 0.000000e+00, 0.000000e+00, 6.000000e-04,\n",
              "        0.000000e+00, 1.000000e+00],\n",
              "       [2.900000e+01, 0.000000e+00, 0.000000e+00, 6.000000e-04,\n",
              "        0.000000e+00, 1.000000e+00],\n",
              "       [2.900000e+01, 0.000000e+00, 0.000000e+00, 6.000000e-04,\n",
              "        0.000000e+00, 1.000000e+00],\n",
              "       [3.100000e+01, 0.000000e+00, 0.000000e+00, 6.000000e-04,\n",
              "        0.000000e+00, 3.000000e+00],\n",
              "       [3.000000e+01, 0.000000e+00, 0.000000e+00, 6.000000e-04,\n",
              "        0.000000e+00, 3.000000e+00],\n",
              "       [3.000000e+01, 2.090000e+02, 2.346772e+00, 6.000000e-04,\n",
              "        0.000000e+00, 5.000000e+00],\n",
              "       [3.000000e+01, 0.000000e+00, 0.000000e+00, 6.000000e-04,\n",
              "        0.000000e+00, 2.000000e+00],\n",
              "       [3.100000e+01, 1.240000e+02, 2.071289e+00, 6.000000e-04,\n",
              "        0.000000e+00, 9.000000e+00],\n",
              "       [3.100000e+01, 2.100000e+01, 3.325532e-01, 6.000000e-04,\n",
              "        2.000000e+01, 3.000000e+00],\n",
              "       [2.900000e+01, 0.000000e+00, 0.000000e+00, 6.000000e-04,\n",
              "        0.000000e+00, 3.000000e+00],\n",
              "       [2.900000e+01, 0.000000e+00, 8.844500e-03, 6.000000e-04,\n",
              "        0.000000e+00, 1.000000e+00],\n",
              "       [3.100000e+01, 0.000000e+00, 3.053680e-02, 6.000000e-04,\n",
              "        0.000000e+00, 4.000000e+00],\n",
              "       [3.000000e+01, 0.000000e+00, 0.000000e+00, 6.000000e-04,\n",
              "        0.000000e+00, 2.000000e+00],\n",
              "       [3.300000e+01, 8.700000e+01, 1.629064e+00, 6.000000e-04,\n",
              "        0.000000e+00, 1.200000e+01],\n",
              "       [4.200000e+01, 9.870000e+02, 5.029290e+01, 6.000000e-04,\n",
              "        1.400000e+01, 8.300000e+01],\n",
              "       [4.000000e+01, 3.610000e+02, 2.104023e+01, 6.000000e-04,\n",
              "        4.600000e+01, 7.900000e+01],\n",
              "       [2.900000e+01, 0.000000e+00, 0.000000e+00, 6.000000e-04,\n",
              "        0.000000e+00, 2.000000e+00],\n",
              "       [2.900000e+01, 0.000000e+00, 0.000000e+00, 6.000000e-04,\n",
              "        0.000000e+00, 1.000000e+00],\n",
              "       [3.000000e+01, 0.000000e+00, 4.170880e-02, 6.000000e-04,\n",
              "        0.000000e+00, 2.000000e+00],\n",
              "       [2.900000e+01, 0.000000e+00, 0.000000e+00, 6.000000e-04,\n",
              "        0.000000e+00, 2.000000e+00],\n",
              "       [3.000000e+01, 4.000000e+00, 1.893654e-01, 6.000000e-04,\n",
              "        0.000000e+00, 3.000000e+00],\n",
              "       [3.000000e+01, 0.000000e+00, 8.844500e-03, 6.000000e-04,\n",
              "        0.000000e+00, 4.000000e+00],\n",
              "       [2.900000e+01, 0.000000e+00, 0.000000e+00, 6.000000e-04,\n",
              "        0.000000e+00, 1.000000e+00],\n",
              "       [3.000000e+01, 0.000000e+00, 3.658830e-02, 6.000000e-04,\n",
              "        0.000000e+00, 2.000000e+00],\n",
              "       [3.000000e+01, 0.000000e+00, 0.000000e+00, 6.000000e-04,\n",
              "        0.000000e+00, 1.000000e+00],\n",
              "       [2.900000e+01, 0.000000e+00, 0.000000e+00, 6.000000e-04,\n",
              "        0.000000e+00, 1.000000e+00],\n",
              "       [2.900000e+01, 0.000000e+00, 0.000000e+00, 6.000000e-04,\n",
              "        0.000000e+00, 1.000000e+00],\n",
              "       [3.100000e+01, 3.290000e+02, 4.287907e+00, 6.000000e-04,\n",
              "        0.000000e+00, 6.000000e+00],\n",
              "       [2.900000e+01, 0.000000e+00, 0.000000e+00, 6.000000e-04,\n",
              "        0.000000e+00, 3.000000e+00],\n",
              "       [3.200000e+01, 5.780000e+02, 4.803867e+00, 6.000000e-04,\n",
              "        5.640000e+02, 6.000000e+00],\n",
              "       [3.200000e+01, 1.510000e+02, 2.249482e+00, 6.000000e-04,\n",
              "        0.000000e+00, 1.200000e+01]])"
            ]
          },
          "metadata": {},
          "execution_count": 76
        }
      ]
    },
    {
      "cell_type": "code",
      "source": [
        "processed_test_data"
      ],
      "metadata": {
        "colab": {
          "base_uri": "https://localhost:8080/"
        },
        "id": "mjLirNo4pQZ_",
        "outputId": "6a65881f-d17f-4802-e808-a90260d0b1c8"
      },
      "execution_count": null,
      "outputs": [
        {
          "output_type": "execute_result",
          "data": {
            "text/plain": [
              "array([[[-0.91428571, -0.99962565, -0.99999998, -1.        ,\n",
              "         -0.99983587, -0.99923401],\n",
              "        [-0.88571429, -0.99656281, -0.99999994, -1.        ,\n",
              "         -0.99983587, -0.99770203],\n",
              "        [-0.88571429, -0.99914921, -0.99999997, -1.        ,\n",
              "         -0.99844077, -0.99923401],\n",
              "        [-0.94285714, -0.99931937, -0.99999999, -1.        ,\n",
              "         -1.        , -0.99948934],\n",
              "        [-0.94285714, -0.99996597, -1.        , -1.        ,\n",
              "         -1.        , -0.99974467],\n",
              "        [-0.8       , -0.99761779, -0.99999992, -1.        ,\n",
              "         -0.99844077, -0.99668071],\n",
              "        [-0.88571429, -0.99965968, -0.99999999, -1.        ,\n",
              "         -0.99983587, -0.99872335],\n",
              "        [-0.85714286, -0.99918324, -0.99999996, -1.        ,\n",
              "         -0.99876903, -0.99770203],\n",
              "        [-0.82857143, -0.99356804, -0.99999988, -1.        ,\n",
              "         -0.99917935, -0.99617005],\n",
              "        [-0.77142857, -0.99717538, -0.99999989, -1.        ,\n",
              "         -0.99909729, -0.99617005],\n",
              "        [-0.85714286, -0.99768585, -0.99999993, -1.        ,\n",
              "         -0.99983587, -0.99591472],\n",
              "        [-0.88571429, -0.99908115, -0.99999997, -1.        ,\n",
              "         -0.99844077, -0.99872335],\n",
              "        [-0.97142857, -0.99996597, -1.        , -1.        ,\n",
              "         -1.        , -1.        ],\n",
              "        [-0.94285714, -0.99993194, -0.99999999, -1.        ,\n",
              "         -1.        , -0.99974467],\n",
              "        [-0.74285714, -0.99707329, -0.99999986, -1.        ,\n",
              "         -0.99876903, -0.9948934 ],\n",
              "        [-0.97142857, -0.99996597, -1.        , -1.        ,\n",
              "         -1.        , -0.99974467],\n",
              "        [ 0.71428571, -0.73380524, -0.93656071, -0.65377532,\n",
              "         -0.99786632, -0.25852164],\n",
              "        [ 0.34285714, -0.620276  , -0.99234666, -0.88581952,\n",
              "         -0.99647122, -0.69692327],\n",
              "        [-0.82857143, -0.99271725, -0.99999986, -0.65377532,\n",
              "         -0.99901522, -0.99617005],\n",
              "        [-0.8       , -0.99833245, -0.99999992, -0.65377532,\n",
              "         -0.99835871, -0.99719137],\n",
              "        [-0.94285714, -0.99969372, -0.99999999, -0.65377532,\n",
              "         -1.        , -0.99974467],\n",
              "        [-0.94285714, -0.99914921, -0.99999998, -1.        ,\n",
              "         -0.99794838, -0.99948934],\n",
              "        [-0.97142857, -1.        , -1.        , -1.        ,\n",
              "         -1.        , -0.99948934],\n",
              "        [-0.82857143, -0.99761779, -0.9999999 , -1.        ,\n",
              "         -0.99770219, -0.99565939],\n",
              "        [-0.94285714, -0.98897378, -0.9999999 , -1.        ,\n",
              "         -1.        , -0.99897868],\n",
              "        [-0.91428571, -0.99921727, -0.99999999, -1.        ,\n",
              "         -1.        , -0.99923401],\n",
              "        [-0.85714286, -0.99516752, -0.99999994, -1.        ,\n",
              "         -0.99868696, -0.99821269],\n",
              "        [-0.88571429, -0.99914921, -0.99999998, -1.        ,\n",
              "         -0.99852283, -0.99846802],\n",
              "        [-0.91428571, -0.99972775, -0.99999999, -1.        ,\n",
              "         -0.99958968, -0.99948934],\n",
              "        [-0.94285714, -0.99993194, -1.        , -1.        ,\n",
              "         -1.        , -0.99974467],\n",
              "        [-0.88571429, -0.99789004, -0.99999995, -1.        ,\n",
              "         -0.99786632, -0.99795736],\n",
              "        [-1.        , -1.        , -1.        , -1.        ,\n",
              "         -1.        , -1.        ],\n",
              "        [-0.88571429, -0.99918324, -0.99999998, -1.        ,\n",
              "         -1.        , -0.99923401],\n",
              "        [-0.88571429, -0.99908115, -0.99999997, -1.        ,\n",
              "         -0.99794838, -0.99897868],\n",
              "        [ 0.6       , -0.75436029, -0.97729749, -0.88213628,\n",
              "         -0.99786632, -0.34737648],\n",
              "        [ 0.2       , -0.61806395, -0.99663863, -0.93001842,\n",
              "         -0.99671741, -0.74109537],\n",
              "        [-0.94285714, -1.        , -1.        , -0.81583794,\n",
              "         -1.        , -0.99974467],\n",
              "        [-0.85714286, -0.99812826, -0.99999994, -0.81583794,\n",
              "         -0.99868696, -0.99591472],\n",
              "        [-0.91428571, -0.99982984, -0.99999999, -0.81583794,\n",
              "         -0.99958968, -0.99770203],\n",
              "        [-0.88571429, -0.99986387, -0.99999999, -1.        ,\n",
              "         -1.        , -0.99948934],\n",
              "        [-0.94285714, -0.99996597, -1.        , -1.        ,\n",
              "         -1.        , -0.99974467],\n",
              "        [-0.91428571, -0.99993194, -1.        , -1.        ,\n",
              "         -1.        , -0.99974467],\n",
              "        [-0.85714286, -0.99931937, -0.99999998, -1.        ,\n",
              "         -1.        , -0.99846802],\n",
              "        [-0.88571429, -0.99918324, -0.99999998, -1.        ,\n",
              "         -0.99983587, -0.99923401],\n",
              "        [-0.85714286, -0.99748167, -0.99999994, -1.        ,\n",
              "         -1.        , -0.99795736],\n",
              "        [-0.97142857, -0.99996597, -1.        , -1.        ,\n",
              "         -1.        , -0.99948934],\n",
              "        [-0.85714286, -0.99795811, -0.99999996, -1.        ,\n",
              "         -0.99835871, -0.99872335],\n",
              "        [-0.94285714, -0.99874083, -0.99999998, -1.        ,\n",
              "         -1.        , -0.99948934],\n",
              "        [-0.88571429, -0.99969372, -0.99999999, -1.        ,\n",
              "         -1.        , -0.99948934],\n",
              "        [-0.88571429, -0.99948953, -0.99999998, -1.        ,\n",
              "         -1.        , -0.99897868]],\n",
              "\n",
              "       [[-0.91304348, -0.99995163, -0.99999999, -1.        ,\n",
              "         -0.99995746, -0.99977159],\n",
              "        [-0.76811594, -0.9949451 , -0.99999954, -1.        ,\n",
              "         -0.99936197, -0.99428963],\n",
              "        [-0.94202899, -0.99995163, -0.99999999, -1.        ,\n",
              "         -0.99991493, -0.99908634],\n",
              "        [-0.94202899, -0.99997581, -0.99999999, -1.        ,\n",
              "         -1.        , -0.99977159],\n",
              "        [-0.97101449, -0.99951628, -0.99999997, -1.        ,\n",
              "         -1.        , -0.99954317],\n",
              "        [-0.94202899, -0.99975814, -0.99999998, -1.        ,\n",
              "         -1.        , -0.99954317],\n",
              "        [-0.94202899, -1.        , -1.        , -1.        ,\n",
              "         -1.        , -0.99977159],\n",
              "        [-0.88405797, -0.9994679 , -0.99999994, -1.        ,\n",
              "         -0.99906423, -0.99908634],\n",
              "        [-0.65217391, -0.99339718, -0.99999911, -1.        ,\n",
              "         -0.99902169, -0.99132024],\n",
              "        [-0.97101449, -1.        , -1.        , -1.        ,\n",
              "         -1.        , -0.99954317],\n",
              "        [-0.88405797, -0.99941953, -0.99999995, -1.        ,\n",
              "         -0.99948958, -0.99908634],\n",
              "        [-0.88405797, -0.99966139, -0.99999998, -1.        ,\n",
              "         -0.99995746, -0.99954317],\n",
              "        [-0.82608696, -0.99535626, -0.99999975, -1.        ,\n",
              "         -0.99944704, -0.99680219],\n",
              "        [-0.88405797, -0.99835534, -0.99999987, -1.        ,\n",
              "         -0.9982986 , -0.99794427],\n",
              "        [-0.85507246, -0.99992744, -0.99999998, -1.        ,\n",
              "         -1.        , -0.99954317],\n",
              "        [-0.85507246, -0.99506603, -0.99999978, -1.        ,\n",
              "         -0.99893662, -0.9984011 ],\n",
              "        [-0.88405797, -0.99992744, -0.99999998, -1.        ,\n",
              "         -0.99991493, -0.99954317],\n",
              "        [-0.94202899, -0.99806511, -0.99999992, -1.        ,\n",
              "         -1.        , -0.99885793],\n",
              "        [-0.88405797, -0.99958884, -0.99999993, -1.        ,\n",
              "         -0.99936197, -0.9984011 ],\n",
              "        [-0.97101449, -1.        , -1.        , -1.        ,\n",
              "         -1.        , -1.        ],\n",
              "        [-0.88405797, -0.99990326, -0.99999998, -1.        ,\n",
              "         -0.99991493, -0.99954317],\n",
              "        [-0.88405797, -0.99900837, -0.99999994, -1.        ,\n",
              "         -1.        , -0.99931476],\n",
              "        [-0.91304348, -0.99567068, -0.99999981, -1.        ,\n",
              "         -0.99995746, -0.99748744],\n",
              "        [-0.88405797, -0.99990326, -0.99999998, -1.        ,\n",
              "         -1.        , -0.99954317],\n",
              "        [-0.94202899, -0.99917767, -0.99999993, -1.        ,\n",
              "         -0.99965972, -0.99817268],\n",
              "        [-0.85507246, -0.99777488, -0.99999982, -1.        ,\n",
              "         -0.99995746, -0.99703061],\n",
              "        [-0.91304348, -0.99995163, -0.99999999, -1.        ,\n",
              "         -0.99991493, -0.99977159],\n",
              "        [-1.        , -1.        , -1.        , -1.        ,\n",
              "         -1.        , -1.        ],\n",
              "        [-0.94202899, -0.99922604, -0.99999995, -1.        ,\n",
              "         -1.        , -0.99931476],\n",
              "        [-0.94202899, -1.        , -1.        , -1.        ,\n",
              "         -1.        , -0.99977159],\n",
              "        [-0.73913043, -0.99167997, -0.99999935, -1.        ,\n",
              "         -0.9958741 , -0.99269073],\n",
              "        [-0.76811594, -0.99579161, -0.99999968, -1.        ,\n",
              "         -0.99957465, -0.99611695],\n",
              "        [-0.85507246, -0.99990326, -0.99999998, -1.        ,\n",
              "         -0.99991493, -0.99954317],\n",
              "        [-0.79710145, -0.99613022, -0.99999964, -1.        ,\n",
              "         -0.9991493 , -0.9954317 ],\n",
              "        [-0.94202899, -0.99995163, -0.99999999, -1.        ,\n",
              "         -1.        , -0.99977159],\n",
              "        [-0.73913043, -0.99479998, -0.99999955, -1.        ,\n",
              "         -0.99906423, -0.9954317 ],\n",
              "        [-0.91304348, -0.99995163, -0.99999998, -1.        ,\n",
              "         -0.99995746, -0.99954317],\n",
              "        [-0.88405797, -0.99845209, -0.99999991, -1.        ,\n",
              "         -1.        , -0.99885793],\n",
              "        [-0.94202899, -0.99941953, -0.99999995, -1.        ,\n",
              "         -0.99948958, -0.99908634],\n",
              "        [-0.79710145, -0.99850046, -0.99999983, -1.        ,\n",
              "         -0.99987239, -0.99748744],\n",
              "        [-0.88405797, -0.99874232, -0.99999991, -1.        ,\n",
              "         -0.99902169, -0.99908634],\n",
              "        [-0.94202899, -0.99896   , -0.99999993, -1.        ,\n",
              "         -1.        , -0.99885793],\n",
              "        [-0.94202899, -0.99997581, -1.        , -1.        ,\n",
              "         -0.99995746, -0.99977159],\n",
              "        [-0.88405797, -0.99973395, -0.99999998, -1.        ,\n",
              "         -0.99957465, -0.99977159],\n",
              "        [-0.94202899, -0.99992744, -0.99999999, -1.        ,\n",
              "         -1.        , -0.99885793],\n",
              "        [-0.94202899, -0.9991293 , -0.99999995, -1.        ,\n",
              "         -0.99910676, -0.99908634],\n",
              "        [-0.94202899, -0.99990326, -0.99999999, -1.        ,\n",
              "         -0.99982986, -0.99931476],\n",
              "        [-0.91304348, -0.99995163, -0.99999999, -1.        ,\n",
              "         -0.99991493, -0.99977159],\n",
              "        [-0.91304348, -0.99995163, -0.99999999, -1.        ,\n",
              "         -1.        , -0.99977159],\n",
              "        [-0.94202899, -0.99954046, -0.99999997, -1.        ,\n",
              "         -0.99970225, -0.99977159]],\n",
              "\n",
              "       [[-0.88405797, -0.99812152, -0.99999988, -1.        ,\n",
              "         -0.99974177, -0.99889564],\n",
              "        [-0.97101449, -0.99954657, -0.99999998, -1.        ,\n",
              "         -1.        , -0.99955826],\n",
              "        [-0.94202899, -0.9997409 , -0.99999997, -1.        ,\n",
              "         -1.        , -0.99977913],\n",
              "        [-0.73913043, -0.98212204, -0.99999844, -1.        ,\n",
              "         -0.9917366 , -0.98939812],\n",
              "        [-0.88405797, -0.99384635, -0.99999983, -1.        ,\n",
              "         -0.99974177, -0.99911651],\n",
              "        [-0.94202899, -0.99987045, -0.99999998, -1.        ,\n",
              "         -1.        , -0.99977913],\n",
              "        [-0.85507246, -0.99961135, -0.99999994, -1.        ,\n",
              "         -0.99896708, -0.99955826],\n",
              "        [-0.88405797, -0.98866433, -0.99999955, -1.        ,\n",
              "         -0.99974177, -0.99712866],\n",
              "        [-0.94202899, -0.99889882, -0.99999993, -1.        ,\n",
              "         -0.99948354, -0.99889564],\n",
              "        [-0.88405797, -0.985879  , -0.99999973, -1.        ,\n",
              "         -1.        , -0.99889564],\n",
              "        [-0.94202899, -0.98840523, -0.99999977, -1.        ,\n",
              "         -0.99509361, -0.99955826],\n",
              "        [-0.85507246, -0.99727944, -0.99999986, -1.        ,\n",
              "         -1.        , -0.99889564],\n",
              "        [-0.94202899, -0.99987045, -0.99999998, -1.        ,\n",
              "         -0.99948354, -0.99977913],\n",
              "        [-0.94202899, -1.        , -1.        , -1.        ,\n",
              "         -1.        , -1.        ],\n",
              "        [-0.88405797, -0.9845835 , -0.99999955, -1.        ,\n",
              "         -0.99793415, -0.9975704 ],\n",
              "        [-0.82608696, -0.99106102, -0.99999958, -1.        ,\n",
              "         -0.99974177, -0.99646604],\n",
              "        [-0.82608696, -0.98626765, -0.99999955, -1.        ,\n",
              "         -0.99974177, -0.9975704 ],\n",
              "        [-0.94202899, -0.99902837, -0.99999995, -1.        ,\n",
              "         -1.        , -0.99933738],\n",
              "        [-0.91304348, -0.99915792, -0.99999996, -1.        ,\n",
              "         -1.        , -0.99977913],\n",
              "        [-0.88405797, -0.99818629, -0.99999988, -1.        ,\n",
              "         -0.99406068, -0.99867477],\n",
              "        [-0.88405797, -0.99708511, -0.99999986, -1.        ,\n",
              "         -0.99612653, -0.99889564],\n",
              "        [-0.85507246, -0.99844539, -0.99999984, -1.        ,\n",
              "         -0.99819238, -0.99823302],\n",
              "        [-0.91304348, -0.99987045, -0.99999998, -1.        ,\n",
              "         -1.        , -0.99977913],\n",
              "        [-0.94202899, -0.99041327, -0.99999977, -1.        ,\n",
              "         -0.96436411, -0.99889564],\n",
              "        [-0.94202899, -0.99954657, -0.99999996, -1.        ,\n",
              "         -0.99974177, -0.99911651],\n",
              "        [-0.88405797, -0.98827568, -0.99999976, -1.        ,\n",
              "         -1.        , -0.99911651],\n",
              "        [-0.85507246, -0.98626765, -0.99999958, -1.        ,\n",
              "         -0.99612653, -0.99779128],\n",
              "        [-0.82608696, -0.99928747, -0.99999988, -1.        ,\n",
              "         -0.99819238, -0.99889564],\n",
              "        [-0.79710145, -0.99391113, -0.99999955, -1.        ,\n",
              "         -0.99819238, -0.99558255],\n",
              "        [-0.88405797, -0.99987045, -0.99999997, -1.        ,\n",
              "         -1.        , -0.99977913],\n",
              "        [-0.94202899, -0.99546573, -0.99999982, -1.        ,\n",
              "         -0.99690123, -0.99933738],\n",
              "        [-0.94202899, -0.99993522, -0.99999999, -1.        ,\n",
              "         -1.        , -1.        ],\n",
              "        [-0.88405797, -0.9989636 , -0.99999995, -1.        ,\n",
              "         -1.        , -0.99955826],\n",
              "        [-0.85507246, -0.74485037, -0.99999264, -1.        ,\n",
              "         -0.21833441, -0.96024296],\n",
              "        [-0.94202899, -0.98497215, -0.9999997 , -1.        ,\n",
              "         -0.99793415, -0.99889564],\n",
              "        [-0.04347826, -0.78747247, -0.9993426 , -1.        ,\n",
              "         -0.96307295, -0.83279956],\n",
              "        [-0.01449275, -0.6184739 , -0.99949187, -0.97984887,\n",
              "         -0.99561007, -0.91297626],\n",
              "        [-0.85507246, -0.98620288, -0.99999945, -0.98488665,\n",
              "         -0.99638476, -0.9960243 ],\n",
              "        [-0.88405797, -0.99183832, -0.99999982, -0.98488665,\n",
              "         -1.        , -0.99933738],\n",
              "        [ 1.02898551,  2.29349657,  6.98664279,  1.72040302,\n",
              "          0.66068431,  1.11551629],\n",
              "        [ 1.        ,  2.18875502,  2.78083009,  0.86901763,\n",
              "          0.55480955, -0.32545555],\n",
              "        [-0.76811594, -0.93898173, -0.99999817,  0.86901763,\n",
              "         -0.93285991, -0.99293208],\n",
              "        [-0.85507246, -0.96923177, -0.99999877,  1.72040302,\n",
              "         -0.9460297 , -0.99006074],\n",
              "        [-0.71014493, -0.91540355, -0.99999392,  1.72040302,\n",
              "         -0.83524855, -0.95339591],\n",
              "        [ 0.24637681,  0.94027724, -0.98671555,  0.86901763,\n",
              "          3.2879277 , -0.11385975],\n",
              "        [ 0.2173913 ,  0.66990543, -0.97091569,  1.72544081,\n",
              "          2.88457069,  0.92114854],\n",
              "        [-0.88405797, -0.99138489, -0.99999968,  1.72544081,\n",
              "         -0.97236927, -0.9975704 ],\n",
              "        [-0.2173913 , -0.75948957, -0.99980728,  1.72544081,\n",
              "         -0.5377663 , -0.82771949],\n",
              "        [-0.42028986, -0.79893769, -0.99995575,  1.72544081,\n",
              "         -0.93905746, -0.89110988],\n",
              "        [ 0.56521739,  0.27516518, -0.86458304,  1.75062972,\n",
              "          1.91775339,  0.20596356]]])"
            ]
          },
          "metadata": {},
          "execution_count": 34
        }
      ]
    },
    {
      "cell_type": "code",
      "source": [
        "true_rul"
      ],
      "metadata": {
        "colab": {
          "base_uri": "https://localhost:8080/"
        },
        "id": "uvLdRVZCpA9A",
        "outputId": "66843171-ce70-45e1-91ca-bd917baedfe5"
      },
      "execution_count": null,
      "outputs": [
        {
          "output_type": "execute_result",
          "data": {
            "text/plain": [
              "array([761, 315,   0])"
            ]
          },
          "metadata": {},
          "execution_count": 143
        }
      ]
    },
    {
      "cell_type": "code",
      "source": [
        "processed_train_targets"
      ],
      "metadata": {
        "colab": {
          "base_uri": "https://localhost:8080/"
        },
        "id": "Pz5AcA55pK5-",
        "outputId": "bdc4e3bf-0682-460e-8178-f49670aab908"
      },
      "execution_count": null,
      "outputs": [
        {
          "output_type": "execute_result",
          "data": {
            "text/plain": [
              "array([3113., 3113., 3113., ...,    0.,    0.,    0.])"
            ]
          },
          "metadata": {},
          "execution_count": 144
        }
      ]
    },
    {
      "cell_type": "code",
      "source": [
        "processed_train_data"
      ],
      "metadata": {
        "colab": {
          "base_uri": "https://localhost:8080/"
        },
        "id": "doq1fA0WoMp5",
        "outputId": "91cbb2e3-073b-4ae8-a11b-b855bed39048"
      },
      "execution_count": null,
      "outputs": [
        {
          "output_type": "execute_result",
          "data": {
            "text/plain": [
              "array([[[-0.97142857, -1.        , -1.        , -0.99631676,\n",
              "         -1.        , -0.99923401],\n",
              "        [-1.        , -1.        , -1.        , -0.99631676,\n",
              "         -1.        , -1.        ],\n",
              "        [-0.97142857, -1.        , -1.        , -0.99631676,\n",
              "         -1.        , -1.        ],\n",
              "        ...,\n",
              "        [-1.        , -1.        , -1.        , -0.99631676,\n",
              "         -1.        , -0.99974467],\n",
              "        [-1.        , -1.        , -1.        , -0.99631676,\n",
              "         -1.        , -0.99974467],\n",
              "        [-0.94285714, -0.99979581, -0.99999999, -0.99631676,\n",
              "         -1.        , -0.99974467]],\n",
              "\n",
              "       [[-1.        , -1.        , -1.        , -0.99631676,\n",
              "         -1.        , -1.        ],\n",
              "        [-0.97142857, -1.        , -1.        , -0.99631676,\n",
              "         -1.        , -1.        ],\n",
              "        [-1.        , -1.        , -1.        , -0.99631676,\n",
              "         -1.        , -1.        ],\n",
              "        ...,\n",
              "        [-1.        , -1.        , -1.        , -0.99631676,\n",
              "         -1.        , -0.99974467],\n",
              "        [-0.94285714, -0.99979581, -0.99999999, -0.99631676,\n",
              "         -1.        , -0.99974467],\n",
              "        [-0.94285714, -1.        , -1.        , -0.99631676,\n",
              "         -1.        , -0.99948934]],\n",
              "\n",
              "       [[-0.97142857, -1.        , -1.        , -0.99631676,\n",
              "         -1.        , -1.        ],\n",
              "        [-1.        , -1.        , -1.        , -0.99631676,\n",
              "         -1.        , -1.        ],\n",
              "        [-0.94285714, -0.99758376, -0.99999996, -0.99631676,\n",
              "         -1.        , -0.99948934],\n",
              "        ...,\n",
              "        [-0.94285714, -0.99979581, -0.99999999, -0.99631676,\n",
              "         -1.        , -0.99974467],\n",
              "        [-0.94285714, -1.        , -1.        , -0.99631676,\n",
              "         -1.        , -0.99948934],\n",
              "        [-1.        , -1.        , -1.        , -0.99631676,\n",
              "         -1.        , -1.        ]],\n",
              "\n",
              "       ...,\n",
              "\n",
              "       [[-0.94202899, -0.98950641, -0.99999977,  0.35516373,\n",
              "         -1.        , -0.99889564],\n",
              "        [-0.88405797, -0.99883405, -0.99999992,  0.35516373,\n",
              "         -0.99948354, -0.99867477],\n",
              "        [-0.36231884, -0.82381137, -0.99998874,  1.        ,\n",
              "         -0.40348612, -0.98100497],\n",
              "        ...,\n",
              "        [-0.79710145, -0.99591916, -0.99999979,  1.        ,\n",
              "         -1.        , -0.99867477],\n",
              "        [-0.76811594, -0.99915792, -0.99999992,  1.        ,\n",
              "         -0.99870884, -0.99955826],\n",
              "        [-0.94202899, -1.        , -0.99999999,  0.99496222,\n",
              "         -1.        , -1.        ]],\n",
              "\n",
              "       [[-0.88405797, -0.99883405, -0.99999992,  0.35516373,\n",
              "         -0.99948354, -0.99867477],\n",
              "        [-0.36231884, -0.82381137, -0.99998874,  1.        ,\n",
              "         -0.40348612, -0.98100497],\n",
              "        [-0.88405797, -0.9937168 , -0.99999972,  1.        ,\n",
              "         -0.98295675, -0.99867477],\n",
              "        ...,\n",
              "        [-0.76811594, -0.99915792, -0.99999992,  1.        ,\n",
              "         -0.99870884, -0.99955826],\n",
              "        [-0.94202899, -1.        , -0.99999999,  0.99496222,\n",
              "         -1.        , -1.        ],\n",
              "        [-0.82608696, -0.99941702, -0.99999992,  0.99496222,\n",
              "         -1.        , -0.99977913]],\n",
              "\n",
              "       [[-0.36231884, -0.82381137, -0.99998874,  1.        ,\n",
              "         -0.40348612, -0.98100497],\n",
              "        [-0.88405797, -0.9937168 , -0.99999972,  1.        ,\n",
              "         -0.98295675, -0.99867477],\n",
              "        [-0.2173913 , -0.85354321, -0.99994303,  1.        ,\n",
              "         -0.74641704, -0.97106571],\n",
              "        ...,\n",
              "        [-0.94202899, -1.        , -0.99999999,  0.99496222,\n",
              "         -1.        , -1.        ],\n",
              "        [-0.82608696, -0.99941702, -0.99999992,  0.99496222,\n",
              "         -1.        , -0.99977913],\n",
              "        [-0.91304348, -1.        , -0.99999999,  0.99496222,\n",
              "         -1.        , -0.99977913]]])"
            ]
          },
          "metadata": {},
          "execution_count": 145
        }
      ]
    },
    {
      "cell_type": "code",
      "execution_count": null,
      "metadata": {
        "colab": {
          "base_uri": "https://localhost:8080/"
        },
        "id": "PDA8HYXUle-g",
        "outputId": "d7090986-0edc-4dfe-e860-e63dfff74ee2"
      },
      "outputs": [
        {
          "output_type": "stream",
          "name": "stdout",
          "text": [
            "(233671, 50, 6)\n",
            "(233671,)\n",
            "(9, 50, 6)\n",
            "[761 315   0]\n"
          ]
        }
      ],
      "source": [
        "print(processed_train_data.shape)\n",
        "print(processed_train_targets.shape)\n",
        "print(processed_test_data.shape)\n",
        "print(true_rul)"
      ]
    },
    {
      "cell_type": "code",
      "source": [
        "import tensorflow as tf\n",
        "from tensorflow.keras import layers\n",
        "\n",
        "import numpy as np\n",
        "import pandas as pd\n",
        "from pathlib import Path\n",
        "import sklearn\n",
        "from sklearn.model_selection import train_test_split\n",
        "\n",
        "from sklearn.preprocessing import StandardScaler, MinMaxScaler\n",
        "from sklearn.metrics import mean_squared_error, mean_absolute_error\n",
        "import matplotlib.pyplot as plt\n",
        "\n",
        "np.random.seed(2627)"
      ],
      "metadata": {
        "id": "eKwqZ1mOrKGO"
      },
      "execution_count": null,
      "outputs": []
    },
    {
      "cell_type": "code",
      "source": [
        "def process_targets(data_length, early_rul = None):\n",
        "    \"\"\"\n",
        "    Takes datalength and earlyrul as input and\n",
        "    creates target rul.\n",
        "    \"\"\"\n",
        "    if early_rul == None:\n",
        "        return np.arange(data_length-1, -1, -1)\n",
        "    else:\n",
        "        early_rul_duration = data_length - early_rul\n",
        "        if early_rul_duration <= 0:\n",
        "            return np.arange(data_length-1, -1, -1)\n",
        "        else:\n",
        "            return np.append(early_rul*np.ones(shape = (early_rul_duration,)), np.arange(early_rul-1, -1, -1))"
      ],
      "metadata": {
        "id": "AICVkzHrtbUT"
      },
      "execution_count": null,
      "outputs": []
    },
    {
      "cell_type": "code",
      "source": [
        "def process_test_data(test_data_for_an_engine, window_length, shift, num_test_windows = 1):\n",
        "    \"\"\" This function takes test data for an engine as first input. The next two inputs\n",
        "    window_length and shift are same as other functins.\n",
        "\n",
        "    Finally it takes num_test_windows as the last input. num_test_windows sets how many examplles we\n",
        "    want from test data (from last). By default it extracts only the last example.\n",
        "\n",
        "    The function returns last examples, number of last examples (a scaler), a mask, and test_decoder sequence as output.\n",
        "    We need the second output later. If we are extracting more than 1 last examples, we have to\n",
        "    average their prediction results. The second scaler halps us do just that.\n",
        "    \"\"\"\n",
        "    if len(test_data_for_an_engine) < window_length:\n",
        "        mask_length = window_length - len(test_data_for_an_engine)\n",
        "        batched_test_data_for_an_engine = np.concatenate((test_data_for_an_engine,\n",
        "                                                          np.zeros((mask_length, test_data_for_an_engine.shape[1]))))\n",
        "        mask = np.concatenate((np.repeat([True], len(test_data_for_an_engine)), np.repeat([False], mask_length)))\n",
        "        num_test_windows = 1    # This has to be 1 as number of data points is less than window length\n",
        "        return batched_test_data_for_an_engine[np.newaxis, :], num_test_windows, mask[np.newaxis, :]\n",
        "\n",
        "    else:\n",
        "        max_num_test_batches = int(np.floor((len(test_data_for_an_engine) - window_length)/shift)) + 1\n",
        "\n",
        "        if max_num_test_batches < num_test_windows:\n",
        "            required_len = (max_num_test_batches -1)* shift + window_length\n",
        "            batched_test_data_for_an_engine = process_input_data_with_targets(test_data_for_an_engine[-required_len:, :],\n",
        "                                                                              target_data = None,\n",
        "                                                                              window_length = window_length, shift = shift)\n",
        "            m, n = batched_test_data_for_an_engine.shape[0], batched_test_data_for_an_engine.shape[1]\n",
        "            mask = np.repeat([True], m * n).reshape(m, n)\n",
        "            return batched_test_data_for_an_engine, max_num_test_batches, mask\n",
        "\n",
        "        else:\n",
        "            required_len = (num_test_windows - 1) * shift + window_length\n",
        "            batched_test_data_for_an_engine = process_input_data_with_targets(test_data_for_an_engine[-required_len:, :],\n",
        "                                                                              target_data = None,\n",
        "                                                                              window_length = window_length, shift = shift)\n",
        "            m, n = batched_test_data_for_an_engine.shape[0], batched_test_data_for_an_engine.shape[1]\n",
        "            mask = np.repeat([True], m * n).reshape(m, n)\n",
        "            return batched_test_data_for_an_engine, num_test_windows, mask"
      ],
      "metadata": {
        "id": "YlNbGkevs2UE"
      },
      "execution_count": null,
      "outputs": []
    },
    {
      "cell_type": "code",
      "source": [
        "processed_train_data, processed_val_data, processed_train_targets, processed_val_targets = train_test_split(processed_train_data,\n",
        "                                                                                                            processed_train_targets,\n",
        "                                                                                                            test_size = 0.3,\n",
        "                                                                                                            shuffle=False)\n",
        "print(\"Processed train data shape: \", processed_train_data.shape)\n",
        "print(\"Processed validation data shape: \", processed_val_data.shape)\n",
        "print(\"Processed train targets shape: \", processed_train_targets.shape)\n",
        "print(\"Processed validation targets shape: \", processed_val_targets.shape)"
      ],
      "metadata": {
        "colab": {
          "base_uri": "https://localhost:8080/"
        },
        "id": "U3ty_9tArKI9",
        "outputId": "c33fcc31-69af-4136-a0fb-b4353dc66466"
      },
      "execution_count": null,
      "outputs": [
        {
          "output_type": "stream",
          "name": "stdout",
          "text": [
            "Processed train data shape:  (6542, 50, 6)\n",
            "Processed validation data shape:  (2805, 50, 6)\n",
            "Processed train targets shape:  (6542,)\n",
            "Processed validation targets shape:  (2805,)\n"
          ]
        }
      ]
    },
    {
      "cell_type": "code",
      "source": [
        "processed_train_targets[10000]"
      ],
      "metadata": {
        "colab": {
          "base_uri": "https://localhost:8080/"
        },
        "id": "-RyeTDvaXCsf",
        "outputId": "54a88266-2852-4a08-a52b-2d29c604bcd4"
      },
      "execution_count": null,
      "outputs": [
        {
          "output_type": "execute_result",
          "data": {
            "text/plain": [
              "2896.0"
            ]
          },
          "metadata": {},
          "execution_count": 42
        }
      ]
    },
    {
      "cell_type": "code",
      "source": [
        "def create_compiled_model():\n",
        "    model = Sequential([\n",
        "        layers.Conv1D(32, 7, activation = \"relu\", input_shape = (window_length, processed_train_data.shape[2])),\n",
        "        layers.Conv1D(64, 5, activation = \"relu\"),\n",
        "        layers.Conv1D(128, 3, activation = \"relu\"),\n",
        "        layers.GlobalAveragePooling1D(),\n",
        "        layers.Dense(32, activation = \"relu\"),\n",
        "        layers.Dense(64, activation = \"relu\"),\n",
        "        layers.Dense(1)\n",
        "    ])\n",
        "    model.compile(loss = \"mse\", optimizer = tf.keras.optimizers.Adam())\n",
        "    return model"
      ],
      "metadata": {
        "id": "vMkFlcj_uCua"
      },
      "execution_count": null,
      "outputs": []
    },
    {
      "cell_type": "code",
      "source": [
        "def scheduler(epoch):\n",
        "    if epoch < 10:\n",
        "        return 0.005\n",
        "    else:\n",
        "        return 0.0001"
      ],
      "metadata": {
        "id": "mSDe3waSuCxi"
      },
      "execution_count": null,
      "outputs": []
    },
    {
      "cell_type": "code",
      "source": [
        "callback = tf.keras.callbacks.LearningRateScheduler(scheduler, verbose = 1)"
      ],
      "metadata": {
        "id": "8hxCF_CluKYp"
      },
      "execution_count": null,
      "outputs": []
    },
    {
      "cell_type": "code",
      "source": [
        "import tensorflow as tf\n",
        "from tensorflow.keras import layers\n",
        "from tensorflow.keras.models import Sequential\n",
        "\n",
        "import numpy as np\n",
        "import pandas as pd\n",
        "import sklearn\n",
        "from sklearn.model_selection import train_test_split\n",
        "\n",
        "from sklearn.preprocessing import MinMaxScaler, StandardScaler\n",
        "from sklearn.metrics import mean_squared_error\n",
        "import matplotlib.pyplot as plt\n",
        "\n",
        "np.random.seed(34)"
      ],
      "metadata": {
        "id": "nQHqLLs6ud04"
      },
      "execution_count": null,
      "outputs": []
    },
    {
      "cell_type": "code",
      "source": [
        "model = create_compiled_model()\n",
        "history = model.fit(processed_train_data, processed_train_targets, epochs = 20,\n",
        "                    validation_data = (processed_val_data, processed_val_targets),\n",
        "\n",
        "                    batch_size = 128, verbose = 2)"
      ],
      "metadata": {
        "id": "8JsVPUH8uKcy",
        "colab": {
          "base_uri": "https://localhost:8080/"
        },
        "outputId": "cdbaa147-3b0b-484d-97bb-c32db1215117"
      },
      "execution_count": null,
      "outputs": [
        {
          "output_type": "stream",
          "name": "stdout",
          "text": [
            "Epoch 1/20\n",
            "52/52 - 3s - loss: 2205184.7500 - val_loss: 639612.5625 - 3s/epoch - 50ms/step\n",
            "Epoch 2/20\n",
            "52/52 - 0s - loss: 705792.5625 - val_loss: 1046199.0625 - 264ms/epoch - 5ms/step\n",
            "Epoch 3/20\n",
            "52/52 - 0s - loss: 681024.1875 - val_loss: 907551.8750 - 271ms/epoch - 5ms/step\n",
            "Epoch 4/20\n",
            "52/52 - 0s - loss: 683450.2500 - val_loss: 1071323.1250 - 262ms/epoch - 5ms/step\n",
            "Epoch 5/20\n",
            "52/52 - 0s - loss: 681937.5000 - val_loss: 943759.5000 - 271ms/epoch - 5ms/step\n",
            "Epoch 6/20\n",
            "52/52 - 0s - loss: 681742.9375 - val_loss: 982993.3750 - 277ms/epoch - 5ms/step\n",
            "Epoch 7/20\n",
            "52/52 - 0s - loss: 682019.6875 - val_loss: 966275.8125 - 293ms/epoch - 6ms/step\n",
            "Epoch 8/20\n",
            "52/52 - 0s - loss: 680950.3125 - val_loss: 1080574.8750 - 274ms/epoch - 5ms/step\n",
            "Epoch 9/20\n",
            "52/52 - 0s - loss: 681526.8750 - val_loss: 1161687.2500 - 282ms/epoch - 5ms/step\n",
            "Epoch 10/20\n",
            "52/52 - 0s - loss: 682721.1875 - val_loss: 1135745.6250 - 378ms/epoch - 7ms/step\n",
            "Epoch 11/20\n",
            "52/52 - 0s - loss: 680811.0625 - val_loss: 973266.8125 - 482ms/epoch - 9ms/step\n",
            "Epoch 12/20\n",
            "52/52 - 0s - loss: 684844.6875 - val_loss: 1034218.9375 - 387ms/epoch - 7ms/step\n",
            "Epoch 13/20\n",
            "52/52 - 0s - loss: 680654.0625 - val_loss: 950961.3125 - 416ms/epoch - 8ms/step\n",
            "Epoch 14/20\n",
            "52/52 - 0s - loss: 682545.8750 - val_loss: 1122363.7500 - 394ms/epoch - 8ms/step\n",
            "Epoch 15/20\n",
            "52/52 - 0s - loss: 681144.6875 - val_loss: 1015037.3750 - 464ms/epoch - 9ms/step\n",
            "Epoch 16/20\n",
            "52/52 - 0s - loss: 681096.8125 - val_loss: 1085596.3750 - 390ms/epoch - 8ms/step\n",
            "Epoch 17/20\n",
            "52/52 - 0s - loss: 681341.4375 - val_loss: 1088455.6250 - 287ms/epoch - 6ms/step\n",
            "Epoch 18/20\n",
            "52/52 - 0s - loss: 679664.8125 - val_loss: 1014267.0625 - 268ms/epoch - 5ms/step\n",
            "Epoch 19/20\n",
            "52/52 - 0s - loss: 679774.0000 - val_loss: 1034529.3750 - 265ms/epoch - 5ms/step\n",
            "Epoch 20/20\n",
            "52/52 - 0s - loss: 682541.8125 - val_loss: 1086143.5000 - 290ms/epoch - 6ms/step\n"
          ]
        }
      ]
    },
    {
      "cell_type": "code",
      "source": [
        "plt.figure(figsize=(15,6))\n",
        "plt.plot(history.history['loss'], label='train', linewidth = 2.5)\n",
        "plt.plot(history.history['val_loss'], label='test',  linewidth = 2.5)\n",
        "plt.legend()\n",
        "plt.show()"
      ],
      "metadata": {
        "id": "jI-a14fvLlu1",
        "colab": {
          "base_uri": "https://localhost:8080/",
          "height": 537
        },
        "outputId": "e2761cd5-a1ee-40fd-afb5-6c4606b8219b"
      },
      "execution_count": null,
      "outputs": [
        {
          "output_type": "display_data",
          "data": {
            "text/plain": [
              "<Figure size 1500x600 with 1 Axes>"
            ],
            "image/png": "[encoded data removed]"
          },
          "metadata": {}
        }
      ]
    },
    {
      "cell_type": "code",
      "source": [
        "processed_train_targets"
      ],
      "metadata": {
        "colab": {
          "base_uri": "https://localhost:8080/"
        },
        "id": "o-uMKzUHOC5X",
        "outputId": "fabce872-42ab-4201-ac4c-d9bb72fe5e19"
      },
      "execution_count": null,
      "outputs": [
        {
          "output_type": "execute_result",
          "data": {
            "text/plain": [
              "array([3113., 3113., 3112., ...,  523.,  523.,  523.])"
            ]
          },
          "metadata": {},
          "execution_count": 159
        }
      ]
    },
    {
      "cell_type": "code",
      "source": [
        "rul_pred_scaled = model.predict(processed_test_data).reshape(-1)"
      ],
      "metadata": {
        "colab": {
          "base_uri": "https://localhost:8080/"
        },
        "id": "HZ6Ge-kzPAtO",
        "outputId": "3c02bece-d2e6-4fda-895a-ead12bc651d9"
      },
      "execution_count": null,
      "outputs": [
        {
          "output_type": "stream",
          "name": "stdout",
          "text": [
            "1/1 [==============================] - 0s 210ms/step\n"
          ]
        }
      ]
    },
    {
      "cell_type": "code",
      "source": [
        "rul_pred_scaled\n"
      ],
      "metadata": {
        "colab": {
          "base_uri": "https://localhost:8080/"
        },
        "id": "SvxbCnyVPAwF",
        "outputId": "064f31b8-2340-40a8-a7bc-ed4d7ffb2f98"
      },
      "execution_count": null,
      "outputs": [
        {
          "output_type": "execute_result",
          "data": {
            "text/plain": [
              "array([1293.1605, 1296.2406, 1278.4022, 1285.4474, 1259.5436, 1293.6566,\n",
              "       1344.0327, 1319.2026, 1349.467 , 1343.5472, 1346.3062, 1347.4852,\n",
              "       1347.5657, 1345.6166, 1097.9287], dtype=float32)"
            ]
          },
          "metadata": {},
          "execution_count": 161
        }
      ]
    },
    {
      "cell_type": "code",
      "source": [
        "plt.plot(rul_pred_scaled)"
      ],
      "metadata": {
        "colab": {
          "base_uri": "https://localhost:8080/",
          "height": 447
        },
        "id": "d3-nMDQpPA0F",
        "outputId": "4de06224-96de-4a7e-a594-0e675599c796"
      },
      "execution_count": null,
      "outputs": [
        {
          "output_type": "execute_result",
          "data": {
            "text/plain": [
              "[<matplotlib.lines.Line2D at 0x7b127e422590>]"
            ]
          },
          "metadata": {},
          "execution_count": 162
        },
        {
          "output_type": "display_data",
          "data": {
            "text/plain": [
              "<Figure size 640x480 with 1 Axes>"
            ],
            "image/png": "[encoded data removed]"
          },
          "metadata": {}
        }
      ]
    },
    {
      "cell_type": "code",
      "source": [
        "preds_for_each_engine = np.split(rul_pred_scaled, np.cumsum(num_test_windows_list)[:-1])\n",
        "mean_pred_for_each_engine = [np.average(ruls_for_each_engine, weights = np.repeat(1/num_windows, num_windows))\n",
        "                             for ruls_for_each_engine, num_windows in zip(preds_for_each_engine, num_test_windows_list)]\n",
        "RMSE = np.sqrt(mean_squared_error(true_rul, mean_pred_for_each_engine))\n",
        "print(\"RMSE: \", RMSE)"
      ],
      "metadata": {
        "colab": {
          "base_uri": "https://localhost:8080/"
        },
        "id": "M-K8AN1DOC8l",
        "outputId": "43b43574-22b8-4b0a-f2a7-4f8b23eb21ce"
      },
      "execution_count": null,
      "outputs": [
        {
          "output_type": "stream",
          "name": "stdout",
          "text": [
            "RMSE:  997.3914178193522\n"
          ]
        }
      ]
    },
    {
      "cell_type": "code",
      "source": [
        "mean_pred_for_each_engine"
      ],
      "metadata": {
        "colab": {
          "base_uri": "https://localhost:8080/"
        },
        "id": "0PiPxUTjP-DA",
        "outputId": "f9dc7a86-abd8-4b27-d931-4e197aeb9ff8"
      },
      "execution_count": null,
      "outputs": [
        {
          "output_type": "execute_result",
          "data": {
            "text/plain": [
              "[1282.5588623046874, 1329.9812500000003, 1296.9804687500002]"
            ]
          },
          "metadata": {},
          "execution_count": 164
        }
      ]
    },
    {
      "cell_type": "code",
      "source": [
        "b=list(mean_pred_for_each_engine)"
      ],
      "metadata": {
        "id": "1MiGNj7wbdPi"
      },
      "execution_count": null,
      "outputs": []
    },
    {
      "cell_type": "code",
      "source": [
        "b.reverse()"
      ],
      "metadata": {
        "id": "0JRQETOvboKr"
      },
      "execution_count": null,
      "outputs": []
    },
    {
      "cell_type": "code",
      "source": [
        "# Plot true and predicted RUL values\n",
        "plt.plot(true_rul, label = \"True RUL\", color = \"red\")\n",
        "plt.plot(mean_pred_for_each_engine, label = \"Pred RUL\", color = \"blue\")\n",
        "plt.legend()\n",
        "plt.show()"
      ],
      "metadata": {
        "colab": {
          "base_uri": "https://localhost:8080/",
          "height": 430
        },
        "id": "nEzY5MhTOC_t",
        "outputId": "7ff198ff-c0a0-49b6-fb70-b52a4eba5a69"
      },
      "execution_count": null,
      "outputs": [
        {
          "output_type": "display_data",
          "data": {
            "text/plain": [
              "<Figure size 640x480 with 1 Axes>"
            ],
            "image/png": "[encoded data removed]"
          },
          "metadata": {}
        }
      ]
    },
    {
      "cell_type": "code",
      "source": [],
      "metadata": {
        "id": "ICXcCxr7ODCV"
      },
      "execution_count": null,
      "outputs": []
    },
    {
      "cell_type": "code",
      "source": [],
      "metadata": {
        "id": "PHIszXhwODF3"
      },
      "execution_count": null,
      "outputs": []
    },
    {
      "cell_type": "code",
      "source": [],
      "metadata": {
        "id": "8RYpae-RODJe"
      },
      "execution_count": null,
      "outputs": []
    },
    {
      "cell_type": "code",
      "source": [
        "target_scaler = MinMaxScaler(feature_range = (0, 1))\n",
        "processed_train_targets = target_scaler.fit_transform(processed_train_targets.reshape(-1, 1)).reshape(-1)"
      ],
      "metadata": {
        "id": "NHa8W_yT5nd-"
      },
      "execution_count": null,
      "outputs": []
    },
    {
      "cell_type": "code",
      "source": [
        "processed_train_targets"
      ],
      "metadata": {
        "colab": {
          "base_uri": "https://localhost:8080/"
        },
        "id": "vJNybZsvlsRO",
        "outputId": "494f5789-6646-498d-9814-0c5b57987039"
      },
      "execution_count": null,
      "outputs": [
        {
          "output_type": "execute_result",
          "data": {
            "text/plain": [
              "array([1.        , 1.        , 1.        , ..., 0.09797623, 0.09797623,\n",
              "       0.09797623])"
            ]
          },
          "metadata": {},
          "execution_count": 153
        }
      ]
    },
    {
      "cell_type": "code",
      "source": [
        "rul_pred_scaled = model.predict(processed_test_data).reshape(-1)\n",
        "rul_pred = target_scaler.inverse_transform(rul_pred_scaled.reshape(-1, 1)).reshape(-1)\n",
        "\n",
        "preds_for_each_engine = np.split(rul_pred, np.cumsum(num_test_windows_list)[:-1])\n",
        "mean_pred_for_each_engine = [np.average(ruls_for_each_engine, weights = np.repeat(1/num_windows, num_windows))\n",
        "                             for ruls_for_each_engine, num_windows in zip(preds_for_each_engine, num_test_windows_list)]\n",
        "RMSE = np.sqrt(mean_squared_error(true_rul, mean_pred_for_each_engine))\n",
        "print(\"RMSE: \", RMSE)"
      ],
      "metadata": {
        "colab": {
          "base_uri": "https://localhost:8080/"
        },
        "id": "uR8D2C3juKfz",
        "outputId": "f1e3f11f-ad9e-4953-e1e6-c362683a8cd0"
      },
      "execution_count": null,
      "outputs": [
        {
          "output_type": "stream",
          "name": "stdout",
          "text": [
            "1/1 [==============================] - 0s 87ms/step\n",
            "RMSE:  3155106.2276698714\n"
          ]
        }
      ]
    },
    {
      "cell_type": "code",
      "source": [
        "rul_pred_scaled = model.predict(processed_test_data).reshape(-1)\n",
        "rul_pred = target_scaler.inverse_transform(rul_pred_scaled.reshape(-1, 1)).reshape(-1)\n",
        "\n",
        "preds_for_each_engine = np.split(rul_pred_scaled, np.cumsum(num_test_windows_list)[:-1])\n",
        "mean_pred_for_each_engine = [np.average(ruls_for_each_engine, weights = np.repeat(1/num_windows, num_windows))\n",
        "                             for ruls_for_each_engine, num_windows in zip(preds_for_each_engine, num_test_windows_list)]\n",
        "RMSE = np.sqrt(mean_squared_error(true_rul, mean_pred_for_each_engine))\n",
        "print(\"RMSE: \", RMSE)"
      ],
      "metadata": {
        "colab": {
          "base_uri": "https://localhost:8080/"
        },
        "id": "s8Q-NVEtf21F",
        "outputId": "bfac43c1-835f-4948-9db8-3ec01be4302b"
      },
      "execution_count": null,
      "outputs": [
        {
          "output_type": "stream",
          "name": "stdout",
          "text": [
            "1/1 [==============================] - 0s 34ms/step\n",
            "RMSE:  1062.002171058336\n"
          ]
        }
      ]
    },
    {
      "cell_type": "code",
      "source": [
        "rul_pred"
      ],
      "metadata": {
        "colab": {
          "base_uri": "https://localhost:8080/"
        },
        "id": "8qWITmW55zYt",
        "outputId": "4676bf86-cbb4-423a-e7c5-7f9225ceb82e"
      },
      "execution_count": null,
      "outputs": [
        {
          "output_type": "execute_result",
          "data": {
            "text/plain": [
              "array([  45264.215,   30824.146,   12120.07 , 1779770.   , 1785283.5  ,\n",
              "       1804869.9  , 5039898.5  , 5104133.5  , 5346076.5  ], dtype=float32)"
            ]
          },
          "metadata": {},
          "execution_count": 161
        }
      ]
    },
    {
      "cell_type": "code",
      "source": [
        "rul_pred_scaled"
      ],
      "metadata": {
        "colab": {
          "base_uri": "https://localhost:8080/"
        },
        "id": "COPL6Sgf5uOW",
        "outputId": "00a566a6-8d3a-41c0-dcd8-e7ff5181448f"
      },
      "execution_count": null,
      "outputs": [
        {
          "output_type": "execute_result",
          "data": {
            "text/plain": [
              "array([  14.540383,    9.90175 ,    3.893373,  571.7218  ,  573.4929  ,\n",
              "        579.7847  , 1618.9844  , 1639.6189  , 1717.339   ], dtype=float32)"
            ]
          },
          "metadata": {},
          "execution_count": 162
        }
      ]
    },
    {
      "cell_type": "code",
      "source": [
        "indices_of_last_examples = np.cumsum(num_test_windows_list) - 1\n",
        "preds_for_last_example = np.concatenate(preds_for_each_engine)[indices_of_last_examples]\n",
        "\n",
        "RMSE_new = np.sqrt(mean_squared_error(true_rul, preds_for_last_example))\n",
        "print(\"RMSE (Taking only last examples): \", RMSE_new)"
      ],
      "metadata": {
        "colab": {
          "base_uri": "https://localhost:8080/"
        },
        "id": "jWeuIIi0uKhy",
        "outputId": "95342270-5787-4a9e-f470-602f574b3ed1"
      },
      "execution_count": null,
      "outputs": [
        {
          "output_type": "stream",
          "name": "stdout",
          "text": [
            "RMSE (Taking only last examples):  1094.3147934311896\n"
          ]
        }
      ]
    },
    {
      "cell_type": "code",
      "source": [
        "b=list(preds_for_last_example)"
      ],
      "metadata": {
        "id": "L0d3Nc1-pb66"
      },
      "execution_count": null,
      "outputs": []
    },
    {
      "cell_type": "code",
      "source": [
        "b.reverse()"
      ],
      "metadata": {
        "id": "XKGmdQPYphqx"
      },
      "execution_count": null,
      "outputs": []
    },
    {
      "cell_type": "code",
      "source": [
        "# Plot true and predicted RUL values\n",
        "plt.plot(true_rul, label = \"True RUL\", color = \"red\")\n",
        "plt.plot(b, label = \"Pred RUL\", color = \"blue\")\n",
        "plt.legend()\n",
        "plt.show()"
      ],
      "metadata": {
        "colab": {
          "base_uri": "https://localhost:8080/",
          "height": 430
        },
        "id": "fyBeEOl0uKkz",
        "outputId": "5bc9c7f2-3c56-4666-b72c-280ac7a04afb"
      },
      "execution_count": null,
      "outputs": [
        {
          "output_type": "display_data",
          "data": {
            "text/plain": [
              "<Figure size 640x480 with 1 Axes>"
            ],
            "image/png": "[encoded data removed]"
          },
          "metadata": {}
        }
      ]
    },
    {
      "cell_type": "code",
      "source": [
        "preds_for_last_example"
      ],
      "metadata": {
        "colab": {
          "base_uri": "https://localhost:8080/"
        },
        "id": "2ja093n9TNoM",
        "outputId": "415375de-f9b7-4315-b351-0ccfee8fa976"
      },
      "execution_count": null,
      "outputs": [
        {
          "output_type": "execute_result",
          "data": {
            "text/plain": [
              "array([ 0.2661909 ,  0.342589  , -0.01005176], dtype=float32)"
            ]
          },
          "metadata": {},
          "execution_count": 135
        }
      ]
    },
    {
      "cell_type": "code",
      "source": [
        "train_dataset = tf.data.Dataset.from_tensor_slices((processed_train_data, processed_train_targets)).batch(128).prefetch(tf.data.AUTOTUNE)\n",
        "val_dataset = tf.data.Dataset.from_tensor_slices((processed_val_data, processed_val_targets)).batch(128).prefetch(tf.data.AUTOTUNE)\n",
        "test_dataset = tf.data.Dataset.from_tensor_slices((processed_test_data, mask)).batch(128).prefetch(tf.data.AUTOTUNE)"
      ],
      "metadata": {
        "colab": {
          "base_uri": "https://localhost:8080/",
          "height": 176
        },
        "id": "n1ahaA2KrKMF",
        "outputId": "bf0deae5-013c-4ad3-f8b4-1f59a9c97375"
      },
      "execution_count": null,
      "outputs": [
        {
          "output_type": "error",
          "ename": "NameError",
          "evalue": "name 'mask' is not defined",
          "traceback": [
            "\u001b[0;31m---------------------------------------------------------------------------\u001b[0m",
            "\u001b[0;31mNameError\u001b[0m                                 Traceback (most recent call last)",
            "\u001b[0;32m<ipython-input-87-ce1b613b3a24>\u001b[0m in \u001b[0;36m<cell line: 3>\u001b[0;34m()\u001b[0m\n\u001b[1;32m      1\u001b[0m \u001b[0mtrain_dataset\u001b[0m \u001b[0;34m=\u001b[0m \u001b[0mtf\u001b[0m\u001b[0;34m.\u001b[0m\u001b[0mdata\u001b[0m\u001b[0;34m.\u001b[0m\u001b[0mDataset\u001b[0m\u001b[0;34m.\u001b[0m\u001b[0mfrom_tensor_slices\u001b[0m\u001b[0;34m(\u001b[0m\u001b[0;34m(\u001b[0m\u001b[0mprocessed_train_data\u001b[0m\u001b[0;34m,\u001b[0m \u001b[0mprocessed_train_targets\u001b[0m\u001b[0;34m)\u001b[0m\u001b[0;34m)\u001b[0m\u001b[0;34m.\u001b[0m\u001b[0mbatch\u001b[0m\u001b[0;34m(\u001b[0m\u001b[0;36m128\u001b[0m\u001b[0;34m)\u001b[0m\u001b[0;34m.\u001b[0m\u001b[0mprefetch\u001b[0m\u001b[0;34m(\u001b[0m\u001b[0mtf\u001b[0m\u001b[0;34m.\u001b[0m\u001b[0mdata\u001b[0m\u001b[0;34m.\u001b[0m\u001b[0mAUTOTUNE\u001b[0m\u001b[0;34m)\u001b[0m\u001b[0;34m\u001b[0m\u001b[0;34m\u001b[0m\u001b[0m\n\u001b[1;32m      2\u001b[0m \u001b[0mval_dataset\u001b[0m \u001b[0;34m=\u001b[0m \u001b[0mtf\u001b[0m\u001b[0;34m.\u001b[0m\u001b[0mdata\u001b[0m\u001b[0;34m.\u001b[0m\u001b[0mDataset\u001b[0m\u001b[0;34m.\u001b[0m\u001b[0mfrom_tensor_slices\u001b[0m\u001b[0;34m(\u001b[0m\u001b[0;34m(\u001b[0m\u001b[0mprocessed_val_data\u001b[0m\u001b[0;34m,\u001b[0m \u001b[0mprocessed_val_targets\u001b[0m\u001b[0;34m)\u001b[0m\u001b[0;34m)\u001b[0m\u001b[0;34m.\u001b[0m\u001b[0mbatch\u001b[0m\u001b[0;34m(\u001b[0m\u001b[0;36m128\u001b[0m\u001b[0;34m)\u001b[0m\u001b[0;34m.\u001b[0m\u001b[0mprefetch\u001b[0m\u001b[0;34m(\u001b[0m\u001b[0mtf\u001b[0m\u001b[0;34m.\u001b[0m\u001b[0mdata\u001b[0m\u001b[0;34m.\u001b[0m\u001b[0mAUTOTUNE\u001b[0m\u001b[0;34m)\u001b[0m\u001b[0;34m\u001b[0m\u001b[0;34m\u001b[0m\u001b[0m\n\u001b[0;32m----> 3\u001b[0;31m \u001b[0mtest_dataset\u001b[0m \u001b[0;34m=\u001b[0m \u001b[0mtf\u001b[0m\u001b[0;34m.\u001b[0m\u001b[0mdata\u001b[0m\u001b[0;34m.\u001b[0m\u001b[0mDataset\u001b[0m\u001b[0;34m.\u001b[0m\u001b[0mfrom_tensor_slices\u001b[0m\u001b[0;34m(\u001b[0m\u001b[0;34m(\u001b[0m\u001b[0mprocessed_test_data\u001b[0m\u001b[0;34m,\u001b[0m \u001b[0mmask\u001b[0m\u001b[0;34m)\u001b[0m\u001b[0;34m)\u001b[0m\u001b[0;34m.\u001b[0m\u001b[0mbatch\u001b[0m\u001b[0;34m(\u001b[0m\u001b[0;36m128\u001b[0m\u001b[0;34m)\u001b[0m\u001b[0;34m.\u001b[0m\u001b[0mprefetch\u001b[0m\u001b[0;34m(\u001b[0m\u001b[0mtf\u001b[0m\u001b[0;34m.\u001b[0m\u001b[0mdata\u001b[0m\u001b[0;34m.\u001b[0m\u001b[0mAUTOTUNE\u001b[0m\u001b[0;34m)\u001b[0m\u001b[0;34m\u001b[0m\u001b[0;34m\u001b[0m\u001b[0m\n\u001b[0m",
            "\u001b[0;31mNameError\u001b[0m: name 'mask' is not defined"
          ]
        }
      ]
    },
    {
      "cell_type": "code",
      "source": [],
      "metadata": {
        "id": "KJaw1GfyrKPd"
      },
      "execution_count": null,
      "outputs": []
    },
    {
      "cell_type": "code",
      "source": [],
      "metadata": {
        "id": "ruzWpRQfrQAE"
      },
      "execution_count": null,
      "outputs": []
    },
    {
      "cell_type": "code",
      "source": [],
      "metadata": {
        "id": "ilGDAL9IrP9b"
      },
      "execution_count": null,
      "outputs": []
    },
    {
      "cell_type": "code",
      "source": [],
      "metadata": {
        "id": "vWB_n031rP6K"
      },
      "execution_count": null,
      "outputs": []
    },
    {
      "cell_type": "code",
      "source": [],
      "metadata": {
        "id": "Ss_R29R3rP3a"
      },
      "execution_count": null,
      "outputs": []
    },
    {
      "cell_type": "code",
      "source": [],
      "metadata": {
        "id": "ta24o-tdrPkq"
      },
      "execution_count": null,
      "outputs": []
    },
    {
      "cell_type": "code",
      "source": [],
      "metadata": {
        "id": "yEJJ2RBFrKSz"
      },
      "execution_count": null,
      "outputs": []
    },
    {
      "cell_type": "markdown",
      "metadata": {
        "id": "Zf4wK0Cqle-g"
      },
      "source": [
        "### How to scale the whole dataset?\n",
        "\n",
        "In the previous cells, we showed the procedure to scale data enginewise. But for some applications, we may need to scale the full training and test dataset. This can be achieved as follows. In the cell below, we will use `StandardScaling` to scale the full training and test set."
      ]
    },
    {
      "cell_type": "code",
      "execution_count": null,
      "metadata": {
        "colab": {
          "base_uri": "https://localhost:8080/",
          "height": 356
        },
        "id": "JvTeUY_hle-g",
        "outputId": "1eab9b26-5d88-4b35-e1c6-462f9d0d83ac"
      },
      "outputs": [
        {
          "output_type": "error",
          "ename": "FileNotFoundError",
          "evalue": "[Errno 2] No such file or directory: '/home/biswajit/data/cmapss_data/test_FD001.txt'",
          "traceback": [
            "\u001b[0;31m---------------------------------------------------------------------------\u001b[0m",
            "\u001b[0;31mFileNotFoundError\u001b[0m                         Traceback (most recent call last)",
            "\u001b[0;32m<ipython-input-52-e6a44d2723b1>\u001b[0m in \u001b[0;36m<cell line: 2>\u001b[0;34m()\u001b[0m\n\u001b[1;32m      1\u001b[0m \u001b[0;31m#train_data = pd.read_csv(\"/home/biswajit/data/cmapss_data/train_FD001.txt\", sep= \"\\s+\", header = None)\u001b[0m\u001b[0;34m\u001b[0m\u001b[0;34m\u001b[0m\u001b[0m\n\u001b[0;32m----> 2\u001b[0;31m \u001b[0mtest_data\u001b[0m \u001b[0;34m=\u001b[0m \u001b[0mpd\u001b[0m\u001b[0;34m.\u001b[0m\u001b[0mread_csv\u001b[0m\u001b[0;34m(\u001b[0m\u001b[0;34m\"/home/biswajit/data/cmapss_data/test_FD001.txt\"\u001b[0m\u001b[0;34m,\u001b[0m \u001b[0msep\u001b[0m \u001b[0;34m=\u001b[0m \u001b[0;34m\"\\s+\"\u001b[0m\u001b[0;34m,\u001b[0m \u001b[0mheader\u001b[0m \u001b[0;34m=\u001b[0m \u001b[0;32mNone\u001b[0m\u001b[0;34m)\u001b[0m\u001b[0;34m\u001b[0m\u001b[0;34m\u001b[0m\u001b[0m\n\u001b[0m\u001b[1;32m      3\u001b[0m \u001b[0mtrue_rul\u001b[0m \u001b[0;34m=\u001b[0m \u001b[0mpd\u001b[0m\u001b[0;34m.\u001b[0m\u001b[0mread_csv\u001b[0m\u001b[0;34m(\u001b[0m\u001b[0;34m\"/home/biswajit/data/cmapss_data/RUL_FD001.txt\"\u001b[0m\u001b[0;34m,\u001b[0m \u001b[0msep\u001b[0m \u001b[0;34m=\u001b[0m \u001b[0;34m'\\s+'\u001b[0m\u001b[0;34m,\u001b[0m \u001b[0mheader\u001b[0m \u001b[0;34m=\u001b[0m \u001b[0;32mNone\u001b[0m\u001b[0;34m)\u001b[0m\u001b[0;34m\u001b[0m\u001b[0;34m\u001b[0m\u001b[0m\n\u001b[1;32m      4\u001b[0m \u001b[0;34m\u001b[0m\u001b[0m\n\u001b[1;32m      5\u001b[0m \u001b[0mwindow_length\u001b[0m \u001b[0;34m=\u001b[0m \u001b[0;36m30\u001b[0m\u001b[0;34m\u001b[0m\u001b[0;34m\u001b[0m\u001b[0m\n",
            "\u001b[0;32m/usr/local/lib/python3.10/dist-packages/pandas/io/parsers/readers.py\u001b[0m in \u001b[0;36mread_csv\u001b[0;34m(filepath_or_buffer, sep, delimiter, header, names, index_col, usecols, dtype, engine, converters, true_values, false_values, skipinitialspace, skiprows, skipfooter, nrows, na_values, keep_default_na, na_filter, verbose, skip_blank_lines, parse_dates, infer_datetime_format, keep_date_col, date_parser, date_format, dayfirst, cache_dates, iterator, chunksize, compression, thousands, decimal, lineterminator, quotechar, quoting, doublequote, escapechar, comment, encoding, encoding_errors, dialect, on_bad_lines, delim_whitespace, low_memory, memory_map, float_precision, storage_options, dtype_backend)\u001b[0m\n\u001b[1;32m    910\u001b[0m     \u001b[0mkwds\u001b[0m\u001b[0;34m.\u001b[0m\u001b[0mupdate\u001b[0m\u001b[0;34m(\u001b[0m\u001b[0mkwds_defaults\u001b[0m\u001b[0;34m)\u001b[0m\u001b[0;34m\u001b[0m\u001b[0;34m\u001b[0m\u001b[0m\n\u001b[1;32m    911\u001b[0m \u001b[0;34m\u001b[0m\u001b[0m\n\u001b[0;32m--> 912\u001b[0;31m     \u001b[0;32mreturn\u001b[0m \u001b[0m_read\u001b[0m\u001b[0;34m(\u001b[0m\u001b[0mfilepath_or_buffer\u001b[0m\u001b[0;34m,\u001b[0m \u001b[0mkwds\u001b[0m\u001b[0;34m)\u001b[0m\u001b[0;34m\u001b[0m\u001b[0;34m\u001b[0m\u001b[0m\n\u001b[0m\u001b[1;32m    913\u001b[0m \u001b[0;34m\u001b[0m\u001b[0m\n\u001b[1;32m    914\u001b[0m \u001b[0;34m\u001b[0m\u001b[0m\n",
            "\u001b[0;32m/usr/local/lib/python3.10/dist-packages/pandas/io/parsers/readers.py\u001b[0m in \u001b[0;36m_read\u001b[0;34m(filepath_or_buffer, kwds)\u001b[0m\n\u001b[1;32m    575\u001b[0m \u001b[0;34m\u001b[0m\u001b[0m\n\u001b[1;32m    576\u001b[0m     \u001b[0;31m# Create the parser.\u001b[0m\u001b[0;34m\u001b[0m\u001b[0;34m\u001b[0m\u001b[0m\n\u001b[0;32m--> 577\u001b[0;31m     \u001b[0mparser\u001b[0m \u001b[0;34m=\u001b[0m \u001b[0mTextFileReader\u001b[0m\u001b[0;34m(\u001b[0m\u001b[0mfilepath_or_buffer\u001b[0m\u001b[0;34m,\u001b[0m \u001b[0;34m**\u001b[0m\u001b[0mkwds\u001b[0m\u001b[0;34m)\u001b[0m\u001b[0;34m\u001b[0m\u001b[0;34m\u001b[0m\u001b[0m\n\u001b[0m\u001b[1;32m    578\u001b[0m \u001b[0;34m\u001b[0m\u001b[0m\n\u001b[1;32m    579\u001b[0m     \u001b[0;32mif\u001b[0m \u001b[0mchunksize\u001b[0m \u001b[0;32mor\u001b[0m \u001b[0miterator\u001b[0m\u001b[0;34m:\u001b[0m\u001b[0;34m\u001b[0m\u001b[0;34m\u001b[0m\u001b[0m\n",
            "\u001b[0;32m/usr/local/lib/python3.10/dist-packages/pandas/io/parsers/readers.py\u001b[0m in \u001b[0;36m__init__\u001b[0;34m(self, f, engine, **kwds)\u001b[0m\n\u001b[1;32m   1405\u001b[0m \u001b[0;34m\u001b[0m\u001b[0m\n\u001b[1;32m   1406\u001b[0m         \u001b[0mself\u001b[0m\u001b[0;34m.\u001b[0m\u001b[0mhandles\u001b[0m\u001b[0;34m:\u001b[0m \u001b[0mIOHandles\u001b[0m \u001b[0;34m|\u001b[0m \u001b[0;32mNone\u001b[0m \u001b[0;34m=\u001b[0m \u001b[0;32mNone\u001b[0m\u001b[0;34m\u001b[0m\u001b[0;34m\u001b[0m\u001b[0m\n\u001b[0;32m-> 1407\u001b[0;31m         \u001b[0mself\u001b[0m\u001b[0;34m.\u001b[0m\u001b[0m_engine\u001b[0m \u001b[0;34m=\u001b[0m \u001b[0mself\u001b[0m\u001b[0;34m.\u001b[0m\u001b[0m_make_engine\u001b[0m\u001b[0;34m(\u001b[0m\u001b[0mf\u001b[0m\u001b[0;34m,\u001b[0m \u001b[0mself\u001b[0m\u001b[0;34m.\u001b[0m\u001b[0mengine\u001b[0m\u001b[0;34m)\u001b[0m\u001b[0;34m\u001b[0m\u001b[0;34m\u001b[0m\u001b[0m\n\u001b[0m\u001b[1;32m   1408\u001b[0m \u001b[0;34m\u001b[0m\u001b[0m\n\u001b[1;32m   1409\u001b[0m     \u001b[0;32mdef\u001b[0m \u001b[0mclose\u001b[0m\u001b[0;34m(\u001b[0m\u001b[0mself\u001b[0m\u001b[0;34m)\u001b[0m \u001b[0;34m->\u001b[0m \u001b[0;32mNone\u001b[0m\u001b[0;34m:\u001b[0m\u001b[0;34m\u001b[0m\u001b[0;34m\u001b[0m\u001b[0m\n",
            "\u001b[0;32m/usr/local/lib/python3.10/dist-packages/pandas/io/parsers/readers.py\u001b[0m in \u001b[0;36m_make_engine\u001b[0;34m(self, f, engine)\u001b[0m\n\u001b[1;32m   1659\u001b[0m                 \u001b[0;32mif\u001b[0m \u001b[0;34m\"b\"\u001b[0m \u001b[0;32mnot\u001b[0m \u001b[0;32min\u001b[0m \u001b[0mmode\u001b[0m\u001b[0;34m:\u001b[0m\u001b[0;34m\u001b[0m\u001b[0;34m\u001b[0m\u001b[0m\n\u001b[1;32m   1660\u001b[0m                     \u001b[0mmode\u001b[0m \u001b[0;34m+=\u001b[0m \u001b[0;34m\"b\"\u001b[0m\u001b[0;34m\u001b[0m\u001b[0;34m\u001b[0m\u001b[0m\n\u001b[0;32m-> 1661\u001b[0;31m             self.handles = get_handle(\n\u001b[0m\u001b[1;32m   1662\u001b[0m                 \u001b[0mf\u001b[0m\u001b[0;34m,\u001b[0m\u001b[0;34m\u001b[0m\u001b[0;34m\u001b[0m\u001b[0m\n\u001b[1;32m   1663\u001b[0m                 \u001b[0mmode\u001b[0m\u001b[0;34m,\u001b[0m\u001b[0;34m\u001b[0m\u001b[0;34m\u001b[0m\u001b[0m\n",
            "\u001b[0;32m/usr/local/lib/python3.10/dist-packages/pandas/io/common.py\u001b[0m in \u001b[0;36mget_handle\u001b[0;34m(path_or_buf, mode, encoding, compression, memory_map, is_text, errors, storage_options)\u001b[0m\n\u001b[1;32m    857\u001b[0m         \u001b[0;32mif\u001b[0m \u001b[0mioargs\u001b[0m\u001b[0;34m.\u001b[0m\u001b[0mencoding\u001b[0m \u001b[0;32mand\u001b[0m \u001b[0;34m\"b\"\u001b[0m \u001b[0;32mnot\u001b[0m \u001b[0;32min\u001b[0m \u001b[0mioargs\u001b[0m\u001b[0;34m.\u001b[0m\u001b[0mmode\u001b[0m\u001b[0;34m:\u001b[0m\u001b[0;34m\u001b[0m\u001b[0;34m\u001b[0m\u001b[0m\n\u001b[1;32m    858\u001b[0m             \u001b[0;31m# Encoding\u001b[0m\u001b[0;34m\u001b[0m\u001b[0;34m\u001b[0m\u001b[0m\n\u001b[0;32m--> 859\u001b[0;31m             handle = open(\n\u001b[0m\u001b[1;32m    860\u001b[0m                 \u001b[0mhandle\u001b[0m\u001b[0;34m,\u001b[0m\u001b[0;34m\u001b[0m\u001b[0;34m\u001b[0m\u001b[0m\n\u001b[1;32m    861\u001b[0m                 \u001b[0mioargs\u001b[0m\u001b[0;34m.\u001b[0m\u001b[0mmode\u001b[0m\u001b[0;34m,\u001b[0m\u001b[0;34m\u001b[0m\u001b[0;34m\u001b[0m\u001b[0m\n",
            "\u001b[0;31mFileNotFoundError\u001b[0m: [Errno 2] No such file or directory: '/home/biswajit/data/cmapss_data/test_FD001.txt'"
          ]
        }
      ],
      "source": [
        "#train_data = pd.read_csv(\"/home/biswajit/data/cmapss_data/train_FD001.txt\", sep= \"\\s+\", header = None)\n",
        "#test_data = pd.read_csv(\"/home/biswajit/data/cmapss_data/test_FD001.txt\", sep = \"\\s+\", header = None)\n",
        "#true_rul = pd.read_csv(\"/home/biswajit/data/cmapss_data/RUL_FD001.txt\", sep = '\\s+', header = None)\n",
        "\n",
        "window_length = 30\n",
        "shift = 1\n",
        "early_rul = 1000\n",
        "processed_train_data = []\n",
        "processed_train_targets = []\n",
        "\n",
        "# How many test windows to take for each engine. If set to 1 (this is the default), only last window of test data for\n",
        "# each engine is taken. If set to a different number, that many windows from last are taken.\n",
        "# Final output is the average output of all windows.\n",
        "num_test_windows = 1\n",
        "processed_test_data = []\n",
        "num_test_windows_list = []\n",
        "\n",
        "columns_to_be_dropped = [6,7]\n",
        "\n",
        "train_data_first_column = train_data[0]\n",
        "test_data_first_column = test_data1[0]\n",
        "\n",
        "# Scale data for all engines\n",
        "scaler = StandardScaler()\n",
        "train_data = scaler.fit_transform(train_data.drop(columns = columns_to_be_dropped))\n",
        "test_data = scaler.transform(test_data1.drop(columns = columns_to_be_dropped))\n",
        "\n",
        "train_data = pd.DataFrame(data = np.c_[train_data_first_column, train_data])\n",
        "test_data = pd.DataFrame(data = np.c_[test_data_first_column, test_data])\n",
        "\n",
        "num_train_machines = len(train_data[0].unique())\n",
        "num_test_machines = len(test_data[0].unique())\n",
        "\n",
        "# Process training and test data separately as number of engines in training and test set may be different.\n",
        "# As we are doing scaling for full dataset, we are not bothered by different number of engines in training and test set.\n",
        "\n",
        "# Process training data\n",
        "for i in np.arange(1, num_train_machines + 1):\n",
        "    temp_train_data = train_data[train_data[0] == i].drop(columns = [0]).values\n",
        "\n",
        "    # Verify if data of given window length can be extracted from training data\n",
        "    if (len(temp_train_data) < window_length):\n",
        "        print(\"Train engine {} doesn't have enough data for window_length of {}\".format(i, window_length))\n",
        "        raise AssertionError(\"Window length is larger than number of data points for some engines. \"\n",
        "                             \"Try decreasing window length.\")\n",
        "\n",
        "    temp_train_targets = process_targets(data_length = temp_train_data.shape[0], early_rul = early_rul)\n",
        "    data_for_a_machine, targets_for_a_machine = process_input_data_with_targets(temp_train_data, temp_train_targets,\n",
        "                                                                                window_length = window_length, shift = shift)\n",
        "\n",
        "    processed_train_data.append(data_for_a_machine)\n",
        "    processed_train_targets.append(targets_for_a_machine)\n",
        "\n",
        "processed_train_data = np.concatenate(processed_train_data)\n",
        "processed_train_targets = np.concatenate(processed_train_targets)\n",
        "\n",
        "# Process test data\n",
        "for i in np.arange(1, num_test_machines + 1):\n",
        "    temp_test_data = test_data[test_data[0] == i].drop(columns = [0]).values\n",
        "\n",
        "    # Verify if data of given window length can be extracted from test data\n",
        "    if (len(temp_test_data) < window_length):\n",
        "        print(\"Test engine {} doesn't have enough data for window_length of {}\".format(i, window_length))\n",
        "        raise AssertionError(\"Window length is larger than number of data points for some engines. \"\n",
        "                             \"Try decreasing window length.\")\n",
        "\n",
        "    # Prepare test data\n",
        "    test_data_for_an_engine, num_windows = process_test_data(temp_test_data, window_length = window_length, shift = shift,\n",
        "                                                             num_test_windows = num_test_windows)\n",
        "\n",
        "    processed_test_data.append(test_data_for_an_engine)\n",
        "    num_test_windows_list.append(num_windows)\n",
        "\n",
        "processed_test_data = np.concatenate(processed_test_data)\n",
        "true_rul = true_rul[0].values\n",
        "\n",
        "# Shuffle training data\n",
        "index = np.random.permutation(len(processed_train_targets))\n",
        "processed_train_data, processed_train_targets = processed_train_data[index], processed_train_targets[index]\n",
        "\n",
        "print(\"Processed training data shape: \", processed_train_data.shape)\n",
        "print(\"Processed training rul shape: \", processed_train_targets.shape)\n",
        "print(\"Processed test data shape: \", processed_test_data.shape)\n",
        "print(\"True RUL shape: \", true_rul.shape)"
      ]
    },
    {
      "cell_type": "markdown",
      "metadata": {
        "id": "nxy9lhKwle-h"
      },
      "source": [
        "Now we can use our favorite algorithm to train the model. If we want to change shape of training data, we can change `window_length`, and `shift` to get desired shape of input data. Similarly we can either use linear degradation model of RUL (by setting `early_rul = Null`) or use piecewise linear degradation model by using a suitable value of `early_rul`. If we to scale data differently, we can use a different scaler in place of `MinMaxScaler` or `StandardScaler`.\n",
        "\n",
        "In other notebooks, we will only use the functions to preprocess data and then apply the algorithm. Other notebooks applying different techniques for RUL prediction can be found [here](https://biswajitsahoo1111.github.io/rul_codes_open/)."
      ]
    }
  ],
  "metadata": {
    "interpreter": {
      "hash": "5352277b038e05370ed4135ebde06a9812d987e8dd340db6c4dc30b2be1bb5c1"
    },
    "kernelspec": {
      "display_name": "Python 3",
      "name": "python3"
    },
    "language_info": {
      "codemirror_mode": {
        "name": "ipython",
        "version": 3
      },
      "file_extension": ".py",
      "mimetype": "text/x-python",
      "name": "python",
      "nbconvert_exporter": "python",
      "pygments_lexer": "ipython3",
      "version": "3.8.5"
    },
    "toc": {
      "base_numbering": 1,
      "nav_menu": {},
      "number_sections": false,
      "sideBar": true,
      "skip_h1_title": false,
      "title_cell": "Table of Contents",
      "title_sidebar": "Contents",
      "toc_cell": false,
      "toc_position": {},
      "toc_section_display": true,
      "toc_window_display": false
    },
    "varInspector": {
      "cols": {
        "lenName": 16,
        "lenType": 16,
        "lenVar": 40
      },
      "kernels_config": {
        "python": {
          "delete_cmd_postfix": "",
          "delete_cmd_prefix": "del ",
          "library": "var_list.py",
          "varRefreshCmd": "print(var_dic_list())"
        },
        "r": {
          "delete_cmd_postfix": ") ",
          "delete_cmd_prefix": "rm(",
          "library": "var_list.r",
          "varRefreshCmd": "cat(var_dic_list()) "
        }
      },
      "types_to_exclude": [
        "module",
        "function",
        "builtin_function_or_method",
        "instance",
        "_Feature"
      ],
      "window_display": false
    },
    "colab": {
      "provenance": [],
      "gpuType": "T4"
    },
    "accelerator": "GPU"
  },
  "nbformat": 4,
  "nbformat_minor": 0
}