{
  "nbformat": 4,
  "nbformat_minor": 0,
  "metadata": {
    "colab": {
      "provenance": []
    },
    "kernelspec": {
      "name": "python3",
      "display_name": "Python 3"
    },
    "language_info": {
      "name": "python"
    }
  },
  "cells": [
    {
      "cell_type": "code",
      "execution_count": null,
      "metadata": {
        "colab": {
          "base_uri": "https://localhost:8080/",
          "height": 332
        },
        "id": "WINRySXff1rr",
        "outputId": "9af33269-73e3-4943-85d9-73382b5d0331"
      },
      "outputs": [
        {
          "output_type": "error",
          "ename": "OperationalError",
          "evalue": "no such table: ae_data",
          "traceback": [
            "\u001b[0;31m---------------------------------------------------------------------------\u001b[0m",
            "\u001b[0;31mOperationalError\u001b[0m                          Traceback (most recent call last)",
            "\u001b[0;32m<ipython-input-11-c3cf2ebdec5c>\u001b[0m in \u001b[0;36m<cell line: 31>\u001b[0;34m()\u001b[0m\n\u001b[1;32m     30\u001b[0m \u001b[0;34m\u001b[0m\u001b[0m\n\u001b[1;32m     31\u001b[0m \u001b[0;32mif\u001b[0m \u001b[0m__name__\u001b[0m \u001b[0;34m==\u001b[0m \u001b[0;34m\"__main__\"\u001b[0m\u001b[0;34m:\u001b[0m\u001b[0;34m\u001b[0m\u001b[0;34m\u001b[0m\u001b[0m\n\u001b[0;32m---> 32\u001b[0;31m     \u001b[0mread_last_value_and_plot\u001b[0m\u001b[0;34m(\u001b[0m\u001b[0;34m)\u001b[0m\u001b[0;34m\u001b[0m\u001b[0;34m\u001b[0m\u001b[0m\n\u001b[0m",
            "\u001b[0;32m<ipython-input-11-c3cf2ebdec5c>\u001b[0m in \u001b[0;36mread_last_value_and_plot\u001b[0;34m()\u001b[0m\n\u001b[1;32m     17\u001b[0m \u001b[0;34m\u001b[0m\u001b[0m\n\u001b[1;32m     18\u001b[0m     \u001b[0;32mwhile\u001b[0m \u001b[0;32mTrue\u001b[0m\u001b[0;34m:\u001b[0m\u001b[0;34m\u001b[0m\u001b[0;34m\u001b[0m\u001b[0m\n\u001b[0;32m---> 19\u001b[0;31m         \u001b[0mcursor\u001b[0m\u001b[0;34m.\u001b[0m\u001b[0mexecute\u001b[0m\u001b[0;34m(\u001b[0m\u001b[0;34m\"SELECT * FROM ae_data ORDER BY Time DESC LIMIT 1\"\u001b[0m\u001b[0;34m)\u001b[0m\u001b[0;34m\u001b[0m\u001b[0;34m\u001b[0m\u001b[0m\n\u001b[0m\u001b[1;32m     20\u001b[0m         \u001b[0mrow\u001b[0m \u001b[0;34m=\u001b[0m \u001b[0mcursor\u001b[0m\u001b[0;34m.\u001b[0m\u001b[0mfetchone\u001b[0m\u001b[0;34m(\u001b[0m\u001b[0;34m)\u001b[0m\u001b[0;34m\u001b[0m\u001b[0;34m\u001b[0m\u001b[0m\n\u001b[1;32m     21\u001b[0m         \u001b[0;32mif\u001b[0m \u001b[0mrow\u001b[0m\u001b[0;34m:\u001b[0m\u001b[0;34m\u001b[0m\u001b[0;34m\u001b[0m\u001b[0m\n",
            "\u001b[0;31mOperationalError\u001b[0m: no such table: ae_data"
          ]
        }
      ],
      "source": [
        "import sqlite3\n",
        "import pandas as pd\n",
        "import matplotlib.pyplot as plt\n",
        "import time\n",
        "\n",
        "def plot_last_value(data):\n",
        "    plt.plot(data.index, data['last_value'], marker='o')\n",
        "    plt.xlabel('Time')\n",
        "    plt.ylabel('Last Value')\n",
        "    plt.title('Real-Time Plot of Last Value')\n",
        "    plt.grid(True)\n",
        "    plt.show()\n",
        "\n",
        "def read_last_value_and_plot():\n",
        "    conn = sqlite3.connect('\\\\content\\\\real_time_plotting.pridb')\n",
        "    cursor = conn.cursor()\n",
        "\n",
        "    while True:\n",
        "        cursor.execute(\"SELECT * FROM ae_data ORDER BY Time DESC LIMIT 1\")\n",
        "        row = cursor.fetchone()\n",
        "        if row:\n",
        "            # Assuming 'timestamp_column' and 'value_column' are your column names\n",
        "            timestamp = row[0]\n",
        "            last_value = row[7]\n",
        "            print(f\"Last value at {timestamp}: {last_value}\")\n",
        "            # Plotting\n",
        "            plot_data = pd.DataFrame({'last_value': [last_value]}, index=[timestamp])\n",
        "            plot_last_value(plot_data)\n",
        "        time.sleep(1)  # Adjust the time interval as needed\n",
        "\n",
        "if __name__ == \"__main__\":\n",
        "    read_last_value_and_plot()\n"
      ]
    },
    {
      "cell_type": "code",
      "source": [
        "import sqlite3\n",
        "import pandas as pd\n",
        "import matplotlib.pyplot as plt\n",
        "import time\n",
        "\n",
        "# Define global variables to hold plot and axes objects\n",
        "fig, ax = plt.subplots()\n",
        "plot_data = pd.DataFrame(columns=['last_value'])\n",
        "\n",
        "def update_plot(timestamp, last_value):\n",
        "    global plot_data\n",
        "    plot_data = plot_data.append({'last_value': last_value}, ignore_index=True)\n",
        "    ax.clear()\n",
        "    ax.plot(plot_data.index, plot_data['last_value'], marker='o')\n",
        "    ax.set_xlabel('Time')\n",
        "    ax.set_ylabel('Last Value')\n",
        "    ax.set_title('Real-Time Plot of Last Value')\n",
        "    ax.grid(True)\n",
        "    plt.pause(0.05)  # Pause to allow plot to update\n",
        "\n",
        "def read_last_value_and_plot():\n",
        "    conn = sqlite3.connect('/content/real_time_plotting.pridb')\n",
        "    cursor = conn.cursor()\n",
        "\n",
        "    while True:\n",
        "        cursor.execute(\"SELECT * FROM  'ae_data' ORDER BY SetID DESC LIMIT 1\")\n",
        "        row = cursor.fetchone()\n",
        "        if row:\n",
        "            timestamp = row[0]  # Assuming the first column is the timestamp\n",
        "            last_value = row[7]  # Assuming the second column is the value\n",
        "            print(f\"Last value at {timestamp}: {last_value}\")\n",
        "            update_plot(timestamp, last_value)\n",
        "        time.sleep(5)  # Adjust the time interval as needed\n",
        "\n",
        "if __name__ == \"__main__\":\n",
        "    read_last_value_and_plot()\n"
      ],
      "metadata": {
        "colab": {
          "base_uri": "https://localhost:8080/",
          "height": 1000
        },
        "id": "n5Ve-El0jZY1",
        "outputId": "995e0de9-3094-43c2-a1c2-c976dc7e0b2d"
      },
      "execution_count": null,
      "outputs": [
        {
          "output_type": "stream",
          "name": "stdout",
          "text": [
            "Last value at 716: None\n"
          ]
        },
        {
          "output_type": "stream",
          "name": "stderr",
          "text": [
            "<ipython-input-15-92263f2e7553>:12: FutureWarning: The frame.append method is deprecated and will be removed from pandas in a future version. Use pandas.concat instead.\n",
            "  plot_data = plot_data.append({'last_value': last_value}, ignore_index=True)\n"
          ]
        },
        {
          "output_type": "display_data",
          "data": {
            "text/plain": [
              "<Figure size 640x480 with 1 Axes>"
            ],
            "image/png": "[encoded data removed]"
          },
          "metadata": {}
        },
        {
          "output_type": "stream",
          "name": "stdout",
          "text": [
            "Last value at 716: None\n"
          ]
        },
        {
          "output_type": "stream",
          "name": "stderr",
          "text": [
            "<ipython-input-15-92263f2e7553>:12: FutureWarning: The frame.append method is deprecated and will be removed from pandas in a future version. Use pandas.concat instead.\n",
            "  plot_data = plot_data.append({'last_value': last_value}, ignore_index=True)\n"
          ]
        },
        {
          "output_type": "stream",
          "name": "stdout",
          "text": [
            "Last value at 716: None\n"
          ]
        },
        {
          "output_type": "stream",
          "name": "stderr",
          "text": [
            "<ipython-input-15-92263f2e7553>:12: FutureWarning: The frame.append method is deprecated and will be removed from pandas in a future version. Use pandas.concat instead.\n",
            "  plot_data = plot_data.append({'last_value': last_value}, ignore_index=True)\n"
          ]
        },
        {
          "output_type": "stream",
          "name": "stdout",
          "text": [
            "Last value at 716: None\n"
          ]
        },
        {
          "output_type": "stream",
          "name": "stderr",
          "text": [
            "<ipython-input-15-92263f2e7553>:12: FutureWarning: The frame.append method is deprecated and will be removed from pandas in a future version. Use pandas.concat instead.\n",
            "  plot_data = plot_data.append({'last_value': last_value}, ignore_index=True)\n"
          ]
        },
        {
          "output_type": "stream",
          "name": "stdout",
          "text": [
            "Last value at 716: None\n"
          ]
        },
        {
          "output_type": "stream",
          "name": "stderr",
          "text": [
            "<ipython-input-15-92263f2e7553>:12: FutureWarning: The frame.append method is deprecated and will be removed from pandas in a future version. Use pandas.concat instead.\n",
            "  plot_data = plot_data.append({'last_value': last_value}, ignore_index=True)\n"
          ]
        },
        {
          "output_type": "stream",
          "name": "stdout",
          "text": [
            "Last value at 716: None\n"
          ]
        },
        {
          "output_type": "stream",
          "name": "stderr",
          "text": [
            "<ipython-input-15-92263f2e7553>:12: FutureWarning: The frame.append method is deprecated and will be removed from pandas in a future version. Use pandas.concat instead.\n",
            "  plot_data = plot_data.append({'last_value': last_value}, ignore_index=True)\n"
          ]
        },
        {
          "output_type": "stream",
          "name": "stdout",
          "text": [
            "Last value at 716: None\n"
          ]
        },
        {
          "output_type": "stream",
          "name": "stderr",
          "text": [
            "<ipython-input-15-92263f2e7553>:12: FutureWarning: The frame.append method is deprecated and will be removed from pandas in a future version. Use pandas.concat instead.\n",
            "  plot_data = plot_data.append({'last_value': last_value}, ignore_index=True)\n"
          ]
        },
        {
          "output_type": "stream",
          "name": "stdout",
          "text": [
            "Last value at 716: None\n"
          ]
        },
        {
          "output_type": "stream",
          "name": "stderr",
          "text": [
            "<ipython-input-15-92263f2e7553>:12: FutureWarning: The frame.append method is deprecated and will be removed from pandas in a future version. Use pandas.concat instead.\n",
            "  plot_data = plot_data.append({'last_value': last_value}, ignore_index=True)\n"
          ]
        },
        {
          "output_type": "stream",
          "name": "stdout",
          "text": [
            "Last value at 716: None\n"
          ]
        },
        {
          "output_type": "stream",
          "name": "stderr",
          "text": [
            "<ipython-input-15-92263f2e7553>:12: FutureWarning: The frame.append method is deprecated and will be removed from pandas in a future version. Use pandas.concat instead.\n",
            "  plot_data = plot_data.append({'last_value': last_value}, ignore_index=True)\n"
          ]
        },
        {
          "output_type": "error",
          "ename": "KeyboardInterrupt",
          "evalue": "",
          "traceback": [
            "\u001b[0;31m---------------------------------------------------------------------------\u001b[0m",
            "\u001b[0;31mKeyboardInterrupt\u001b[0m                         Traceback (most recent call last)",
            "\u001b[0;32m<ipython-input-15-92263f2e7553>\u001b[0m in \u001b[0;36m<cell line: 35>\u001b[0;34m()\u001b[0m\n\u001b[1;32m     34\u001b[0m \u001b[0;34m\u001b[0m\u001b[0m\n\u001b[1;32m     35\u001b[0m \u001b[0;32mif\u001b[0m \u001b[0m__name__\u001b[0m \u001b[0;34m==\u001b[0m \u001b[0;34m\"__main__\"\u001b[0m\u001b[0;34m:\u001b[0m\u001b[0;34m\u001b[0m\u001b[0;34m\u001b[0m\u001b[0m\n\u001b[0;32m---> 36\u001b[0;31m     \u001b[0mread_last_value_and_plot\u001b[0m\u001b[0;34m(\u001b[0m\u001b[0;34m)\u001b[0m\u001b[0;34m\u001b[0m\u001b[0;34m\u001b[0m\u001b[0m\n\u001b[0m",
            "\u001b[0;32m<ipython-input-15-92263f2e7553>\u001b[0m in \u001b[0;36mread_last_value_and_plot\u001b[0;34m()\u001b[0m\n\u001b[1;32m     31\u001b[0m             \u001b[0mprint\u001b[0m\u001b[0;34m(\u001b[0m\u001b[0;34mf\"Last value at {timestamp}: {last_value}\"\u001b[0m\u001b[0;34m)\u001b[0m\u001b[0;34m\u001b[0m\u001b[0;34m\u001b[0m\u001b[0m\n\u001b[1;32m     32\u001b[0m             \u001b[0mupdate_plot\u001b[0m\u001b[0;34m(\u001b[0m\u001b[0mtimestamp\u001b[0m\u001b[0;34m,\u001b[0m \u001b[0mlast_value\u001b[0m\u001b[0;34m)\u001b[0m\u001b[0;34m\u001b[0m\u001b[0;34m\u001b[0m\u001b[0m\n\u001b[0;32m---> 33\u001b[0;31m         \u001b[0mtime\u001b[0m\u001b[0;34m.\u001b[0m\u001b[0msleep\u001b[0m\u001b[0;34m(\u001b[0m\u001b[0;36m5\u001b[0m\u001b[0;34m)\u001b[0m  \u001b[0;31m# Adjust the time interval as needed\u001b[0m\u001b[0;34m\u001b[0m\u001b[0;34m\u001b[0m\u001b[0m\n\u001b[0m\u001b[1;32m     34\u001b[0m \u001b[0;34m\u001b[0m\u001b[0m\n\u001b[1;32m     35\u001b[0m \u001b[0;32mif\u001b[0m \u001b[0m__name__\u001b[0m \u001b[0;34m==\u001b[0m \u001b[0;34m\"__main__\"\u001b[0m\u001b[0;34m:\u001b[0m\u001b[0;34m\u001b[0m\u001b[0;34m\u001b[0m\u001b[0m\n",
            "\u001b[0;31mKeyboardInterrupt\u001b[0m: "
          ]
        }
      ]
    },
    {
      "cell_type": "code",
      "source": [
        "# Importing Sqlite3 Module\n",
        "import sqlite3\n",
        "\n",
        "try:\n",
        "\n",
        "\t# Making a connection between sqlite3\n",
        "\t# database and Python Program\n",
        "\tsqliteConnection = sqlite3.connect('/content/real_time_plotting.pridb')\n",
        "\n",
        "\t# If sqlite3 makes a connection with python\n",
        "\t# program then it will print \"Connected to SQLite\"\n",
        "\t# Otherwise it will show errors\n",
        "\tprint(\"Connected to SQLite\")\n",
        "\n",
        "\t# Getting all tables from sqlite_master\n",
        "\tsql_query = \"\"\"SELECT name FROM sqlite_master\n",
        "\tWHERE type='table';\"\"\"\n",
        "\n",
        "\t# Creating cursor object using connection object\n",
        "\tcursor = sqliteConnection.cursor()\n",
        "\n",
        "\t# executing our sql query\n",
        "\tcursor.execute(sql_query)\n",
        "\tprint(\"List of tables\\n\")\n",
        "\n",
        "\t# printing all tables list\n",
        "\tprint(cursor.fetchall())\n",
        "\n",
        "except sqlite3.Error as error:\n",
        "\tprint(\"Failed to execute the above query\", error)\n",
        "\n",
        "finally:\n",
        "\n",
        "\t# Inside Finally Block, If connection is\n",
        "\t# open, we need to close it\n",
        "\tif sqliteConnection:\n",
        "\n",
        "\t\t# using close() method, we will close\n",
        "\t\t# the connection\n",
        "\t\tsqliteConnection.close()\n",
        "\n",
        "\t\t# After closing connection object, we\n",
        "\t\t# will print \"the sqlite connection is\n",
        "\t\t# closed\"\n",
        "\t\tprint(\"the sqlite connection is closed\")\n"
      ],
      "metadata": {
        "colab": {
          "base_uri": "https://localhost:8080/"
        },
        "id": "A6C39fg1l7lr",
        "outputId": "68035d81-a99f-4c0e-ccbd-cdbb3e697131"
      },
      "execution_count": null,
      "outputs": [
        {
          "output_type": "stream",
          "name": "stdout",
          "text": [
            "Connected to SQLite\n",
            "List of tables\n",
            "\n",
            "[('ae_data',), ('acq_setup',), ('ae_markers',), ('ae_globalinfo',), ('ae_fieldinfo',), ('ae_params',), ('data_integrity',)]\n",
            "the sqlite connection is closed\n"
          ]
        }
      ]
    }
  ]
}